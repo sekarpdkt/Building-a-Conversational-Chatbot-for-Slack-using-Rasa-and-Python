{
  "nbformat": 4,
  "nbformat_minor": 0,
  "metadata": {
    "colab": {
      "name": "Conversational_Chatbot.ipynb",
      "version": "0.3.2",
      "provenance": [],
      "include_colab_link": true
    },
    "kernelspec": {
      "name": "python3",
      "display_name": "Python 3"
    },
    "accelerator": "GPU"
  },
  "cells": [
    {
      "cell_type": "markdown",
      "metadata": {
        "id": "view-in-github",
        "colab_type": "text"
      },
      "source": [
        "<a href=\"https://colab.research.google.com/github/sekarpdkt/Building-a-Conversational-Chatbot-for-Slack-using-Rasa-and-Python/blob/master/Notebook/intentClassificationUsing-Rasa.ipynb\" target=\"_parent\"><img src=\"https://colab.research.google.com/assets/colab-badge.svg\" alt=\"Open In Colab\"/></a>"
      ]
    },
    {
      "cell_type": "markdown",
      "metadata": {
        "id": "3oxVq6vQ76r7",
        "colab_type": "text"
      },
      "source": [
        "# Building a Conversational Chatbot for Slack using Rasa and Python -Part 1"
      ]
    },
    {
      "cell_type": "markdown",
      "metadata": {
        "id": "kIFYA-Kp8aK4",
        "colab_type": "text"
      },
      "source": [
        "## Starting Jupyter Notebook with necessary imports"
      ]
    },
    {
      "cell_type": "code",
      "metadata": {
        "id": "R0_7gOmu0r3v",
        "colab_type": "code",
        "colab": {}
      },
      "source": [
        "%matplotlib inline\n",
        "\n",
        "import logging, io, json, warnings\n",
        "logging.basicConfig(level=\"INFO\")\n",
        "warnings.filterwarnings('ignore')\n",
        "\n"
      ],
      "execution_count": 0,
      "outputs": []
    },
    {
      "cell_type": "markdown",
      "metadata": {
        "id": "IVAF41hr8jU5",
        "colab_type": "text"
      },
      "source": [
        "# Installations\n",
        "* Rasa NLU\n",
        "* Rasa Core\n",
        "* SpaCy Language Model"
      ]
    },
    {
      "cell_type": "code",
      "metadata": {
        "id": "UsvAOHF_1dAY",
        "colab_type": "code",
        "outputId": "12807093-78e2-449b-d7e9-9fc689986cab",
        "colab": {
          "base_uri": "https://localhost:8080/",
          "height": 1000
        }
      },
      "source": [
        "import sys\n",
        "python = sys.executable\n",
        "\n",
        "!{python} -m pip install  rasa_core rasa_nlu sklearn_crfsuite"
      ],
      "execution_count": 8,
      "outputs": [
        {
          "output_type": "stream",
          "text": [
            "Requirement already satisfied: rasa_core in /usr/local/lib/python3.6/dist-packages (0.14.5)\n",
            "Requirement already satisfied: rasa_nlu in /usr/local/lib/python3.6/dist-packages (0.15.1)\n",
            "Collecting sklearn_crfsuite\n",
            "  Downloading https://files.pythonhosted.org/packages/25/74/5b7befa513482e6dee1f3dd68171a6c9dfc14c0eaa00f885ffeba54fe9b0/sklearn_crfsuite-0.3.6-py2.py3-none-any.whl\n",
            "Requirement already satisfied: tensorflow~=1.13.0 in /usr/local/lib/python3.6/dist-packages (from rasa_core) (1.13.2)\n",
            "Requirement already satisfied: jsonschema~=2.6 in /usr/local/lib/python3.6/dist-packages (from rasa_core) (2.6.0)\n",
            "Requirement already satisfied: ruamel.yaml~=0.15.0 in /usr/local/lib/python3.6/dist-packages (from rasa_core) (0.15.100)\n",
            "Requirement already satisfied: rasa-core-sdk~=0.14 in /usr/local/lib/python3.6/dist-packages (from rasa_core) (0.14.0)\n",
            "Requirement already satisfied: mattermostwrapper~=2.0 in /usr/local/lib/python3.6/dist-packages (from rasa_core) (2.1)\n",
            "Requirement already satisfied: typing~=3.0 in /usr/local/lib/python3.6/dist-packages (from rasa_core) (3.7.4)\n",
            "Requirement already satisfied: python-telegram-bot~=11.0 in /usr/local/lib/python3.6/dist-packages (from rasa_core) (11.1.0)\n",
            "Requirement already satisfied: colorhash~=1.0 in /usr/local/lib/python3.6/dist-packages (from rasa_core) (1.0.2)\n",
            "Requirement already satisfied: scipy~=1.2 in /usr/local/lib/python3.6/dist-packages (from rasa_core) (1.3.0)\n",
            "Requirement already satisfied: pydot~=1.4 in /usr/local/lib/python3.6/dist-packages (from rasa_core) (1.4.1)\n",
            "Requirement already satisfied: apscheduler~=3.0 in /usr/local/lib/python3.6/dist-packages (from rasa_core) (3.6.1)\n",
            "Requirement already satisfied: pytz~=2018.9 in /usr/local/lib/python3.6/dist-packages (from rasa_core) (2018.9)\n",
            "Requirement already satisfied: flask-cors~=3.0 in /usr/local/lib/python3.6/dist-packages (from rasa_core) (3.0.8)\n",
            "Requirement already satisfied: scikit-learn~=0.20.0 in /usr/local/lib/python3.6/dist-packages (from rasa_core) (0.20.4)\n",
            "Requirement already satisfied: networkx~=2.2 in /usr/local/lib/python3.6/dist-packages (from rasa_core) (2.3)\n",
            "Requirement already satisfied: redis~=2.0 in /usr/local/lib/python3.6/dist-packages (from rasa_core) (2.10.6)\n",
            "Requirement already satisfied: tqdm~=4.0 in /usr/local/lib/python3.6/dist-packages (from rasa_core) (4.28.1)\n",
            "Requirement already satisfied: questionary>=1.0.1 in /usr/local/lib/python3.6/dist-packages (from rasa_core) (1.2.0)\n",
            "Requirement already satisfied: flask-jwt-simple~=0.0.3 in /usr/local/lib/python3.6/dist-packages (from rasa_core) (0.0.3)\n",
            "Requirement already satisfied: gevent~=1.3 in /usr/local/lib/python3.6/dist-packages (from rasa_core) (1.4.0)\n",
            "Requirement already satisfied: pykwalify~=1.7.0 in /usr/local/lib/python3.6/dist-packages (from rasa_core) (1.7.0)\n",
            "Requirement already satisfied: terminaltables~=3.1 in /usr/local/lib/python3.6/dist-packages (from rasa_core) (3.1.0)\n",
            "Requirement already satisfied: fbmessenger~=5.0 in /usr/local/lib/python3.6/dist-packages (from rasa_core) (5.6.0)\n",
            "Requirement already satisfied: webexteamssdk~=1.0 in /usr/local/lib/python3.6/dist-packages (from rasa_core) (1.1.1)\n",
            "Requirement already satisfied: python-dateutil~=2.7 in /usr/local/lib/python3.6/dist-packages (from rasa_core) (2.8.0)\n",
            "Requirement already satisfied: slackclient~=1.0 in /usr/local/lib/python3.6/dist-packages (from rasa_core) (1.3.2)\n",
            "Requirement already satisfied: pika~=0.12.0 in /usr/local/lib/python3.6/dist-packages (from rasa_core) (0.12.0)\n",
            "Requirement already satisfied: fakeredis~=0.10.0 in /usr/local/lib/python3.6/dist-packages (from rasa_core) (0.10.3)\n",
            "Requirement already satisfied: twilio~=6.0 in /usr/local/lib/python3.6/dist-packages (from rasa_core) (6.29.2)\n",
            "Requirement already satisfied: jsonpickle~=1.0 in /usr/local/lib/python3.6/dist-packages (from rasa_core) (1.2)\n",
            "Requirement already satisfied: rocketchat-API~=0.6.0 in /usr/local/lib/python3.6/dist-packages (from rasa_core) (0.6.34)\n",
            "Requirement already satisfied: colorclass~=2.2 in /usr/local/lib/python3.6/dist-packages (from rasa_core) (2.2.0)\n",
            "Requirement already satisfied: python-socketio~=3.0 in /usr/local/lib/python3.6/dist-packages (from rasa_core) (3.1.2)\n",
            "Requirement already satisfied: pymongo~=3.7 in /usr/local/lib/python3.6/dist-packages (from rasa_core) (3.8.0)\n",
            "Requirement already satisfied: numpy~=1.16 in /usr/local/lib/python3.6/dist-packages (from rasa_core) (1.16.4)\n",
            "Requirement already satisfied: requests~=2.20 in /usr/local/lib/python3.6/dist-packages (from rasa_core) (2.21.0)\n",
            "Requirement already satisfied: packaging~=18.0 in /usr/local/lib/python3.6/dist-packages (from rasa_core) (18.0)\n",
            "Requirement already satisfied: flask~=1.0 in /usr/local/lib/python3.6/dist-packages (from rasa_core) (1.1.1)\n",
            "Requirement already satisfied: coloredlogs~=10.0 in /usr/local/lib/python3.6/dist-packages (from rasa_core) (10.0)\n",
            "Requirement already satisfied: simplejson~=3.13 in /usr/local/lib/python3.6/dist-packages (from rasa_nlu) (3.16.0)\n",
            "Requirement already satisfied: klein~=17.10 in /usr/local/lib/python3.6/dist-packages (from rasa_nlu) (17.10.0)\n",
            "Requirement already satisfied: boto3~=1.9 in /usr/local/lib/python3.6/dist-packages (from rasa_nlu) (1.9.189)\n",
            "Requirement already satisfied: future~=0.17.1 in /usr/local/lib/python3.6/dist-packages (from rasa_nlu) (0.17.1)\n",
            "Requirement already satisfied: cloudpickle~=0.6.1 in /usr/local/lib/python3.6/dist-packages (from rasa_nlu) (0.6.1)\n",
            "Requirement already satisfied: matplotlib~=2.2 in /usr/local/lib/python3.6/dist-packages (from rasa_nlu) (2.2.4)\n",
            "Requirement already satisfied: six in /usr/local/lib/python3.6/dist-packages (from sklearn_crfsuite) (1.12.0)\n",
            "Collecting python-crfsuite>=0.8.3 (from sklearn_crfsuite)\n",
            "\u001b[?25l  Downloading https://files.pythonhosted.org/packages/2f/86/cfcd71edca9d25d3d331209a20f6314b6f3f134c29478f90559cee9ce091/python_crfsuite-0.9.6-cp36-cp36m-manylinux1_x86_64.whl (754kB)\n",
            "\u001b[K     |████████████████████████████████| 757kB 33.7MB/s \n",
            "\u001b[?25hRequirement already satisfied: tabulate in /usr/local/lib/python3.6/dist-packages (from sklearn_crfsuite) (0.8.3)\n",
            "Requirement already satisfied: tensorflow-estimator<1.14.0rc0,>=1.13.0 in /usr/local/lib/python3.6/dist-packages (from tensorflow~=1.13.0->rasa_core) (1.13.0)\n",
            "Requirement already satisfied: protobuf>=3.6.1 in /usr/local/lib/python3.6/dist-packages (from tensorflow~=1.13.0->rasa_core) (3.7.1)\n",
            "Requirement already satisfied: absl-py>=0.1.6 in /usr/local/lib/python3.6/dist-packages (from tensorflow~=1.13.0->rasa_core) (0.7.1)\n",
            "Requirement already satisfied: grpcio>=1.8.6 in /usr/local/lib/python3.6/dist-packages (from tensorflow~=1.13.0->rasa_core) (1.15.0)\n",
            "Requirement already satisfied: gast>=0.2.0 in /usr/local/lib/python3.6/dist-packages (from tensorflow~=1.13.0->rasa_core) (0.2.2)\n",
            "Requirement already satisfied: termcolor>=1.1.0 in /usr/local/lib/python3.6/dist-packages (from tensorflow~=1.13.0->rasa_core) (1.1.0)\n",
            "Requirement already satisfied: wheel>=0.26 in /usr/local/lib/python3.6/dist-packages (from tensorflow~=1.13.0->rasa_core) (0.33.4)\n",
            "Requirement already satisfied: tensorboard<1.14.0,>=1.13.0 in /usr/local/lib/python3.6/dist-packages (from tensorflow~=1.13.0->rasa_core) (1.13.1)\n",
            "Requirement already satisfied: keras-preprocessing>=1.0.5 in /usr/local/lib/python3.6/dist-packages (from tensorflow~=1.13.0->rasa_core) (1.1.0)\n",
            "Requirement already satisfied: keras-applications>=1.0.6 in /usr/local/lib/python3.6/dist-packages (from tensorflow~=1.13.0->rasa_core) (1.0.8)\n",
            "Requirement already satisfied: astor>=0.6.0 in /usr/local/lib/python3.6/dist-packages (from tensorflow~=1.13.0->rasa_core) (0.8.0)\n",
            "Requirement already satisfied: ConfigArgParse~=0.13.0 in /usr/local/lib/python3.6/dist-packages (from rasa-core-sdk~=0.14->rasa_core) (0.13.0)\n",
            "Requirement already satisfied: cryptography in /usr/local/lib/python3.6/dist-packages (from python-telegram-bot~=11.0->rasa_core) (2.7)\n",
            "Requirement already satisfied: certifi in /usr/local/lib/python3.6/dist-packages (from python-telegram-bot~=11.0->rasa_core) (2019.6.16)\n",
            "Requirement already satisfied: pyparsing>=2.1.4 in /usr/local/lib/python3.6/dist-packages (from pydot~=1.4->rasa_core) (2.4.0)\n",
            "Requirement already satisfied: setuptools>=0.7 in /usr/local/lib/python3.6/dist-packages (from apscheduler~=3.0->rasa_core) (41.0.1)\n",
            "Requirement already satisfied: tzlocal>=1.2 in /usr/local/lib/python3.6/dist-packages (from apscheduler~=3.0->rasa_core) (1.5.1)\n",
            "Requirement already satisfied: decorator>=4.3.0 in /usr/local/lib/python3.6/dist-packages (from networkx~=2.2->rasa_core) (4.4.0)\n",
            "Requirement already satisfied: prompt-toolkit~=2.0 in /usr/local/lib/python3.6/dist-packages (from questionary>=1.0.1->rasa_core) (2.0.9)\n",
            "Requirement already satisfied: PyJWT in /usr/local/lib/python3.6/dist-packages (from flask-jwt-simple~=0.0.3->rasa_core) (1.7.1)\n",
            "Requirement already satisfied: greenlet>=0.4.14; platform_python_implementation == \"CPython\" in /usr/local/lib/python3.6/dist-packages (from gevent~=1.3->rasa_core) (0.4.15)\n",
            "Requirement already satisfied: PyYAML>=3.11 in /usr/local/lib/python3.6/dist-packages (from pykwalify~=1.7.0->rasa_core) (3.13)\n",
            "Requirement already satisfied: docopt>=0.6.2 in /usr/local/lib/python3.6/dist-packages (from pykwalify~=1.7.0->rasa_core) (0.6.2)\n",
            "Requirement already satisfied: requests-toolbelt in /usr/local/lib/python3.6/dist-packages (from webexteamssdk~=1.0->rasa_core) (0.9.1)\n",
            "Requirement already satisfied: websocket-client<0.55.0,>=0.35 in /usr/local/lib/python3.6/dist-packages (from slackclient~=1.0->rasa_core) (0.54.0)\n",
            "Requirement already satisfied: pysocks; python_version >= \"3.0\" in /usr/local/lib/python3.6/dist-packages (from twilio~=6.0->rasa_core) (1.7.0)\n",
            "Requirement already satisfied: python-engineio>=3.2.0 in /usr/local/lib/python3.6/dist-packages (from python-socketio~=3.0->rasa_core) (3.9.0)\n",
            "Requirement already satisfied: urllib3<1.25,>=1.21.1 in /usr/local/lib/python3.6/dist-packages (from requests~=2.20->rasa_core) (1.24.3)\n",
            "Requirement already satisfied: chardet<3.1.0,>=3.0.2 in /usr/local/lib/python3.6/dist-packages (from requests~=2.20->rasa_core) (3.0.4)\n",
            "Requirement already satisfied: idna<2.9,>=2.5 in /usr/local/lib/python3.6/dist-packages (from requests~=2.20->rasa_core) (2.8)\n",
            "Requirement already satisfied: click>=5.1 in /usr/local/lib/python3.6/dist-packages (from flask~=1.0->rasa_core) (7.0)\n",
            "Requirement already satisfied: Werkzeug>=0.15 in /usr/local/lib/python3.6/dist-packages (from flask~=1.0->rasa_core) (0.15.5)\n",
            "Requirement already satisfied: Jinja2>=2.10.1 in /usr/local/lib/python3.6/dist-packages (from flask~=1.0->rasa_core) (2.10.1)\n",
            "Requirement already satisfied: itsdangerous>=0.24 in /usr/local/lib/python3.6/dist-packages (from flask~=1.0->rasa_core) (1.1.0)\n",
            "Requirement already satisfied: humanfriendly>=4.7 in /usr/local/lib/python3.6/dist-packages (from coloredlogs~=10.0->rasa_core) (4.18)\n",
            "Requirement already satisfied: incremental in /usr/local/lib/python3.6/dist-packages (from klein~=17.10->rasa_nlu) (17.5.0)\n",
            "Requirement already satisfied: Twisted>=15.5 in /usr/local/lib/python3.6/dist-packages (from klein~=17.10->rasa_nlu) (19.2.1)\n",
            "Requirement already satisfied: s3transfer<0.3.0,>=0.2.0 in /usr/local/lib/python3.6/dist-packages (from boto3~=1.9->rasa_nlu) (0.2.1)\n",
            "Requirement already satisfied: botocore<1.13.0,>=1.12.189 in /usr/local/lib/python3.6/dist-packages (from boto3~=1.9->rasa_nlu) (1.12.189)\n",
            "Requirement already satisfied: jmespath<1.0.0,>=0.7.1 in /usr/local/lib/python3.6/dist-packages (from boto3~=1.9->rasa_nlu) (0.9.4)\n",
            "Requirement already satisfied: kiwisolver>=1.0.1 in /usr/local/lib/python3.6/dist-packages (from matplotlib~=2.2->rasa_nlu) (1.1.0)\n",
            "Requirement already satisfied: cycler>=0.10 in /usr/local/lib/python3.6/dist-packages (from matplotlib~=2.2->rasa_nlu) (0.10.0)\n",
            "Requirement already satisfied: mock>=2.0.0 in /usr/local/lib/python3.6/dist-packages (from tensorflow-estimator<1.14.0rc0,>=1.13.0->tensorflow~=1.13.0->rasa_core) (3.0.5)\n",
            "Requirement already satisfied: markdown>=2.6.8 in /usr/local/lib/python3.6/dist-packages (from tensorboard<1.14.0,>=1.13.0->tensorflow~=1.13.0->rasa_core) (3.1.1)\n",
            "Requirement already satisfied: h5py in /usr/local/lib/python3.6/dist-packages (from keras-applications>=1.0.6->tensorflow~=1.13.0->rasa_core) (2.8.0)\n",
            "Requirement already satisfied: cffi!=1.11.3,>=1.8 in /usr/local/lib/python3.6/dist-packages (from cryptography->python-telegram-bot~=11.0->rasa_core) (1.12.3)\n",
            "Requirement already satisfied: asn1crypto>=0.21.0 in /usr/local/lib/python3.6/dist-packages (from cryptography->python-telegram-bot~=11.0->rasa_core) (0.24.0)\n",
            "Requirement already satisfied: wcwidth in /usr/local/lib/python3.6/dist-packages (from prompt-toolkit~=2.0->questionary>=1.0.1->rasa_core) (0.1.7)\n",
            "Requirement already satisfied: MarkupSafe>=0.23 in /usr/local/lib/python3.6/dist-packages (from Jinja2>=2.10.1->flask~=1.0->rasa_core) (1.1.1)\n",
            "Requirement already satisfied: Automat>=0.3.0 in /usr/local/lib/python3.6/dist-packages (from Twisted>=15.5->klein~=17.10->rasa_nlu) (0.7.0)\n",
            "Requirement already satisfied: zope.interface>=4.4.2 in /usr/local/lib/python3.6/dist-packages (from Twisted>=15.5->klein~=17.10->rasa_nlu) (4.6.0)\n",
            "Requirement already satisfied: hyperlink>=17.1.1 in /usr/local/lib/python3.6/dist-packages (from Twisted>=15.5->klein~=17.10->rasa_nlu) (19.0.0)\n",
            "Requirement already satisfied: constantly>=15.1 in /usr/local/lib/python3.6/dist-packages (from Twisted>=15.5->klein~=17.10->rasa_nlu) (15.1.0)\n",
            "Requirement already satisfied: PyHamcrest>=1.9.0 in /usr/local/lib/python3.6/dist-packages (from Twisted>=15.5->klein~=17.10->rasa_nlu) (1.9.0)\n",
            "Requirement already satisfied: attrs>=17.4.0 in /usr/local/lib/python3.6/dist-packages (from Twisted>=15.5->klein~=17.10->rasa_nlu) (19.1.0)\n",
            "Requirement already satisfied: docutils>=0.10 in /usr/local/lib/python3.6/dist-packages (from botocore<1.13.0,>=1.12.189->boto3~=1.9->rasa_nlu) (0.14)\n",
            "Requirement already satisfied: pycparser in /usr/local/lib/python3.6/dist-packages (from cffi!=1.11.3,>=1.8->cryptography->python-telegram-bot~=11.0->rasa_core) (2.19)\n",
            "Installing collected packages: python-crfsuite, sklearn-crfsuite\n",
            "Successfully installed python-crfsuite-0.9.6 sklearn-crfsuite-0.3.6\n"
          ],
          "name": "stdout"
        }
      ]
    },
    {
      "cell_type": "markdown",
      "metadata": {
        "id": "v7JQlbqR9CHC",
        "colab_type": "text"
      },
      "source": [
        "## Downloading the English Language Model"
      ]
    },
    {
      "cell_type": "code",
      "metadata": {
        "id": "b5KLWYoqvfwE",
        "colab_type": "code",
        "colab": {
          "base_uri": "https://localhost:8080/",
          "height": 293
        },
        "outputId": "2e4e6dcf-fcf9-401d-8dfc-cd476218a1b4"
      },
      "source": [
        "!{python} -m spacy download en_core_web_md\n",
        "!{python} -m spacy link en_core_web_md en --force;"
      ],
      "execution_count": 3,
      "outputs": [
        {
          "output_type": "stream",
          "text": [
            "Collecting en_core_web_md==2.1.0 from https://github.com/explosion/spacy-models/releases/download/en_core_web_md-2.1.0/en_core_web_md-2.1.0.tar.gz#egg=en_core_web_md==2.1.0\n",
            "\u001b[?25l  Downloading https://github.com/explosion/spacy-models/releases/download/en_core_web_md-2.1.0/en_core_web_md-2.1.0.tar.gz (95.4MB)\n",
            "\u001b[K     |████████████████████████████████| 95.4MB 1.3MB/s \n",
            "\u001b[?25hBuilding wheels for collected packages: en-core-web-md\n",
            "  Building wheel for en-core-web-md (setup.py) ... \u001b[?25l\u001b[?25hdone\n",
            "  Stored in directory: /tmp/pip-ephem-wheel-cache-um0kuh4e/wheels/c1/2c/5f/fd7f3ec336bf97b0809c86264d2831c5dfb00fc2e239d1bb01\n",
            "Successfully built en-core-web-md\n",
            "Installing collected packages: en-core-web-md\n",
            "Successfully installed en-core-web-md-2.1.0\n",
            "\u001b[38;5;2m✔ Download and installation successful\u001b[0m\n",
            "You can now load the model via spacy.load('en_core_web_md')\n",
            "\u001b[38;5;2m✔ Linking successful\u001b[0m\n",
            "/usr/local/lib/python3.6/dist-packages/en_core_web_md -->\n",
            "/usr/local/lib/python3.6/dist-packages/spacy/data/en\n",
            "You can now load the model via spacy.load('en')\n"
          ],
          "name": "stdout"
        }
      ]
    },
    {
      "cell_type": "markdown",
      "metadata": {
        "id": "yHYeAA859JGq",
        "colab_type": "text"
      },
      "source": [
        "# Importing the Installations"
      ]
    },
    {
      "cell_type": "code",
      "metadata": {
        "id": "TSw6zFmk3iPu",
        "colab_type": "code",
        "colab": {}
      },
      "source": [
        "import rasa_nlu\n",
        "import rasa_core\n",
        "import spacy\n",
        "\n",
        "\n"
      ],
      "execution_count": 0,
      "outputs": []
    },
    {
      "cell_type": "markdown",
      "metadata": {
        "id": "aEw5vhSq9gWa",
        "colab_type": "text"
      },
      "source": [
        "# 1. Teaching the bot to understand user inputs using Rasa NLU"
      ]
    },
    {
      "cell_type": "markdown",
      "metadata": {
        "id": "oDEAOmaI9o4a",
        "colab_type": "text"
      },
      "source": [
        "## Preparing the NLU Training Data"
      ]
    },
    {
      "cell_type": "code",
      "metadata": {
        "id": "RPxeQ1_14CjK",
        "colab_type": "code",
        "outputId": "0d7c417a-437d-40f0-857a-10b0268bfcbf",
        "colab": {
          "base_uri": "https://localhost:8080/",
          "height": 35
        }
      },
      "source": [
        "nlu_md = \"\"\"\n",
        "## intent:greet\n",
        "- hey\n",
        "- hello there\n",
        "- hi\n",
        "- hello there\n",
        "- good morning\n",
        "- good evening\n",
        "- moin\n",
        "- hey there\n",
        "- let's go\n",
        "- hey dude\n",
        "- goodmorning\n",
        "- goodevening\n",
        "- good afternoon\n",
        "\n",
        "## intent:goodbye\n",
        "- cu\n",
        "- good by\n",
        "- cee you later\n",
        "- good night\n",
        "- good afternoon\n",
        "- bye\n",
        "- goodbye\n",
        "- have a nice day\n",
        "- see you around\n",
        "- bye bye\n",
        "- see you later\n",
        "\n",
        "## intent:mood_affirm\n",
        "- yes\n",
        "- indeed\n",
        "- of course\n",
        "- that sounds good\n",
        "- correct\n",
        "\n",
        "## intent:mood_deny\n",
        "- no\n",
        "- never\n",
        "- I don't think so\n",
        "- don't like that\n",
        "- no way\n",
        "- not really\n",
        "\n",
        "## intent:mood_great\n",
        "- perfect\n",
        "- very good\n",
        "- great\n",
        "- amazing\n",
        "- feeling like a king\n",
        "- wonderful\n",
        "- I am feeling very good\n",
        "- I am great\n",
        "- I am amazing\n",
        "- I am going to save the world\n",
        "- super\n",
        "- extremely good\n",
        "- so so perfect\n",
        "- so good\n",
        "- so perfect\n",
        "\n",
        "## intent:mood_unhappy\n",
        "- my day was horrible\n",
        "- I am sad\n",
        "- I don't feel very well\n",
        "- I am disappointed\n",
        "- super sad\n",
        "- I'm so sad\n",
        "- sad\n",
        "- very sad\n",
        "- unhappy\n",
        "- bad\n",
        "- very bad\n",
        "- awful\n",
        "- terrible\n",
        "- not so good\n",
        "- not very good\n",
        "- extremly sad\n",
        "- so saad\n",
        "- Quite bad - can I get a cute picture of a [bird](group:birds), please?\n",
        "- Really bad and only [doggo](group:shibes) pics and change that.\n",
        "- Not good. The only thing that could make me fell better is a picture of a cute [kitten](group:cats).\n",
        "- so sad. Only the picture of a [puppy](group:shibes) could make it better.\n",
        "- I am very sad. I need a [cat](group:cats) picture.\n",
        "- Extremely sad. Only the cute [doggo](group:shibes) pics can make me feel better.\n",
        "- Bad. Please show me a [bird](group:birds) pic!\n",
        "- Pretty bad to be honest. Can you show me a [puppy](group:shibes) picture to make me fell better?\n",
        "\n",
        "## intent: inform\n",
        "- A [dog](group:shibes)\n",
        "- [dog](group:shibes)\n",
        "- [bird](group:birds)\n",
        "- a [cat](group:cats)\n",
        "- [cat](group:cats)\n",
        "- a [bird](group:birds)\n",
        "- of a [dog](group:shibes)\n",
        "- of a [cat](group:cats)\n",
        "- a [bird](group:birds), please\n",
        "- a [dog](group:shibes), please\n",
        "\"\"\"\n",
        "\n",
        "%store nlu_md > nlu.md"
      ],
      "execution_count": 5,
      "outputs": [
        {
          "output_type": "stream",
          "text": [
            "Writing 'nlu_md' (str) to file 'nlu.md'.\n"
          ],
          "name": "stdout"
        }
      ]
    },
    {
      "cell_type": "markdown",
      "metadata": {
        "id": "ceazcacn9veB",
        "colab_type": "text"
      },
      "source": [
        "## Defining the NLU Model Configuration"
      ]
    },
    {
      "cell_type": "code",
      "metadata": {
        "id": "dF60NWhR4ID6",
        "colab_type": "code",
        "outputId": "c0e13f9a-7287-4eb5-fb57-04a96b7adc4f",
        "colab": {
          "base_uri": "https://localhost:8080/",
          "height": 35
        }
      },
      "source": [
        "config = \"\"\"\n",
        "language: \"en\"\n",
        "\n",
        "pipeline:\n",
        "- name: \"nlp_spacy\"                   # loads the spacy language model\n",
        "- name: \"tokenizer_spacy\"             # splits the sentence into tokens\n",
        "- name: \"ner_crf\"                   # uses the pretrained spacy NER model\n",
        "- name: \"intent_featurizer_spacy\"     # transform the sentence into a vector representation\n",
        "- name: \"intent_classifier_sklearn\"   # uses the vector representation to classify using SVM\n",
        "- name: \"ner_synonyms\"                # trains the synonyms\n",
        "\"\"\" \n",
        "\n",
        "%store config > config.yml"
      ],
      "execution_count": 6,
      "outputs": [
        {
          "output_type": "stream",
          "text": [
            "Writing 'config' (str) to file 'config.yml'.\n"
          ],
          "name": "stdout"
        }
      ]
    },
    {
      "cell_type": "markdown",
      "metadata": {
        "id": "ieoWk91X9y8X",
        "colab_type": "text"
      },
      "source": [
        "## Training the NLU Model."
      ]
    },
    {
      "cell_type": "code",
      "metadata": {
        "id": "dp3AIHmS4L6x",
        "colab_type": "code",
        "outputId": "079311b6-ed51-4f11-cb6b-fef7a96a2332",
        "colab": {
          "base_uri": "https://localhost:8080/",
          "height": 807
        }
      },
      "source": [
        "from rasa_nlu.training_data import load_data\n",
        "from rasa_nlu.config import RasaNLUModelConfig\n",
        "from rasa_nlu.model import Trainer\n",
        "from rasa_nlu import config\n",
        "\n",
        "# loading the nlu training samples\n",
        "training_data = load_data(\"nlu.md\")\n",
        "\n",
        "# trainer to educate our pipeline\n",
        "trainer = Trainer(config.load(\"config.yml\"))\n",
        "\n",
        "# train the model!\n",
        "interpreter = trainer.train(training_data)\n",
        "\n",
        "# store it for future use\n",
        "model_directory = trainer.persist(\"./models/nlu\", fixed_model_name=\"current\")"
      ],
      "execution_count": 9,
      "outputs": [
        {
          "output_type": "stream",
          "text": [
            "INFO:rasa_nlu.training_data.loading:Training data format of nlu.md is md\n",
            "INFO:rasa_nlu.training_data.training_data:Training data stats: \n",
            "\t- intent examples: 85 (7 distinct intents)\n",
            "\t- Found intents: 'mood_deny', 'mood_affirm', 'goodbye', 'mood_great', 'inform', 'greet', 'mood_unhappy'\n",
            "\t- entity examples: 18 (1 distinct entities)\n",
            "\t- found entities: 'group'\n",
            "\n",
            "WARNING:rasa_nlu.registry:DEPRECATION warning: your nlu config file contains old style component name `nlp_spacy`, you should change it to its class name: `SpacyNLP`.\n",
            "WARNING:rasa_nlu.registry:DEPRECATION warning: your nlu config file contains old style component name `tokenizer_spacy`, you should change it to its class name: `SpacyTokenizer`.\n",
            "WARNING:rasa_nlu.registry:DEPRECATION warning: your nlu config file contains old style component name `ner_crf`, you should change it to its class name: `CRFEntityExtractor`.\n",
            "WARNING:rasa_nlu.registry:DEPRECATION warning: your nlu config file contains old style component name `intent_featurizer_spacy`, you should change it to its class name: `SpacyFeaturizer`.\n",
            "WARNING:rasa_nlu.registry:DEPRECATION warning: your nlu config file contains old style component name `intent_classifier_sklearn`, you should change it to its class name: `SklearnIntentClassifier`.\n",
            "WARNING:rasa_nlu.registry:DEPRECATION warning: your nlu config file contains old style component name `ner_synonyms`, you should change it to its class name: `EntitySynonymMapper`.\n",
            "WARNING:rasa_nlu.registry:DEPRECATION warning: your nlu config file contains old style component name `nlp_spacy`, you should change it to its class name: `SpacyNLP`.\n",
            "WARNING:rasa_nlu.registry:DEPRECATION warning: your nlu config file contains old style component name `nlp_spacy`, you should change it to its class name: `SpacyNLP`.\n",
            "INFO:rasa_nlu.utils.spacy_utils:Trying to load spacy model with name 'en'\n",
            "INFO:rasa_nlu.components:Added 'SpacyNLP' to component cache. Key 'SpacyNLP-en'.\n",
            "WARNING:rasa_nlu.registry:DEPRECATION warning: your nlu config file contains old style component name `tokenizer_spacy`, you should change it to its class name: `SpacyTokenizer`.\n",
            "WARNING:rasa_nlu.registry:DEPRECATION warning: your nlu config file contains old style component name `tokenizer_spacy`, you should change it to its class name: `SpacyTokenizer`.\n",
            "WARNING:rasa_nlu.registry:DEPRECATION warning: your nlu config file contains old style component name `ner_crf`, you should change it to its class name: `CRFEntityExtractor`.\n",
            "WARNING:rasa_nlu.registry:DEPRECATION warning: your nlu config file contains old style component name `ner_crf`, you should change it to its class name: `CRFEntityExtractor`.\n",
            "WARNING:rasa_nlu.registry:DEPRECATION warning: your nlu config file contains old style component name `intent_featurizer_spacy`, you should change it to its class name: `SpacyFeaturizer`.\n",
            "WARNING:rasa_nlu.registry:DEPRECATION warning: your nlu config file contains old style component name `intent_featurizer_spacy`, you should change it to its class name: `SpacyFeaturizer`.\n",
            "WARNING:rasa_nlu.registry:DEPRECATION warning: your nlu config file contains old style component name `intent_classifier_sklearn`, you should change it to its class name: `SklearnIntentClassifier`.\n",
            "WARNING:rasa_nlu.registry:DEPRECATION warning: your nlu config file contains old style component name `intent_classifier_sklearn`, you should change it to its class name: `SklearnIntentClassifier`.\n",
            "WARNING:rasa_nlu.registry:DEPRECATION warning: your nlu config file contains old style component name `ner_synonyms`, you should change it to its class name: `EntitySynonymMapper`.\n",
            "WARNING:rasa_nlu.registry:DEPRECATION warning: your nlu config file contains old style component name `ner_synonyms`, you should change it to its class name: `EntitySynonymMapper`.\n",
            "INFO:rasa_nlu.model:Starting to train component SpacyNLP\n",
            "INFO:rasa_nlu.model:Finished training component.\n",
            "INFO:rasa_nlu.model:Starting to train component SpacyTokenizer\n",
            "INFO:rasa_nlu.model:Finished training component.\n",
            "INFO:rasa_nlu.model:Starting to train component CRFEntityExtractor\n",
            "INFO:rasa_nlu.model:Finished training component.\n",
            "INFO:rasa_nlu.model:Starting to train component SpacyFeaturizer\n",
            "INFO:rasa_nlu.model:Finished training component.\n",
            "INFO:rasa_nlu.model:Starting to train component SklearnIntentClassifier\n",
            "[Parallel(n_jobs=1)]: Using backend SequentialBackend with 1 concurrent workers.\n",
            "[Parallel(n_jobs=1)]: Done  12 out of  12 | elapsed:    0.1s finished\n",
            "INFO:rasa_nlu.model:Finished training component.\n",
            "INFO:rasa_nlu.model:Starting to train component EntitySynonymMapper\n",
            "INFO:rasa_nlu.model:Finished training component.\n",
            "INFO:rasa_nlu.model:Successfully saved model into '/content/models/nlu/default/current'\n"
          ],
          "name": "stderr"
        },
        {
          "output_type": "stream",
          "text": [
            "Fitting 2 folds for each of 6 candidates, totalling 12 fits\n"
          ],
          "name": "stdout"
        }
      ]
    },
    {
      "cell_type": "markdown",
      "metadata": {
        "id": "Jrfp4xOS95ZZ",
        "colab_type": "text"
      },
      "source": [
        "## Evaluating the NLU model on a random text"
      ]
    },
    {
      "cell_type": "code",
      "metadata": {
        "id": "4UjzlqMV4N1k",
        "colab_type": "code",
        "outputId": "d972d1b1-3c1d-4576-9faa-2f699ad61d68",
        "colab": {
          "base_uri": "https://localhost:8080/",
          "height": 935
        }
      },
      "source": [
        "# A helper function for prettier output\n",
        "\n",
        "def pprint(o):   \n",
        "    print(json.dumps(o, indent=2))\n",
        "    \n",
        "pprint(interpreter.parse(\"I am very sad. Could you send me a cat picture? \"))"
      ],
      "execution_count": 10,
      "outputs": [
        {
          "output_type": "stream",
          "text": [
            "{\n",
            "  \"intent\": {\n",
            "    \"name\": \"mood_unhappy\",\n",
            "    \"confidence\": 0.6593313805411025\n",
            "  },\n",
            "  \"entities\": [\n",
            "    {\n",
            "      \"start\": 35,\n",
            "      \"end\": 38,\n",
            "      \"value\": \"cats\",\n",
            "      \"entity\": \"group\",\n",
            "      \"confidence\": 0.9543162015604525,\n",
            "      \"extractor\": \"CRFEntityExtractor\",\n",
            "      \"processors\": [\n",
            "        \"EntitySynonymMapper\"\n",
            "      ]\n",
            "    }\n",
            "  ],\n",
            "  \"intent_ranking\": [\n",
            "    {\n",
            "      \"name\": \"mood_unhappy\",\n",
            "      \"confidence\": 0.6593313805411025\n",
            "    },\n",
            "    {\n",
            "      \"name\": \"goodbye\",\n",
            "      \"confidence\": 0.09120013471998281\n",
            "    },\n",
            "    {\n",
            "      \"name\": \"mood_great\",\n",
            "      \"confidence\": 0.0845990524741433\n",
            "    },\n",
            "    {\n",
            "      \"name\": \"greet\",\n",
            "      \"confidence\": 0.06347659359079844\n",
            "    },\n",
            "    {\n",
            "      \"name\": \"inform\",\n",
            "      \"confidence\": 0.03796100150049736\n",
            "    },\n",
            "    {\n",
            "      \"name\": \"mood_affirm\",\n",
            "      \"confidence\": 0.033533624592240054\n",
            "    },\n",
            "    {\n",
            "      \"name\": \"mood_deny\",\n",
            "      \"confidence\": 0.029898212581235418\n",
            "    }\n",
            "  ],\n",
            "  \"text\": \"I am very sad. Could you send me a cat picture? \"\n",
            "}\n"
          ],
          "name": "stdout"
        }
      ]
    },
    {
      "cell_type": "markdown",
      "metadata": {
        "id": "OPlSd-As-Fz4",
        "colab_type": "text"
      },
      "source": [
        "## Evaluating the NLU model on a test data\n",
        "(Here we are using the data at hand i.e nlu.md but it isr recommended to use unseen data)"
      ]
    },
    {
      "cell_type": "code",
      "metadata": {
        "id": "FmRCylbT4jyw",
        "colab_type": "code",
        "colab": {}
      },
      "source": [
        "from rasa_nlu.test import run_evaluation\n",
        "\n",
        "run_evaluation(\"nlu.md\", model_directory)"
      ],
      "execution_count": 0,
      "outputs": []
    }
  ]
}