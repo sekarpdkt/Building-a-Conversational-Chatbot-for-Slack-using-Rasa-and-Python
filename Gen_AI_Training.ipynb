{
  "nbformat": 4,
  "nbformat_minor": 0,
  "metadata": {
    "colab": {
      "provenance": [],
      "gpuType": "T4",
      "include_colab_link": true
    },
    "kernelspec": {
      "name": "python3",
      "display_name": "Python 3"
    },
    "language_info": {
      "name": "python"
    },
    "accelerator": "GPU",
    "widgets": {
      "application/vnd.jupyter.widget-state+json": {
        "b6d2d4e045f847fdb2825742655e3567": {
          "model_module": "@jupyter-widgets/controls",
          "model_name": "HBoxModel",
          "model_module_version": "1.5.0",
          "state": {
            "_dom_classes": [],
            "_model_module": "@jupyter-widgets/controls",
            "_model_module_version": "1.5.0",
            "_model_name": "HBoxModel",
            "_view_count": null,
            "_view_module": "@jupyter-widgets/controls",
            "_view_module_version": "1.5.0",
            "_view_name": "HBoxView",
            "box_style": "",
            "children": [
              "IPY_MODEL_73e01c6c2468455d820d31453671ecc6",
              "IPY_MODEL_e1b34c08599a4ab0bd70558903799d2f",
              "IPY_MODEL_6832fcb02a6a42a1adab27cbacd95777"
            ],
            "layout": "IPY_MODEL_0ae94966a53546cab10c7c5d40194ea4"
          }
        },
        "73e01c6c2468455d820d31453671ecc6": {
          "model_module": "@jupyter-widgets/controls",
          "model_name": "HTMLModel",
          "model_module_version": "1.5.0",
          "state": {
            "_dom_classes": [],
            "_model_module": "@jupyter-widgets/controls",
            "_model_module_version": "1.5.0",
            "_model_name": "HTMLModel",
            "_view_count": null,
            "_view_module": "@jupyter-widgets/controls",
            "_view_module_version": "1.5.0",
            "_view_name": "HTMLView",
            "description": "",
            "description_tooltip": null,
            "layout": "IPY_MODEL_0b1735029bdb494485fbb1463f8f2f4c",
            "placeholder": "​",
            "style": "IPY_MODEL_a45509942a574c8294ee615b5cd7e71c",
            "value": "config.json: 100%"
          }
        },
        "e1b34c08599a4ab0bd70558903799d2f": {
          "model_module": "@jupyter-widgets/controls",
          "model_name": "FloatProgressModel",
          "model_module_version": "1.5.0",
          "state": {
            "_dom_classes": [],
            "_model_module": "@jupyter-widgets/controls",
            "_model_module_version": "1.5.0",
            "_model_name": "FloatProgressModel",
            "_view_count": null,
            "_view_module": "@jupyter-widgets/controls",
            "_view_module_version": "1.5.0",
            "_view_name": "ProgressView",
            "bar_style": "success",
            "description": "",
            "description_tooltip": null,
            "layout": "IPY_MODEL_0591897522ab464b9189a4908ccc2826",
            "max": 1404,
            "min": 0,
            "orientation": "horizontal",
            "style": "IPY_MODEL_ac8abca645a34f66bbf44a9a11c89e92",
            "value": 1404
          }
        },
        "6832fcb02a6a42a1adab27cbacd95777": {
          "model_module": "@jupyter-widgets/controls",
          "model_name": "HTMLModel",
          "model_module_version": "1.5.0",
          "state": {
            "_dom_classes": [],
            "_model_module": "@jupyter-widgets/controls",
            "_model_module_version": "1.5.0",
            "_model_name": "HTMLModel",
            "_view_count": null,
            "_view_module": "@jupyter-widgets/controls",
            "_view_module_version": "1.5.0",
            "_view_name": "HTMLView",
            "description": "",
            "description_tooltip": null,
            "layout": "IPY_MODEL_7d410280db9c49babc2c948de7549f2c",
            "placeholder": "​",
            "style": "IPY_MODEL_b7ceb597620741fba1ac9a8a3e61a509",
            "value": " 1.40k/1.40k [00:00&lt;00:00, 84.8kB/s]"
          }
        },
        "0ae94966a53546cab10c7c5d40194ea4": {
          "model_module": "@jupyter-widgets/base",
          "model_name": "LayoutModel",
          "model_module_version": "1.2.0",
          "state": {
            "_model_module": "@jupyter-widgets/base",
            "_model_module_version": "1.2.0",
            "_model_name": "LayoutModel",
            "_view_count": null,
            "_view_module": "@jupyter-widgets/base",
            "_view_module_version": "1.2.0",
            "_view_name": "LayoutView",
            "align_content": null,
            "align_items": null,
            "align_self": null,
            "border": null,
            "bottom": null,
            "display": null,
            "flex": null,
            "flex_flow": null,
            "grid_area": null,
            "grid_auto_columns": null,
            "grid_auto_flow": null,
            "grid_auto_rows": null,
            "grid_column": null,
            "grid_gap": null,
            "grid_row": null,
            "grid_template_areas": null,
            "grid_template_columns": null,
            "grid_template_rows": null,
            "height": null,
            "justify_content": null,
            "justify_items": null,
            "left": null,
            "margin": null,
            "max_height": null,
            "max_width": null,
            "min_height": null,
            "min_width": null,
            "object_fit": null,
            "object_position": null,
            "order": null,
            "overflow": null,
            "overflow_x": null,
            "overflow_y": null,
            "padding": null,
            "right": null,
            "top": null,
            "visibility": null,
            "width": null
          }
        },
        "0b1735029bdb494485fbb1463f8f2f4c": {
          "model_module": "@jupyter-widgets/base",
          "model_name": "LayoutModel",
          "model_module_version": "1.2.0",
          "state": {
            "_model_module": "@jupyter-widgets/base",
            "_model_module_version": "1.2.0",
            "_model_name": "LayoutModel",
            "_view_count": null,
            "_view_module": "@jupyter-widgets/base",
            "_view_module_version": "1.2.0",
            "_view_name": "LayoutView",
            "align_content": null,
            "align_items": null,
            "align_self": null,
            "border": null,
            "bottom": null,
            "display": null,
            "flex": null,
            "flex_flow": null,
            "grid_area": null,
            "grid_auto_columns": null,
            "grid_auto_flow": null,
            "grid_auto_rows": null,
            "grid_column": null,
            "grid_gap": null,
            "grid_row": null,
            "grid_template_areas": null,
            "grid_template_columns": null,
            "grid_template_rows": null,
            "height": null,
            "justify_content": null,
            "justify_items": null,
            "left": null,
            "margin": null,
            "max_height": null,
            "max_width": null,
            "min_height": null,
            "min_width": null,
            "object_fit": null,
            "object_position": null,
            "order": null,
            "overflow": null,
            "overflow_x": null,
            "overflow_y": null,
            "padding": null,
            "right": null,
            "top": null,
            "visibility": null,
            "width": null
          }
        },
        "a45509942a574c8294ee615b5cd7e71c": {
          "model_module": "@jupyter-widgets/controls",
          "model_name": "DescriptionStyleModel",
          "model_module_version": "1.5.0",
          "state": {
            "_model_module": "@jupyter-widgets/controls",
            "_model_module_version": "1.5.0",
            "_model_name": "DescriptionStyleModel",
            "_view_count": null,
            "_view_module": "@jupyter-widgets/base",
            "_view_module_version": "1.2.0",
            "_view_name": "StyleView",
            "description_width": ""
          }
        },
        "0591897522ab464b9189a4908ccc2826": {
          "model_module": "@jupyter-widgets/base",
          "model_name": "LayoutModel",
          "model_module_version": "1.2.0",
          "state": {
            "_model_module": "@jupyter-widgets/base",
            "_model_module_version": "1.2.0",
            "_model_name": "LayoutModel",
            "_view_count": null,
            "_view_module": "@jupyter-widgets/base",
            "_view_module_version": "1.2.0",
            "_view_name": "LayoutView",
            "align_content": null,
            "align_items": null,
            "align_self": null,
            "border": null,
            "bottom": null,
            "display": null,
            "flex": null,
            "flex_flow": null,
            "grid_area": null,
            "grid_auto_columns": null,
            "grid_auto_flow": null,
            "grid_auto_rows": null,
            "grid_column": null,
            "grid_gap": null,
            "grid_row": null,
            "grid_template_areas": null,
            "grid_template_columns": null,
            "grid_template_rows": null,
            "height": null,
            "justify_content": null,
            "justify_items": null,
            "left": null,
            "margin": null,
            "max_height": null,
            "max_width": null,
            "min_height": null,
            "min_width": null,
            "object_fit": null,
            "object_position": null,
            "order": null,
            "overflow": null,
            "overflow_x": null,
            "overflow_y": null,
            "padding": null,
            "right": null,
            "top": null,
            "visibility": null,
            "width": null
          }
        },
        "ac8abca645a34f66bbf44a9a11c89e92": {
          "model_module": "@jupyter-widgets/controls",
          "model_name": "ProgressStyleModel",
          "model_module_version": "1.5.0",
          "state": {
            "_model_module": "@jupyter-widgets/controls",
            "_model_module_version": "1.5.0",
            "_model_name": "ProgressStyleModel",
            "_view_count": null,
            "_view_module": "@jupyter-widgets/base",
            "_view_module_version": "1.2.0",
            "_view_name": "StyleView",
            "bar_color": null,
            "description_width": ""
          }
        },
        "7d410280db9c49babc2c948de7549f2c": {
          "model_module": "@jupyter-widgets/base",
          "model_name": "LayoutModel",
          "model_module_version": "1.2.0",
          "state": {
            "_model_module": "@jupyter-widgets/base",
            "_model_module_version": "1.2.0",
            "_model_name": "LayoutModel",
            "_view_count": null,
            "_view_module": "@jupyter-widgets/base",
            "_view_module_version": "1.2.0",
            "_view_name": "LayoutView",
            "align_content": null,
            "align_items": null,
            "align_self": null,
            "border": null,
            "bottom": null,
            "display": null,
            "flex": null,
            "flex_flow": null,
            "grid_area": null,
            "grid_auto_columns": null,
            "grid_auto_flow": null,
            "grid_auto_rows": null,
            "grid_column": null,
            "grid_gap": null,
            "grid_row": null,
            "grid_template_areas": null,
            "grid_template_columns": null,
            "grid_template_rows": null,
            "height": null,
            "justify_content": null,
            "justify_items": null,
            "left": null,
            "margin": null,
            "max_height": null,
            "max_width": null,
            "min_height": null,
            "min_width": null,
            "object_fit": null,
            "object_position": null,
            "order": null,
            "overflow": null,
            "overflow_x": null,
            "overflow_y": null,
            "padding": null,
            "right": null,
            "top": null,
            "visibility": null,
            "width": null
          }
        },
        "b7ceb597620741fba1ac9a8a3e61a509": {
          "model_module": "@jupyter-widgets/controls",
          "model_name": "DescriptionStyleModel",
          "model_module_version": "1.5.0",
          "state": {
            "_model_module": "@jupyter-widgets/controls",
            "_model_module_version": "1.5.0",
            "_model_name": "DescriptionStyleModel",
            "_view_count": null,
            "_view_module": "@jupyter-widgets/base",
            "_view_module_version": "1.2.0",
            "_view_name": "StyleView",
            "description_width": ""
          }
        },
        "5b84f497189e42e5bcc7560a2760677f": {
          "model_module": "@jupyter-widgets/controls",
          "model_name": "HBoxModel",
          "model_module_version": "1.5.0",
          "state": {
            "_dom_classes": [],
            "_model_module": "@jupyter-widgets/controls",
            "_model_module_version": "1.5.0",
            "_model_name": "HBoxModel",
            "_view_count": null,
            "_view_module": "@jupyter-widgets/controls",
            "_view_module_version": "1.5.0",
            "_view_name": "HBoxView",
            "box_style": "",
            "children": [
              "IPY_MODEL_0cc09fc1972b4b018bfe6b3eb4c8ab7b",
              "IPY_MODEL_99ae3d5c73e44762948d972d2860f819",
              "IPY_MODEL_2f2dde7bf88247d19863936b3bf695a9"
            ],
            "layout": "IPY_MODEL_b8e65a4e5dd84771b7174637e9052302"
          }
        },
        "0cc09fc1972b4b018bfe6b3eb4c8ab7b": {
          "model_module": "@jupyter-widgets/controls",
          "model_name": "HTMLModel",
          "model_module_version": "1.5.0",
          "state": {
            "_dom_classes": [],
            "_model_module": "@jupyter-widgets/controls",
            "_model_module_version": "1.5.0",
            "_model_name": "HTMLModel",
            "_view_count": null,
            "_view_module": "@jupyter-widgets/controls",
            "_view_module_version": "1.5.0",
            "_view_name": "HTMLView",
            "description": "",
            "description_tooltip": null,
            "layout": "IPY_MODEL_d10f7be27df846a8b7d33e8145151c2b",
            "placeholder": "​",
            "style": "IPY_MODEL_7f3646a120d2472aad42c33215f32872",
            "value": "model.safetensors: 100%"
          }
        },
        "99ae3d5c73e44762948d972d2860f819": {
          "model_module": "@jupyter-widgets/controls",
          "model_name": "FloatProgressModel",
          "model_module_version": "1.5.0",
          "state": {
            "_dom_classes": [],
            "_model_module": "@jupyter-widgets/controls",
            "_model_module_version": "1.5.0",
            "_model_name": "FloatProgressModel",
            "_view_count": null,
            "_view_module": "@jupyter-widgets/controls",
            "_view_module_version": "1.5.0",
            "_view_name": "ProgressView",
            "bar_style": "success",
            "description": "",
            "description_tooltip": null,
            "layout": "IPY_MODEL_1ba60732fa8a40c89d6a5c5225faf95a",
            "max": 990345061,
            "min": 0,
            "orientation": "horizontal",
            "style": "IPY_MODEL_08b4d36fc015454aa24b935bd2d52aeb",
            "value": 990345061
          }
        },
        "2f2dde7bf88247d19863936b3bf695a9": {
          "model_module": "@jupyter-widgets/controls",
          "model_name": "HTMLModel",
          "model_module_version": "1.5.0",
          "state": {
            "_dom_classes": [],
            "_model_module": "@jupyter-widgets/controls",
            "_model_module_version": "1.5.0",
            "_model_name": "HTMLModel",
            "_view_count": null,
            "_view_module": "@jupyter-widgets/controls",
            "_view_module_version": "1.5.0",
            "_view_name": "HTMLView",
            "description": "",
            "description_tooltip": null,
            "layout": "IPY_MODEL_ed7349ebbfd944acb75db557b89d03a2",
            "placeholder": "​",
            "style": "IPY_MODEL_92364ee9be5b4ff8aa79c28d6cbbc156",
            "value": " 990M/990M [00:04&lt;00:00, 237MB/s]"
          }
        },
        "b8e65a4e5dd84771b7174637e9052302": {
          "model_module": "@jupyter-widgets/base",
          "model_name": "LayoutModel",
          "model_module_version": "1.2.0",
          "state": {
            "_model_module": "@jupyter-widgets/base",
            "_model_module_version": "1.2.0",
            "_model_name": "LayoutModel",
            "_view_count": null,
            "_view_module": "@jupyter-widgets/base",
            "_view_module_version": "1.2.0",
            "_view_name": "LayoutView",
            "align_content": null,
            "align_items": null,
            "align_self": null,
            "border": null,
            "bottom": null,
            "display": null,
            "flex": null,
            "flex_flow": null,
            "grid_area": null,
            "grid_auto_columns": null,
            "grid_auto_flow": null,
            "grid_auto_rows": null,
            "grid_column": null,
            "grid_gap": null,
            "grid_row": null,
            "grid_template_areas": null,
            "grid_template_columns": null,
            "grid_template_rows": null,
            "height": null,
            "justify_content": null,
            "justify_items": null,
            "left": null,
            "margin": null,
            "max_height": null,
            "max_width": null,
            "min_height": null,
            "min_width": null,
            "object_fit": null,
            "object_position": null,
            "order": null,
            "overflow": null,
            "overflow_x": null,
            "overflow_y": null,
            "padding": null,
            "right": null,
            "top": null,
            "visibility": null,
            "width": null
          }
        },
        "d10f7be27df846a8b7d33e8145151c2b": {
          "model_module": "@jupyter-widgets/base",
          "model_name": "LayoutModel",
          "model_module_version": "1.2.0",
          "state": {
            "_model_module": "@jupyter-widgets/base",
            "_model_module_version": "1.2.0",
            "_model_name": "LayoutModel",
            "_view_count": null,
            "_view_module": "@jupyter-widgets/base",
            "_view_module_version": "1.2.0",
            "_view_name": "LayoutView",
            "align_content": null,
            "align_items": null,
            "align_self": null,
            "border": null,
            "bottom": null,
            "display": null,
            "flex": null,
            "flex_flow": null,
            "grid_area": null,
            "grid_auto_columns": null,
            "grid_auto_flow": null,
            "grid_auto_rows": null,
            "grid_column": null,
            "grid_gap": null,
            "grid_row": null,
            "grid_template_areas": null,
            "grid_template_columns": null,
            "grid_template_rows": null,
            "height": null,
            "justify_content": null,
            "justify_items": null,
            "left": null,
            "margin": null,
            "max_height": null,
            "max_width": null,
            "min_height": null,
            "min_width": null,
            "object_fit": null,
            "object_position": null,
            "order": null,
            "overflow": null,
            "overflow_x": null,
            "overflow_y": null,
            "padding": null,
            "right": null,
            "top": null,
            "visibility": null,
            "width": null
          }
        },
        "7f3646a120d2472aad42c33215f32872": {
          "model_module": "@jupyter-widgets/controls",
          "model_name": "DescriptionStyleModel",
          "model_module_version": "1.5.0",
          "state": {
            "_model_module": "@jupyter-widgets/controls",
            "_model_module_version": "1.5.0",
            "_model_name": "DescriptionStyleModel",
            "_view_count": null,
            "_view_module": "@jupyter-widgets/base",
            "_view_module_version": "1.2.0",
            "_view_name": "StyleView",
            "description_width": ""
          }
        },
        "1ba60732fa8a40c89d6a5c5225faf95a": {
          "model_module": "@jupyter-widgets/base",
          "model_name": "LayoutModel",
          "model_module_version": "1.2.0",
          "state": {
            "_model_module": "@jupyter-widgets/base",
            "_model_module_version": "1.2.0",
            "_model_name": "LayoutModel",
            "_view_count": null,
            "_view_module": "@jupyter-widgets/base",
            "_view_module_version": "1.2.0",
            "_view_name": "LayoutView",
            "align_content": null,
            "align_items": null,
            "align_self": null,
            "border": null,
            "bottom": null,
            "display": null,
            "flex": null,
            "flex_flow": null,
            "grid_area": null,
            "grid_auto_columns": null,
            "grid_auto_flow": null,
            "grid_auto_rows": null,
            "grid_column": null,
            "grid_gap": null,
            "grid_row": null,
            "grid_template_areas": null,
            "grid_template_columns": null,
            "grid_template_rows": null,
            "height": null,
            "justify_content": null,
            "justify_items": null,
            "left": null,
            "margin": null,
            "max_height": null,
            "max_width": null,
            "min_height": null,
            "min_width": null,
            "object_fit": null,
            "object_position": null,
            "order": null,
            "overflow": null,
            "overflow_x": null,
            "overflow_y": null,
            "padding": null,
            "right": null,
            "top": null,
            "visibility": null,
            "width": null
          }
        },
        "08b4d36fc015454aa24b935bd2d52aeb": {
          "model_module": "@jupyter-widgets/controls",
          "model_name": "ProgressStyleModel",
          "model_module_version": "1.5.0",
          "state": {
            "_model_module": "@jupyter-widgets/controls",
            "_model_module_version": "1.5.0",
            "_model_name": "ProgressStyleModel",
            "_view_count": null,
            "_view_module": "@jupyter-widgets/base",
            "_view_module_version": "1.2.0",
            "_view_name": "StyleView",
            "bar_color": null,
            "description_width": ""
          }
        },
        "ed7349ebbfd944acb75db557b89d03a2": {
          "model_module": "@jupyter-widgets/base",
          "model_name": "LayoutModel",
          "model_module_version": "1.2.0",
          "state": {
            "_model_module": "@jupyter-widgets/base",
            "_model_module_version": "1.2.0",
            "_model_name": "LayoutModel",
            "_view_count": null,
            "_view_module": "@jupyter-widgets/base",
            "_view_module_version": "1.2.0",
            "_view_name": "LayoutView",
            "align_content": null,
            "align_items": null,
            "align_self": null,
            "border": null,
            "bottom": null,
            "display": null,
            "flex": null,
            "flex_flow": null,
            "grid_area": null,
            "grid_auto_columns": null,
            "grid_auto_flow": null,
            "grid_auto_rows": null,
            "grid_column": null,
            "grid_gap": null,
            "grid_row": null,
            "grid_template_areas": null,
            "grid_template_columns": null,
            "grid_template_rows": null,
            "height": null,
            "justify_content": null,
            "justify_items": null,
            "left": null,
            "margin": null,
            "max_height": null,
            "max_width": null,
            "min_height": null,
            "min_width": null,
            "object_fit": null,
            "object_position": null,
            "order": null,
            "overflow": null,
            "overflow_x": null,
            "overflow_y": null,
            "padding": null,
            "right": null,
            "top": null,
            "visibility": null,
            "width": null
          }
        },
        "92364ee9be5b4ff8aa79c28d6cbbc156": {
          "model_module": "@jupyter-widgets/controls",
          "model_name": "DescriptionStyleModel",
          "model_module_version": "1.5.0",
          "state": {
            "_model_module": "@jupyter-widgets/controls",
            "_model_module_version": "1.5.0",
            "_model_name": "DescriptionStyleModel",
            "_view_count": null,
            "_view_module": "@jupyter-widgets/base",
            "_view_module_version": "1.2.0",
            "_view_name": "StyleView",
            "description_width": ""
          }
        },
        "061e236fd413435bacabdaa3c2512a2d": {
          "model_module": "@jupyter-widgets/controls",
          "model_name": "HBoxModel",
          "model_module_version": "1.5.0",
          "state": {
            "_dom_classes": [],
            "_model_module": "@jupyter-widgets/controls",
            "_model_module_version": "1.5.0",
            "_model_name": "HBoxModel",
            "_view_count": null,
            "_view_module": "@jupyter-widgets/controls",
            "_view_module_version": "1.5.0",
            "_view_name": "HBoxView",
            "box_style": "",
            "children": [
              "IPY_MODEL_64181737994e4199bc31f80d8d860ad0",
              "IPY_MODEL_ed19a160667c44209d872dd45f4f76ce",
              "IPY_MODEL_376cb822c4dd4cf6ad2fdb5cd811fcb7"
            ],
            "layout": "IPY_MODEL_a1ac7aca120748ca85605efc0c4d98ba"
          }
        },
        "64181737994e4199bc31f80d8d860ad0": {
          "model_module": "@jupyter-widgets/controls",
          "model_name": "HTMLModel",
          "model_module_version": "1.5.0",
          "state": {
            "_dom_classes": [],
            "_model_module": "@jupyter-widgets/controls",
            "_model_module_version": "1.5.0",
            "_model_name": "HTMLModel",
            "_view_count": null,
            "_view_module": "@jupyter-widgets/controls",
            "_view_module_version": "1.5.0",
            "_view_name": "HTMLView",
            "description": "",
            "description_tooltip": null,
            "layout": "IPY_MODEL_90ac407d8b3e4a52a5cdad6ca052924a",
            "placeholder": "​",
            "style": "IPY_MODEL_1c50684505f94b79a1616d59e9d60446",
            "value": "generation_config.json: 100%"
          }
        },
        "ed19a160667c44209d872dd45f4f76ce": {
          "model_module": "@jupyter-widgets/controls",
          "model_name": "FloatProgressModel",
          "model_module_version": "1.5.0",
          "state": {
            "_dom_classes": [],
            "_model_module": "@jupyter-widgets/controls",
            "_model_module_version": "1.5.0",
            "_model_name": "FloatProgressModel",
            "_view_count": null,
            "_view_module": "@jupyter-widgets/controls",
            "_view_module_version": "1.5.0",
            "_view_name": "ProgressView",
            "bar_style": "success",
            "description": "",
            "description_tooltip": null,
            "layout": "IPY_MODEL_e6dd218d31124fd2aed8df1562701094",
            "max": 147,
            "min": 0,
            "orientation": "horizontal",
            "style": "IPY_MODEL_850c537e21c54dffb8869d4f4d395ce3",
            "value": 147
          }
        },
        "376cb822c4dd4cf6ad2fdb5cd811fcb7": {
          "model_module": "@jupyter-widgets/controls",
          "model_name": "HTMLModel",
          "model_module_version": "1.5.0",
          "state": {
            "_dom_classes": [],
            "_model_module": "@jupyter-widgets/controls",
            "_model_module_version": "1.5.0",
            "_model_name": "HTMLModel",
            "_view_count": null,
            "_view_module": "@jupyter-widgets/controls",
            "_view_module_version": "1.5.0",
            "_view_name": "HTMLView",
            "description": "",
            "description_tooltip": null,
            "layout": "IPY_MODEL_973332f889a04c06917a6459bc898447",
            "placeholder": "​",
            "style": "IPY_MODEL_dc810735c92d4e6193cc27a42c3501b9",
            "value": " 147/147 [00:00&lt;00:00, 9.77kB/s]"
          }
        },
        "a1ac7aca120748ca85605efc0c4d98ba": {
          "model_module": "@jupyter-widgets/base",
          "model_name": "LayoutModel",
          "model_module_version": "1.2.0",
          "state": {
            "_model_module": "@jupyter-widgets/base",
            "_model_module_version": "1.2.0",
            "_model_name": "LayoutModel",
            "_view_count": null,
            "_view_module": "@jupyter-widgets/base",
            "_view_module_version": "1.2.0",
            "_view_name": "LayoutView",
            "align_content": null,
            "align_items": null,
            "align_self": null,
            "border": null,
            "bottom": null,
            "display": null,
            "flex": null,
            "flex_flow": null,
            "grid_area": null,
            "grid_auto_columns": null,
            "grid_auto_flow": null,
            "grid_auto_rows": null,
            "grid_column": null,
            "grid_gap": null,
            "grid_row": null,
            "grid_template_areas": null,
            "grid_template_columns": null,
            "grid_template_rows": null,
            "height": null,
            "justify_content": null,
            "justify_items": null,
            "left": null,
            "margin": null,
            "max_height": null,
            "max_width": null,
            "min_height": null,
            "min_width": null,
            "object_fit": null,
            "object_position": null,
            "order": null,
            "overflow": null,
            "overflow_x": null,
            "overflow_y": null,
            "padding": null,
            "right": null,
            "top": null,
            "visibility": null,
            "width": null
          }
        },
        "90ac407d8b3e4a52a5cdad6ca052924a": {
          "model_module": "@jupyter-widgets/base",
          "model_name": "LayoutModel",
          "model_module_version": "1.2.0",
          "state": {
            "_model_module": "@jupyter-widgets/base",
            "_model_module_version": "1.2.0",
            "_model_name": "LayoutModel",
            "_view_count": null,
            "_view_module": "@jupyter-widgets/base",
            "_view_module_version": "1.2.0",
            "_view_name": "LayoutView",
            "align_content": null,
            "align_items": null,
            "align_self": null,
            "border": null,
            "bottom": null,
            "display": null,
            "flex": null,
            "flex_flow": null,
            "grid_area": null,
            "grid_auto_columns": null,
            "grid_auto_flow": null,
            "grid_auto_rows": null,
            "grid_column": null,
            "grid_gap": null,
            "grid_row": null,
            "grid_template_areas": null,
            "grid_template_columns": null,
            "grid_template_rows": null,
            "height": null,
            "justify_content": null,
            "justify_items": null,
            "left": null,
            "margin": null,
            "max_height": null,
            "max_width": null,
            "min_height": null,
            "min_width": null,
            "object_fit": null,
            "object_position": null,
            "order": null,
            "overflow": null,
            "overflow_x": null,
            "overflow_y": null,
            "padding": null,
            "right": null,
            "top": null,
            "visibility": null,
            "width": null
          }
        },
        "1c50684505f94b79a1616d59e9d60446": {
          "model_module": "@jupyter-widgets/controls",
          "model_name": "DescriptionStyleModel",
          "model_module_version": "1.5.0",
          "state": {
            "_model_module": "@jupyter-widgets/controls",
            "_model_module_version": "1.5.0",
            "_model_name": "DescriptionStyleModel",
            "_view_count": null,
            "_view_module": "@jupyter-widgets/base",
            "_view_module_version": "1.2.0",
            "_view_name": "StyleView",
            "description_width": ""
          }
        },
        "e6dd218d31124fd2aed8df1562701094": {
          "model_module": "@jupyter-widgets/base",
          "model_name": "LayoutModel",
          "model_module_version": "1.2.0",
          "state": {
            "_model_module": "@jupyter-widgets/base",
            "_model_module_version": "1.2.0",
            "_model_name": "LayoutModel",
            "_view_count": null,
            "_view_module": "@jupyter-widgets/base",
            "_view_module_version": "1.2.0",
            "_view_name": "LayoutView",
            "align_content": null,
            "align_items": null,
            "align_self": null,
            "border": null,
            "bottom": null,
            "display": null,
            "flex": null,
            "flex_flow": null,
            "grid_area": null,
            "grid_auto_columns": null,
            "grid_auto_flow": null,
            "grid_auto_rows": null,
            "grid_column": null,
            "grid_gap": null,
            "grid_row": null,
            "grid_template_areas": null,
            "grid_template_columns": null,
            "grid_template_rows": null,
            "height": null,
            "justify_content": null,
            "justify_items": null,
            "left": null,
            "margin": null,
            "max_height": null,
            "max_width": null,
            "min_height": null,
            "min_width": null,
            "object_fit": null,
            "object_position": null,
            "order": null,
            "overflow": null,
            "overflow_x": null,
            "overflow_y": null,
            "padding": null,
            "right": null,
            "top": null,
            "visibility": null,
            "width": null
          }
        },
        "850c537e21c54dffb8869d4f4d395ce3": {
          "model_module": "@jupyter-widgets/controls",
          "model_name": "ProgressStyleModel",
          "model_module_version": "1.5.0",
          "state": {
            "_model_module": "@jupyter-widgets/controls",
            "_model_module_version": "1.5.0",
            "_model_name": "ProgressStyleModel",
            "_view_count": null,
            "_view_module": "@jupyter-widgets/base",
            "_view_module_version": "1.2.0",
            "_view_name": "StyleView",
            "bar_color": null,
            "description_width": ""
          }
        },
        "973332f889a04c06917a6459bc898447": {
          "model_module": "@jupyter-widgets/base",
          "model_name": "LayoutModel",
          "model_module_version": "1.2.0",
          "state": {
            "_model_module": "@jupyter-widgets/base",
            "_model_module_version": "1.2.0",
            "_model_name": "LayoutModel",
            "_view_count": null,
            "_view_module": "@jupyter-widgets/base",
            "_view_module_version": "1.2.0",
            "_view_name": "LayoutView",
            "align_content": null,
            "align_items": null,
            "align_self": null,
            "border": null,
            "bottom": null,
            "display": null,
            "flex": null,
            "flex_flow": null,
            "grid_area": null,
            "grid_auto_columns": null,
            "grid_auto_flow": null,
            "grid_auto_rows": null,
            "grid_column": null,
            "grid_gap": null,
            "grid_row": null,
            "grid_template_areas": null,
            "grid_template_columns": null,
            "grid_template_rows": null,
            "height": null,
            "justify_content": null,
            "justify_items": null,
            "left": null,
            "margin": null,
            "max_height": null,
            "max_width": null,
            "min_height": null,
            "min_width": null,
            "object_fit": null,
            "object_position": null,
            "order": null,
            "overflow": null,
            "overflow_x": null,
            "overflow_y": null,
            "padding": null,
            "right": null,
            "top": null,
            "visibility": null,
            "width": null
          }
        },
        "dc810735c92d4e6193cc27a42c3501b9": {
          "model_module": "@jupyter-widgets/controls",
          "model_name": "DescriptionStyleModel",
          "model_module_version": "1.5.0",
          "state": {
            "_model_module": "@jupyter-widgets/controls",
            "_model_module_version": "1.5.0",
            "_model_name": "DescriptionStyleModel",
            "_view_count": null,
            "_view_module": "@jupyter-widgets/base",
            "_view_module_version": "1.2.0",
            "_view_name": "StyleView",
            "description_width": ""
          }
        },
        "a772913da0134e63b7de9157108294d8": {
          "model_module": "@jupyter-widgets/controls",
          "model_name": "HBoxModel",
          "model_module_version": "1.5.0",
          "state": {
            "_dom_classes": [],
            "_model_module": "@jupyter-widgets/controls",
            "_model_module_version": "1.5.0",
            "_model_name": "HBoxModel",
            "_view_count": null,
            "_view_module": "@jupyter-widgets/controls",
            "_view_module_version": "1.5.0",
            "_view_name": "HBoxView",
            "box_style": "",
            "children": [
              "IPY_MODEL_4d12c9347e1749269016bfc5f138162c",
              "IPY_MODEL_a26afecbbfb24dba8dbe4368f0a4d368",
              "IPY_MODEL_8728c345620d4160a4a50421484df12d"
            ],
            "layout": "IPY_MODEL_a5dfbe4138a14128a904d942216b0a9b"
          }
        },
        "4d12c9347e1749269016bfc5f138162c": {
          "model_module": "@jupyter-widgets/controls",
          "model_name": "HTMLModel",
          "model_module_version": "1.5.0",
          "state": {
            "_dom_classes": [],
            "_model_module": "@jupyter-widgets/controls",
            "_model_module_version": "1.5.0",
            "_model_name": "HTMLModel",
            "_view_count": null,
            "_view_module": "@jupyter-widgets/controls",
            "_view_module_version": "1.5.0",
            "_view_name": "HTMLView",
            "description": "",
            "description_tooltip": null,
            "layout": "IPY_MODEL_00a5c3342be44397813b62cabd4a3ddb",
            "placeholder": "​",
            "style": "IPY_MODEL_7519741012ac45cdba03fceb2e697aa9",
            "value": "tokenizer_config.json: 100%"
          }
        },
        "a26afecbbfb24dba8dbe4368f0a4d368": {
          "model_module": "@jupyter-widgets/controls",
          "model_name": "FloatProgressModel",
          "model_module_version": "1.5.0",
          "state": {
            "_dom_classes": [],
            "_model_module": "@jupyter-widgets/controls",
            "_model_module_version": "1.5.0",
            "_model_name": "FloatProgressModel",
            "_view_count": null,
            "_view_module": "@jupyter-widgets/controls",
            "_view_module_version": "1.5.0",
            "_view_name": "ProgressView",
            "bar_style": "success",
            "description": "",
            "description_tooltip": null,
            "layout": "IPY_MODEL_1ef60f99c7b248628003b2faa4b0b06a",
            "max": 2537,
            "min": 0,
            "orientation": "horizontal",
            "style": "IPY_MODEL_bf2e52bbab4a46099eda2bf55c7ac0a9",
            "value": 2537
          }
        },
        "8728c345620d4160a4a50421484df12d": {
          "model_module": "@jupyter-widgets/controls",
          "model_name": "HTMLModel",
          "model_module_version": "1.5.0",
          "state": {
            "_dom_classes": [],
            "_model_module": "@jupyter-widgets/controls",
            "_model_module_version": "1.5.0",
            "_model_name": "HTMLModel",
            "_view_count": null,
            "_view_module": "@jupyter-widgets/controls",
            "_view_module_version": "1.5.0",
            "_view_name": "HTMLView",
            "description": "",
            "description_tooltip": null,
            "layout": "IPY_MODEL_7f34149196184e36b483b3f37f9c627d",
            "placeholder": "​",
            "style": "IPY_MODEL_114a6722544b448b9af0955f47400e58",
            "value": " 2.54k/2.54k [00:00&lt;00:00, 179kB/s]"
          }
        },
        "a5dfbe4138a14128a904d942216b0a9b": {
          "model_module": "@jupyter-widgets/base",
          "model_name": "LayoutModel",
          "model_module_version": "1.2.0",
          "state": {
            "_model_module": "@jupyter-widgets/base",
            "_model_module_version": "1.2.0",
            "_model_name": "LayoutModel",
            "_view_count": null,
            "_view_module": "@jupyter-widgets/base",
            "_view_module_version": "1.2.0",
            "_view_name": "LayoutView",
            "align_content": null,
            "align_items": null,
            "align_self": null,
            "border": null,
            "bottom": null,
            "display": null,
            "flex": null,
            "flex_flow": null,
            "grid_area": null,
            "grid_auto_columns": null,
            "grid_auto_flow": null,
            "grid_auto_rows": null,
            "grid_column": null,
            "grid_gap": null,
            "grid_row": null,
            "grid_template_areas": null,
            "grid_template_columns": null,
            "grid_template_rows": null,
            "height": null,
            "justify_content": null,
            "justify_items": null,
            "left": null,
            "margin": null,
            "max_height": null,
            "max_width": null,
            "min_height": null,
            "min_width": null,
            "object_fit": null,
            "object_position": null,
            "order": null,
            "overflow": null,
            "overflow_x": null,
            "overflow_y": null,
            "padding": null,
            "right": null,
            "top": null,
            "visibility": null,
            "width": null
          }
        },
        "00a5c3342be44397813b62cabd4a3ddb": {
          "model_module": "@jupyter-widgets/base",
          "model_name": "LayoutModel",
          "model_module_version": "1.2.0",
          "state": {
            "_model_module": "@jupyter-widgets/base",
            "_model_module_version": "1.2.0",
            "_model_name": "LayoutModel",
            "_view_count": null,
            "_view_module": "@jupyter-widgets/base",
            "_view_module_version": "1.2.0",
            "_view_name": "LayoutView",
            "align_content": null,
            "align_items": null,
            "align_self": null,
            "border": null,
            "bottom": null,
            "display": null,
            "flex": null,
            "flex_flow": null,
            "grid_area": null,
            "grid_auto_columns": null,
            "grid_auto_flow": null,
            "grid_auto_rows": null,
            "grid_column": null,
            "grid_gap": null,
            "grid_row": null,
            "grid_template_areas": null,
            "grid_template_columns": null,
            "grid_template_rows": null,
            "height": null,
            "justify_content": null,
            "justify_items": null,
            "left": null,
            "margin": null,
            "max_height": null,
            "max_width": null,
            "min_height": null,
            "min_width": null,
            "object_fit": null,
            "object_position": null,
            "order": null,
            "overflow": null,
            "overflow_x": null,
            "overflow_y": null,
            "padding": null,
            "right": null,
            "top": null,
            "visibility": null,
            "width": null
          }
        },
        "7519741012ac45cdba03fceb2e697aa9": {
          "model_module": "@jupyter-widgets/controls",
          "model_name": "DescriptionStyleModel",
          "model_module_version": "1.5.0",
          "state": {
            "_model_module": "@jupyter-widgets/controls",
            "_model_module_version": "1.5.0",
            "_model_name": "DescriptionStyleModel",
            "_view_count": null,
            "_view_module": "@jupyter-widgets/base",
            "_view_module_version": "1.2.0",
            "_view_name": "StyleView",
            "description_width": ""
          }
        },
        "1ef60f99c7b248628003b2faa4b0b06a": {
          "model_module": "@jupyter-widgets/base",
          "model_name": "LayoutModel",
          "model_module_version": "1.2.0",
          "state": {
            "_model_module": "@jupyter-widgets/base",
            "_model_module_version": "1.2.0",
            "_model_name": "LayoutModel",
            "_view_count": null,
            "_view_module": "@jupyter-widgets/base",
            "_view_module_version": "1.2.0",
            "_view_name": "LayoutView",
            "align_content": null,
            "align_items": null,
            "align_self": null,
            "border": null,
            "bottom": null,
            "display": null,
            "flex": null,
            "flex_flow": null,
            "grid_area": null,
            "grid_auto_columns": null,
            "grid_auto_flow": null,
            "grid_auto_rows": null,
            "grid_column": null,
            "grid_gap": null,
            "grid_row": null,
            "grid_template_areas": null,
            "grid_template_columns": null,
            "grid_template_rows": null,
            "height": null,
            "justify_content": null,
            "justify_items": null,
            "left": null,
            "margin": null,
            "max_height": null,
            "max_width": null,
            "min_height": null,
            "min_width": null,
            "object_fit": null,
            "object_position": null,
            "order": null,
            "overflow": null,
            "overflow_x": null,
            "overflow_y": null,
            "padding": null,
            "right": null,
            "top": null,
            "visibility": null,
            "width": null
          }
        },
        "bf2e52bbab4a46099eda2bf55c7ac0a9": {
          "model_module": "@jupyter-widgets/controls",
          "model_name": "ProgressStyleModel",
          "model_module_version": "1.5.0",
          "state": {
            "_model_module": "@jupyter-widgets/controls",
            "_model_module_version": "1.5.0",
            "_model_name": "ProgressStyleModel",
            "_view_count": null,
            "_view_module": "@jupyter-widgets/base",
            "_view_module_version": "1.2.0",
            "_view_name": "StyleView",
            "bar_color": null,
            "description_width": ""
          }
        },
        "7f34149196184e36b483b3f37f9c627d": {
          "model_module": "@jupyter-widgets/base",
          "model_name": "LayoutModel",
          "model_module_version": "1.2.0",
          "state": {
            "_model_module": "@jupyter-widgets/base",
            "_model_module_version": "1.2.0",
            "_model_name": "LayoutModel",
            "_view_count": null,
            "_view_module": "@jupyter-widgets/base",
            "_view_module_version": "1.2.0",
            "_view_name": "LayoutView",
            "align_content": null,
            "align_items": null,
            "align_self": null,
            "border": null,
            "bottom": null,
            "display": null,
            "flex": null,
            "flex_flow": null,
            "grid_area": null,
            "grid_auto_columns": null,
            "grid_auto_flow": null,
            "grid_auto_rows": null,
            "grid_column": null,
            "grid_gap": null,
            "grid_row": null,
            "grid_template_areas": null,
            "grid_template_columns": null,
            "grid_template_rows": null,
            "height": null,
            "justify_content": null,
            "justify_items": null,
            "left": null,
            "margin": null,
            "max_height": null,
            "max_width": null,
            "min_height": null,
            "min_width": null,
            "object_fit": null,
            "object_position": null,
            "order": null,
            "overflow": null,
            "overflow_x": null,
            "overflow_y": null,
            "padding": null,
            "right": null,
            "top": null,
            "visibility": null,
            "width": null
          }
        },
        "114a6722544b448b9af0955f47400e58": {
          "model_module": "@jupyter-widgets/controls",
          "model_name": "DescriptionStyleModel",
          "model_module_version": "1.5.0",
          "state": {
            "_model_module": "@jupyter-widgets/controls",
            "_model_module_version": "1.5.0",
            "_model_name": "DescriptionStyleModel",
            "_view_count": null,
            "_view_module": "@jupyter-widgets/base",
            "_view_module_version": "1.2.0",
            "_view_name": "StyleView",
            "description_width": ""
          }
        },
        "f9c182077e1d43afa051f994f61d542e": {
          "model_module": "@jupyter-widgets/controls",
          "model_name": "HBoxModel",
          "model_module_version": "1.5.0",
          "state": {
            "_dom_classes": [],
            "_model_module": "@jupyter-widgets/controls",
            "_model_module_version": "1.5.0",
            "_model_name": "HBoxModel",
            "_view_count": null,
            "_view_module": "@jupyter-widgets/controls",
            "_view_module_version": "1.5.0",
            "_view_name": "HBoxView",
            "box_style": "",
            "children": [
              "IPY_MODEL_fb2f3ff0809d4293ab90cfcf63d88d65",
              "IPY_MODEL_66d892435f364b5a8efc33807e9309a8",
              "IPY_MODEL_217fe1674303432f84705aaccbad6662"
            ],
            "layout": "IPY_MODEL_4acdd7d2e2624d47bd06d66f552847b2"
          }
        },
        "fb2f3ff0809d4293ab90cfcf63d88d65": {
          "model_module": "@jupyter-widgets/controls",
          "model_name": "HTMLModel",
          "model_module_version": "1.5.0",
          "state": {
            "_dom_classes": [],
            "_model_module": "@jupyter-widgets/controls",
            "_model_module_version": "1.5.0",
            "_model_name": "HTMLModel",
            "_view_count": null,
            "_view_module": "@jupyter-widgets/controls",
            "_view_module_version": "1.5.0",
            "_view_name": "HTMLView",
            "description": "",
            "description_tooltip": null,
            "layout": "IPY_MODEL_e755283720cc4417a47d452098b1c8bf",
            "placeholder": "​",
            "style": "IPY_MODEL_8a1e9fffee9b41a1a25efc84ba958c19",
            "value": "spiece.model: 100%"
          }
        },
        "66d892435f364b5a8efc33807e9309a8": {
          "model_module": "@jupyter-widgets/controls",
          "model_name": "FloatProgressModel",
          "model_module_version": "1.5.0",
          "state": {
            "_dom_classes": [],
            "_model_module": "@jupyter-widgets/controls",
            "_model_module_version": "1.5.0",
            "_model_name": "FloatProgressModel",
            "_view_count": null,
            "_view_module": "@jupyter-widgets/controls",
            "_view_module_version": "1.5.0",
            "_view_name": "ProgressView",
            "bar_style": "success",
            "description": "",
            "description_tooltip": null,
            "layout": "IPY_MODEL_bc306b33054546dbaf63b2453f25e97a",
            "max": 791656,
            "min": 0,
            "orientation": "horizontal",
            "style": "IPY_MODEL_78e5b59ea2aa448eab8c193937e96c05",
            "value": 791656
          }
        },
        "217fe1674303432f84705aaccbad6662": {
          "model_module": "@jupyter-widgets/controls",
          "model_name": "HTMLModel",
          "model_module_version": "1.5.0",
          "state": {
            "_dom_classes": [],
            "_model_module": "@jupyter-widgets/controls",
            "_model_module_version": "1.5.0",
            "_model_name": "HTMLModel",
            "_view_count": null,
            "_view_module": "@jupyter-widgets/controls",
            "_view_module_version": "1.5.0",
            "_view_name": "HTMLView",
            "description": "",
            "description_tooltip": null,
            "layout": "IPY_MODEL_fc3a1db2fad74e4487e3b6c3072e8b82",
            "placeholder": "​",
            "style": "IPY_MODEL_683b289e673f4d7b83eb69a7a5b70bad",
            "value": " 792k/792k [00:00&lt;00:00, 36.9MB/s]"
          }
        },
        "4acdd7d2e2624d47bd06d66f552847b2": {
          "model_module": "@jupyter-widgets/base",
          "model_name": "LayoutModel",
          "model_module_version": "1.2.0",
          "state": {
            "_model_module": "@jupyter-widgets/base",
            "_model_module_version": "1.2.0",
            "_model_name": "LayoutModel",
            "_view_count": null,
            "_view_module": "@jupyter-widgets/base",
            "_view_module_version": "1.2.0",
            "_view_name": "LayoutView",
            "align_content": null,
            "align_items": null,
            "align_self": null,
            "border": null,
            "bottom": null,
            "display": null,
            "flex": null,
            "flex_flow": null,
            "grid_area": null,
            "grid_auto_columns": null,
            "grid_auto_flow": null,
            "grid_auto_rows": null,
            "grid_column": null,
            "grid_gap": null,
            "grid_row": null,
            "grid_template_areas": null,
            "grid_template_columns": null,
            "grid_template_rows": null,
            "height": null,
            "justify_content": null,
            "justify_items": null,
            "left": null,
            "margin": null,
            "max_height": null,
            "max_width": null,
            "min_height": null,
            "min_width": null,
            "object_fit": null,
            "object_position": null,
            "order": null,
            "overflow": null,
            "overflow_x": null,
            "overflow_y": null,
            "padding": null,
            "right": null,
            "top": null,
            "visibility": null,
            "width": null
          }
        },
        "e755283720cc4417a47d452098b1c8bf": {
          "model_module": "@jupyter-widgets/base",
          "model_name": "LayoutModel",
          "model_module_version": "1.2.0",
          "state": {
            "_model_module": "@jupyter-widgets/base",
            "_model_module_version": "1.2.0",
            "_model_name": "LayoutModel",
            "_view_count": null,
            "_view_module": "@jupyter-widgets/base",
            "_view_module_version": "1.2.0",
            "_view_name": "LayoutView",
            "align_content": null,
            "align_items": null,
            "align_self": null,
            "border": null,
            "bottom": null,
            "display": null,
            "flex": null,
            "flex_flow": null,
            "grid_area": null,
            "grid_auto_columns": null,
            "grid_auto_flow": null,
            "grid_auto_rows": null,
            "grid_column": null,
            "grid_gap": null,
            "grid_row": null,
            "grid_template_areas": null,
            "grid_template_columns": null,
            "grid_template_rows": null,
            "height": null,
            "justify_content": null,
            "justify_items": null,
            "left": null,
            "margin": null,
            "max_height": null,
            "max_width": null,
            "min_height": null,
            "min_width": null,
            "object_fit": null,
            "object_position": null,
            "order": null,
            "overflow": null,
            "overflow_x": null,
            "overflow_y": null,
            "padding": null,
            "right": null,
            "top": null,
            "visibility": null,
            "width": null
          }
        },
        "8a1e9fffee9b41a1a25efc84ba958c19": {
          "model_module": "@jupyter-widgets/controls",
          "model_name": "DescriptionStyleModel",
          "model_module_version": "1.5.0",
          "state": {
            "_model_module": "@jupyter-widgets/controls",
            "_model_module_version": "1.5.0",
            "_model_name": "DescriptionStyleModel",
            "_view_count": null,
            "_view_module": "@jupyter-widgets/base",
            "_view_module_version": "1.2.0",
            "_view_name": "StyleView",
            "description_width": ""
          }
        },
        "bc306b33054546dbaf63b2453f25e97a": {
          "model_module": "@jupyter-widgets/base",
          "model_name": "LayoutModel",
          "model_module_version": "1.2.0",
          "state": {
            "_model_module": "@jupyter-widgets/base",
            "_model_module_version": "1.2.0",
            "_model_name": "LayoutModel",
            "_view_count": null,
            "_view_module": "@jupyter-widgets/base",
            "_view_module_version": "1.2.0",
            "_view_name": "LayoutView",
            "align_content": null,
            "align_items": null,
            "align_self": null,
            "border": null,
            "bottom": null,
            "display": null,
            "flex": null,
            "flex_flow": null,
            "grid_area": null,
            "grid_auto_columns": null,
            "grid_auto_flow": null,
            "grid_auto_rows": null,
            "grid_column": null,
            "grid_gap": null,
            "grid_row": null,
            "grid_template_areas": null,
            "grid_template_columns": null,
            "grid_template_rows": null,
            "height": null,
            "justify_content": null,
            "justify_items": null,
            "left": null,
            "margin": null,
            "max_height": null,
            "max_width": null,
            "min_height": null,
            "min_width": null,
            "object_fit": null,
            "object_position": null,
            "order": null,
            "overflow": null,
            "overflow_x": null,
            "overflow_y": null,
            "padding": null,
            "right": null,
            "top": null,
            "visibility": null,
            "width": null
          }
        },
        "78e5b59ea2aa448eab8c193937e96c05": {
          "model_module": "@jupyter-widgets/controls",
          "model_name": "ProgressStyleModel",
          "model_module_version": "1.5.0",
          "state": {
            "_model_module": "@jupyter-widgets/controls",
            "_model_module_version": "1.5.0",
            "_model_name": "ProgressStyleModel",
            "_view_count": null,
            "_view_module": "@jupyter-widgets/base",
            "_view_module_version": "1.2.0",
            "_view_name": "StyleView",
            "bar_color": null,
            "description_width": ""
          }
        },
        "fc3a1db2fad74e4487e3b6c3072e8b82": {
          "model_module": "@jupyter-widgets/base",
          "model_name": "LayoutModel",
          "model_module_version": "1.2.0",
          "state": {
            "_model_module": "@jupyter-widgets/base",
            "_model_module_version": "1.2.0",
            "_model_name": "LayoutModel",
            "_view_count": null,
            "_view_module": "@jupyter-widgets/base",
            "_view_module_version": "1.2.0",
            "_view_name": "LayoutView",
            "align_content": null,
            "align_items": null,
            "align_self": null,
            "border": null,
            "bottom": null,
            "display": null,
            "flex": null,
            "flex_flow": null,
            "grid_area": null,
            "grid_auto_columns": null,
            "grid_auto_flow": null,
            "grid_auto_rows": null,
            "grid_column": null,
            "grid_gap": null,
            "grid_row": null,
            "grid_template_areas": null,
            "grid_template_columns": null,
            "grid_template_rows": null,
            "height": null,
            "justify_content": null,
            "justify_items": null,
            "left": null,
            "margin": null,
            "max_height": null,
            "max_width": null,
            "min_height": null,
            "min_width": null,
            "object_fit": null,
            "object_position": null,
            "order": null,
            "overflow": null,
            "overflow_x": null,
            "overflow_y": null,
            "padding": null,
            "right": null,
            "top": null,
            "visibility": null,
            "width": null
          }
        },
        "683b289e673f4d7b83eb69a7a5b70bad": {
          "model_module": "@jupyter-widgets/controls",
          "model_name": "DescriptionStyleModel",
          "model_module_version": "1.5.0",
          "state": {
            "_model_module": "@jupyter-widgets/controls",
            "_model_module_version": "1.5.0",
            "_model_name": "DescriptionStyleModel",
            "_view_count": null,
            "_view_module": "@jupyter-widgets/base",
            "_view_module_version": "1.2.0",
            "_view_name": "StyleView",
            "description_width": ""
          }
        },
        "ab06a41e3f4541e9ace2c3442dab005d": {
          "model_module": "@jupyter-widgets/controls",
          "model_name": "HBoxModel",
          "model_module_version": "1.5.0",
          "state": {
            "_dom_classes": [],
            "_model_module": "@jupyter-widgets/controls",
            "_model_module_version": "1.5.0",
            "_model_name": "HBoxModel",
            "_view_count": null,
            "_view_module": "@jupyter-widgets/controls",
            "_view_module_version": "1.5.0",
            "_view_name": "HBoxView",
            "box_style": "",
            "children": [
              "IPY_MODEL_2841d9df4e89428bba496bd624f4e2d9",
              "IPY_MODEL_73415a462c08453ba101610269a4fbeb",
              "IPY_MODEL_d9a4f05675bf4b3dae15520cfb9d9695"
            ],
            "layout": "IPY_MODEL_57b1ff37b22442f0b89cdb98e1130566"
          }
        },
        "2841d9df4e89428bba496bd624f4e2d9": {
          "model_module": "@jupyter-widgets/controls",
          "model_name": "HTMLModel",
          "model_module_version": "1.5.0",
          "state": {
            "_dom_classes": [],
            "_model_module": "@jupyter-widgets/controls",
            "_model_module_version": "1.5.0",
            "_model_name": "HTMLModel",
            "_view_count": null,
            "_view_module": "@jupyter-widgets/controls",
            "_view_module_version": "1.5.0",
            "_view_name": "HTMLView",
            "description": "",
            "description_tooltip": null,
            "layout": "IPY_MODEL_b50910dc4c7744dd980b082039373c1c",
            "placeholder": "​",
            "style": "IPY_MODEL_498b9016ddb4477db9c9c2a714a7f596",
            "value": "special_tokens_map.json: 100%"
          }
        },
        "73415a462c08453ba101610269a4fbeb": {
          "model_module": "@jupyter-widgets/controls",
          "model_name": "FloatProgressModel",
          "model_module_version": "1.5.0",
          "state": {
            "_dom_classes": [],
            "_model_module": "@jupyter-widgets/controls",
            "_model_module_version": "1.5.0",
            "_model_name": "FloatProgressModel",
            "_view_count": null,
            "_view_module": "@jupyter-widgets/controls",
            "_view_module_version": "1.5.0",
            "_view_name": "ProgressView",
            "bar_style": "success",
            "description": "",
            "description_tooltip": null,
            "layout": "IPY_MODEL_2926531d41684439bd4a0fc4c22087e3",
            "max": 2201,
            "min": 0,
            "orientation": "horizontal",
            "style": "IPY_MODEL_a464256567d346f4be4dcd61180381f3",
            "value": 2201
          }
        },
        "d9a4f05675bf4b3dae15520cfb9d9695": {
          "model_module": "@jupyter-widgets/controls",
          "model_name": "HTMLModel",
          "model_module_version": "1.5.0",
          "state": {
            "_dom_classes": [],
            "_model_module": "@jupyter-widgets/controls",
            "_model_module_version": "1.5.0",
            "_model_name": "HTMLModel",
            "_view_count": null,
            "_view_module": "@jupyter-widgets/controls",
            "_view_module_version": "1.5.0",
            "_view_name": "HTMLView",
            "description": "",
            "description_tooltip": null,
            "layout": "IPY_MODEL_0b63e98f0bdf4afdb6cff00d19c7ec30",
            "placeholder": "​",
            "style": "IPY_MODEL_bb2c26c64a944f29a2fe2746d5185d22",
            "value": " 2.20k/2.20k [00:00&lt;00:00, 109kB/s]"
          }
        },
        "57b1ff37b22442f0b89cdb98e1130566": {
          "model_module": "@jupyter-widgets/base",
          "model_name": "LayoutModel",
          "model_module_version": "1.2.0",
          "state": {
            "_model_module": "@jupyter-widgets/base",
            "_model_module_version": "1.2.0",
            "_model_name": "LayoutModel",
            "_view_count": null,
            "_view_module": "@jupyter-widgets/base",
            "_view_module_version": "1.2.0",
            "_view_name": "LayoutView",
            "align_content": null,
            "align_items": null,
            "align_self": null,
            "border": null,
            "bottom": null,
            "display": null,
            "flex": null,
            "flex_flow": null,
            "grid_area": null,
            "grid_auto_columns": null,
            "grid_auto_flow": null,
            "grid_auto_rows": null,
            "grid_column": null,
            "grid_gap": null,
            "grid_row": null,
            "grid_template_areas": null,
            "grid_template_columns": null,
            "grid_template_rows": null,
            "height": null,
            "justify_content": null,
            "justify_items": null,
            "left": null,
            "margin": null,
            "max_height": null,
            "max_width": null,
            "min_height": null,
            "min_width": null,
            "object_fit": null,
            "object_position": null,
            "order": null,
            "overflow": null,
            "overflow_x": null,
            "overflow_y": null,
            "padding": null,
            "right": null,
            "top": null,
            "visibility": null,
            "width": null
          }
        },
        "b50910dc4c7744dd980b082039373c1c": {
          "model_module": "@jupyter-widgets/base",
          "model_name": "LayoutModel",
          "model_module_version": "1.2.0",
          "state": {
            "_model_module": "@jupyter-widgets/base",
            "_model_module_version": "1.2.0",
            "_model_name": "LayoutModel",
            "_view_count": null,
            "_view_module": "@jupyter-widgets/base",
            "_view_module_version": "1.2.0",
            "_view_name": "LayoutView",
            "align_content": null,
            "align_items": null,
            "align_self": null,
            "border": null,
            "bottom": null,
            "display": null,
            "flex": null,
            "flex_flow": null,
            "grid_area": null,
            "grid_auto_columns": null,
            "grid_auto_flow": null,
            "grid_auto_rows": null,
            "grid_column": null,
            "grid_gap": null,
            "grid_row": null,
            "grid_template_areas": null,
            "grid_template_columns": null,
            "grid_template_rows": null,
            "height": null,
            "justify_content": null,
            "justify_items": null,
            "left": null,
            "margin": null,
            "max_height": null,
            "max_width": null,
            "min_height": null,
            "min_width": null,
            "object_fit": null,
            "object_position": null,
            "order": null,
            "overflow": null,
            "overflow_x": null,
            "overflow_y": null,
            "padding": null,
            "right": null,
            "top": null,
            "visibility": null,
            "width": null
          }
        },
        "498b9016ddb4477db9c9c2a714a7f596": {
          "model_module": "@jupyter-widgets/controls",
          "model_name": "DescriptionStyleModel",
          "model_module_version": "1.5.0",
          "state": {
            "_model_module": "@jupyter-widgets/controls",
            "_model_module_version": "1.5.0",
            "_model_name": "DescriptionStyleModel",
            "_view_count": null,
            "_view_module": "@jupyter-widgets/base",
            "_view_module_version": "1.2.0",
            "_view_name": "StyleView",
            "description_width": ""
          }
        },
        "2926531d41684439bd4a0fc4c22087e3": {
          "model_module": "@jupyter-widgets/base",
          "model_name": "LayoutModel",
          "model_module_version": "1.2.0",
          "state": {
            "_model_module": "@jupyter-widgets/base",
            "_model_module_version": "1.2.0",
            "_model_name": "LayoutModel",
            "_view_count": null,
            "_view_module": "@jupyter-widgets/base",
            "_view_module_version": "1.2.0",
            "_view_name": "LayoutView",
            "align_content": null,
            "align_items": null,
            "align_self": null,
            "border": null,
            "bottom": null,
            "display": null,
            "flex": null,
            "flex_flow": null,
            "grid_area": null,
            "grid_auto_columns": null,
            "grid_auto_flow": null,
            "grid_auto_rows": null,
            "grid_column": null,
            "grid_gap": null,
            "grid_row": null,
            "grid_template_areas": null,
            "grid_template_columns": null,
            "grid_template_rows": null,
            "height": null,
            "justify_content": null,
            "justify_items": null,
            "left": null,
            "margin": null,
            "max_height": null,
            "max_width": null,
            "min_height": null,
            "min_width": null,
            "object_fit": null,
            "object_position": null,
            "order": null,
            "overflow": null,
            "overflow_x": null,
            "overflow_y": null,
            "padding": null,
            "right": null,
            "top": null,
            "visibility": null,
            "width": null
          }
        },
        "a464256567d346f4be4dcd61180381f3": {
          "model_module": "@jupyter-widgets/controls",
          "model_name": "ProgressStyleModel",
          "model_module_version": "1.5.0",
          "state": {
            "_model_module": "@jupyter-widgets/controls",
            "_model_module_version": "1.5.0",
            "_model_name": "ProgressStyleModel",
            "_view_count": null,
            "_view_module": "@jupyter-widgets/base",
            "_view_module_version": "1.2.0",
            "_view_name": "StyleView",
            "bar_color": null,
            "description_width": ""
          }
        },
        "0b63e98f0bdf4afdb6cff00d19c7ec30": {
          "model_module": "@jupyter-widgets/base",
          "model_name": "LayoutModel",
          "model_module_version": "1.2.0",
          "state": {
            "_model_module": "@jupyter-widgets/base",
            "_model_module_version": "1.2.0",
            "_model_name": "LayoutModel",
            "_view_count": null,
            "_view_module": "@jupyter-widgets/base",
            "_view_module_version": "1.2.0",
            "_view_name": "LayoutView",
            "align_content": null,
            "align_items": null,
            "align_self": null,
            "border": null,
            "bottom": null,
            "display": null,
            "flex": null,
            "flex_flow": null,
            "grid_area": null,
            "grid_auto_columns": null,
            "grid_auto_flow": null,
            "grid_auto_rows": null,
            "grid_column": null,
            "grid_gap": null,
            "grid_row": null,
            "grid_template_areas": null,
            "grid_template_columns": null,
            "grid_template_rows": null,
            "height": null,
            "justify_content": null,
            "justify_items": null,
            "left": null,
            "margin": null,
            "max_height": null,
            "max_width": null,
            "min_height": null,
            "min_width": null,
            "object_fit": null,
            "object_position": null,
            "order": null,
            "overflow": null,
            "overflow_x": null,
            "overflow_y": null,
            "padding": null,
            "right": null,
            "top": null,
            "visibility": null,
            "width": null
          }
        },
        "bb2c26c64a944f29a2fe2746d5185d22": {
          "model_module": "@jupyter-widgets/controls",
          "model_name": "DescriptionStyleModel",
          "model_module_version": "1.5.0",
          "state": {
            "_model_module": "@jupyter-widgets/controls",
            "_model_module_version": "1.5.0",
            "_model_name": "DescriptionStyleModel",
            "_view_count": null,
            "_view_module": "@jupyter-widgets/base",
            "_view_module_version": "1.2.0",
            "_view_name": "StyleView",
            "description_width": ""
          }
        },
        "5908b85c0a0246169ed0fc36515fc6f5": {
          "model_module": "@jupyter-widgets/controls",
          "model_name": "HBoxModel",
          "model_module_version": "1.5.0",
          "state": {
            "_dom_classes": [],
            "_model_module": "@jupyter-widgets/controls",
            "_model_module_version": "1.5.0",
            "_model_name": "HBoxModel",
            "_view_count": null,
            "_view_module": "@jupyter-widgets/controls",
            "_view_module_version": "1.5.0",
            "_view_name": "HBoxView",
            "box_style": "",
            "children": [
              "IPY_MODEL_d1a06719891d4864b31bb92d50fb7573",
              "IPY_MODEL_ee28ccf41dc4401a8b4d51edf6023c31",
              "IPY_MODEL_d12dbee1cf6046ffa3225f9b757172ec"
            ],
            "layout": "IPY_MODEL_d02d83ffa45c44a9bdedb994d3e791e6"
          }
        },
        "d1a06719891d4864b31bb92d50fb7573": {
          "model_module": "@jupyter-widgets/controls",
          "model_name": "HTMLModel",
          "model_module_version": "1.5.0",
          "state": {
            "_dom_classes": [],
            "_model_module": "@jupyter-widgets/controls",
            "_model_module_version": "1.5.0",
            "_model_name": "HTMLModel",
            "_view_count": null,
            "_view_module": "@jupyter-widgets/controls",
            "_view_module_version": "1.5.0",
            "_view_name": "HTMLView",
            "description": "",
            "description_tooltip": null,
            "layout": "IPY_MODEL_bf693b90a3ef4ba7a62acb5d0f9bcbce",
            "placeholder": "​",
            "style": "IPY_MODEL_558ddac1df3a4770bd0e0b7052ddffab",
            "value": "tokenizer.json: 100%"
          }
        },
        "ee28ccf41dc4401a8b4d51edf6023c31": {
          "model_module": "@jupyter-widgets/controls",
          "model_name": "FloatProgressModel",
          "model_module_version": "1.5.0",
          "state": {
            "_dom_classes": [],
            "_model_module": "@jupyter-widgets/controls",
            "_model_module_version": "1.5.0",
            "_model_name": "FloatProgressModel",
            "_view_count": null,
            "_view_module": "@jupyter-widgets/controls",
            "_view_module_version": "1.5.0",
            "_view_name": "ProgressView",
            "bar_style": "success",
            "description": "",
            "description_tooltip": null,
            "layout": "IPY_MODEL_a0f7f09dd7214d40aa7deb353855ab0d",
            "max": 2424064,
            "min": 0,
            "orientation": "horizontal",
            "style": "IPY_MODEL_cd10c0c8e5644c2aa57a112dd2e31a77",
            "value": 2424064
          }
        },
        "d12dbee1cf6046ffa3225f9b757172ec": {
          "model_module": "@jupyter-widgets/controls",
          "model_name": "HTMLModel",
          "model_module_version": "1.5.0",
          "state": {
            "_dom_classes": [],
            "_model_module": "@jupyter-widgets/controls",
            "_model_module_version": "1.5.0",
            "_model_name": "HTMLModel",
            "_view_count": null,
            "_view_module": "@jupyter-widgets/controls",
            "_view_module_version": "1.5.0",
            "_view_name": "HTMLView",
            "description": "",
            "description_tooltip": null,
            "layout": "IPY_MODEL_193eba430cd742a599030757ec2cf32f",
            "placeholder": "​",
            "style": "IPY_MODEL_78b36149f9834d5a9b2a77c6548f8628",
            "value": " 2.42M/2.42M [00:00&lt;00:00, 14.2MB/s]"
          }
        },
        "d02d83ffa45c44a9bdedb994d3e791e6": {
          "model_module": "@jupyter-widgets/base",
          "model_name": "LayoutModel",
          "model_module_version": "1.2.0",
          "state": {
            "_model_module": "@jupyter-widgets/base",
            "_model_module_version": "1.2.0",
            "_model_name": "LayoutModel",
            "_view_count": null,
            "_view_module": "@jupyter-widgets/base",
            "_view_module_version": "1.2.0",
            "_view_name": "LayoutView",
            "align_content": null,
            "align_items": null,
            "align_self": null,
            "border": null,
            "bottom": null,
            "display": null,
            "flex": null,
            "flex_flow": null,
            "grid_area": null,
            "grid_auto_columns": null,
            "grid_auto_flow": null,
            "grid_auto_rows": null,
            "grid_column": null,
            "grid_gap": null,
            "grid_row": null,
            "grid_template_areas": null,
            "grid_template_columns": null,
            "grid_template_rows": null,
            "height": null,
            "justify_content": null,
            "justify_items": null,
            "left": null,
            "margin": null,
            "max_height": null,
            "max_width": null,
            "min_height": null,
            "min_width": null,
            "object_fit": null,
            "object_position": null,
            "order": null,
            "overflow": null,
            "overflow_x": null,
            "overflow_y": null,
            "padding": null,
            "right": null,
            "top": null,
            "visibility": null,
            "width": null
          }
        },
        "bf693b90a3ef4ba7a62acb5d0f9bcbce": {
          "model_module": "@jupyter-widgets/base",
          "model_name": "LayoutModel",
          "model_module_version": "1.2.0",
          "state": {
            "_model_module": "@jupyter-widgets/base",
            "_model_module_version": "1.2.0",
            "_model_name": "LayoutModel",
            "_view_count": null,
            "_view_module": "@jupyter-widgets/base",
            "_view_module_version": "1.2.0",
            "_view_name": "LayoutView",
            "align_content": null,
            "align_items": null,
            "align_self": null,
            "border": null,
            "bottom": null,
            "display": null,
            "flex": null,
            "flex_flow": null,
            "grid_area": null,
            "grid_auto_columns": null,
            "grid_auto_flow": null,
            "grid_auto_rows": null,
            "grid_column": null,
            "grid_gap": null,
            "grid_row": null,
            "grid_template_areas": null,
            "grid_template_columns": null,
            "grid_template_rows": null,
            "height": null,
            "justify_content": null,
            "justify_items": null,
            "left": null,
            "margin": null,
            "max_height": null,
            "max_width": null,
            "min_height": null,
            "min_width": null,
            "object_fit": null,
            "object_position": null,
            "order": null,
            "overflow": null,
            "overflow_x": null,
            "overflow_y": null,
            "padding": null,
            "right": null,
            "top": null,
            "visibility": null,
            "width": null
          }
        },
        "558ddac1df3a4770bd0e0b7052ddffab": {
          "model_module": "@jupyter-widgets/controls",
          "model_name": "DescriptionStyleModel",
          "model_module_version": "1.5.0",
          "state": {
            "_model_module": "@jupyter-widgets/controls",
            "_model_module_version": "1.5.0",
            "_model_name": "DescriptionStyleModel",
            "_view_count": null,
            "_view_module": "@jupyter-widgets/base",
            "_view_module_version": "1.2.0",
            "_view_name": "StyleView",
            "description_width": ""
          }
        },
        "a0f7f09dd7214d40aa7deb353855ab0d": {
          "model_module": "@jupyter-widgets/base",
          "model_name": "LayoutModel",
          "model_module_version": "1.2.0",
          "state": {
            "_model_module": "@jupyter-widgets/base",
            "_model_module_version": "1.2.0",
            "_model_name": "LayoutModel",
            "_view_count": null,
            "_view_module": "@jupyter-widgets/base",
            "_view_module_version": "1.2.0",
            "_view_name": "LayoutView",
            "align_content": null,
            "align_items": null,
            "align_self": null,
            "border": null,
            "bottom": null,
            "display": null,
            "flex": null,
            "flex_flow": null,
            "grid_area": null,
            "grid_auto_columns": null,
            "grid_auto_flow": null,
            "grid_auto_rows": null,
            "grid_column": null,
            "grid_gap": null,
            "grid_row": null,
            "grid_template_areas": null,
            "grid_template_columns": null,
            "grid_template_rows": null,
            "height": null,
            "justify_content": null,
            "justify_items": null,
            "left": null,
            "margin": null,
            "max_height": null,
            "max_width": null,
            "min_height": null,
            "min_width": null,
            "object_fit": null,
            "object_position": null,
            "order": null,
            "overflow": null,
            "overflow_x": null,
            "overflow_y": null,
            "padding": null,
            "right": null,
            "top": null,
            "visibility": null,
            "width": null
          }
        },
        "cd10c0c8e5644c2aa57a112dd2e31a77": {
          "model_module": "@jupyter-widgets/controls",
          "model_name": "ProgressStyleModel",
          "model_module_version": "1.5.0",
          "state": {
            "_model_module": "@jupyter-widgets/controls",
            "_model_module_version": "1.5.0",
            "_model_name": "ProgressStyleModel",
            "_view_count": null,
            "_view_module": "@jupyter-widgets/base",
            "_view_module_version": "1.2.0",
            "_view_name": "StyleView",
            "bar_color": null,
            "description_width": ""
          }
        },
        "193eba430cd742a599030757ec2cf32f": {
          "model_module": "@jupyter-widgets/base",
          "model_name": "LayoutModel",
          "model_module_version": "1.2.0",
          "state": {
            "_model_module": "@jupyter-widgets/base",
            "_model_module_version": "1.2.0",
            "_model_name": "LayoutModel",
            "_view_count": null,
            "_view_module": "@jupyter-widgets/base",
            "_view_module_version": "1.2.0",
            "_view_name": "LayoutView",
            "align_content": null,
            "align_items": null,
            "align_self": null,
            "border": null,
            "bottom": null,
            "display": null,
            "flex": null,
            "flex_flow": null,
            "grid_area": null,
            "grid_auto_columns": null,
            "grid_auto_flow": null,
            "grid_auto_rows": null,
            "grid_column": null,
            "grid_gap": null,
            "grid_row": null,
            "grid_template_areas": null,
            "grid_template_columns": null,
            "grid_template_rows": null,
            "height": null,
            "justify_content": null,
            "justify_items": null,
            "left": null,
            "margin": null,
            "max_height": null,
            "max_width": null,
            "min_height": null,
            "min_width": null,
            "object_fit": null,
            "object_position": null,
            "order": null,
            "overflow": null,
            "overflow_x": null,
            "overflow_y": null,
            "padding": null,
            "right": null,
            "top": null,
            "visibility": null,
            "width": null
          }
        },
        "78b36149f9834d5a9b2a77c6548f8628": {
          "model_module": "@jupyter-widgets/controls",
          "model_name": "DescriptionStyleModel",
          "model_module_version": "1.5.0",
          "state": {
            "_model_module": "@jupyter-widgets/controls",
            "_model_module_version": "1.5.0",
            "_model_name": "DescriptionStyleModel",
            "_view_count": null,
            "_view_module": "@jupyter-widgets/base",
            "_view_module_version": "1.2.0",
            "_view_name": "StyleView",
            "description_width": ""
          }
        },
        "27fdb064f2a84d8185ff6b5d6159d93f": {
          "model_module": "@jupyter-widgets/controls",
          "model_name": "HBoxModel",
          "model_module_version": "1.5.0",
          "state": {
            "_dom_classes": [],
            "_model_module": "@jupyter-widgets/controls",
            "_model_module_version": "1.5.0",
            "_model_name": "HBoxModel",
            "_view_count": null,
            "_view_module": "@jupyter-widgets/controls",
            "_view_module_version": "1.5.0",
            "_view_name": "HBoxView",
            "box_style": "",
            "children": [
              "IPY_MODEL_442e15a331364022ac0450929e5f4563",
              "IPY_MODEL_944e0220c8194e618855fc4b2ea91f71",
              "IPY_MODEL_91bc3aa95b8d467abbf3e90245ca4b78"
            ],
            "layout": "IPY_MODEL_d03d719b9e7a4670a0c202c2f8a725ec"
          }
        },
        "442e15a331364022ac0450929e5f4563": {
          "model_module": "@jupyter-widgets/controls",
          "model_name": "HTMLModel",
          "model_module_version": "1.5.0",
          "state": {
            "_dom_classes": [],
            "_model_module": "@jupyter-widgets/controls",
            "_model_module_version": "1.5.0",
            "_model_name": "HTMLModel",
            "_view_count": null,
            "_view_module": "@jupyter-widgets/controls",
            "_view_module_version": "1.5.0",
            "_view_name": "HTMLView",
            "description": "",
            "description_tooltip": null,
            "layout": "IPY_MODEL_08b44418c8504c5fbf86de52b297e7c4",
            "placeholder": "​",
            "style": "IPY_MODEL_5f93c17d920a43a3a6082e0e484e10b4",
            "value": "Downloading builder script: 100%"
          }
        },
        "944e0220c8194e618855fc4b2ea91f71": {
          "model_module": "@jupyter-widgets/controls",
          "model_name": "FloatProgressModel",
          "model_module_version": "1.5.0",
          "state": {
            "_dom_classes": [],
            "_model_module": "@jupyter-widgets/controls",
            "_model_module_version": "1.5.0",
            "_model_name": "FloatProgressModel",
            "_view_count": null,
            "_view_module": "@jupyter-widgets/controls",
            "_view_module_version": "1.5.0",
            "_view_name": "ProgressView",
            "bar_style": "success",
            "description": "",
            "description_tooltip": null,
            "layout": "IPY_MODEL_da5ae8a224774dc78b638c333bb7f12f",
            "max": 2756,
            "min": 0,
            "orientation": "horizontal",
            "style": "IPY_MODEL_70e5163ddc8643c3925f495fdde9ea46",
            "value": 2756
          }
        },
        "91bc3aa95b8d467abbf3e90245ca4b78": {
          "model_module": "@jupyter-widgets/controls",
          "model_name": "HTMLModel",
          "model_module_version": "1.5.0",
          "state": {
            "_dom_classes": [],
            "_model_module": "@jupyter-widgets/controls",
            "_model_module_version": "1.5.0",
            "_model_name": "HTMLModel",
            "_view_count": null,
            "_view_module": "@jupyter-widgets/controls",
            "_view_module_version": "1.5.0",
            "_view_name": "HTMLView",
            "description": "",
            "description_tooltip": null,
            "layout": "IPY_MODEL_07f4afd93a2f44749a31aebc5a1cdd36",
            "placeholder": "​",
            "style": "IPY_MODEL_cadc4beefdaf48b6b94fc9c7c5f83ab3",
            "value": " 2.76k/2.76k [00:00&lt;00:00, 149kB/s]"
          }
        },
        "d03d719b9e7a4670a0c202c2f8a725ec": {
          "model_module": "@jupyter-widgets/base",
          "model_name": "LayoutModel",
          "model_module_version": "1.2.0",
          "state": {
            "_model_module": "@jupyter-widgets/base",
            "_model_module_version": "1.2.0",
            "_model_name": "LayoutModel",
            "_view_count": null,
            "_view_module": "@jupyter-widgets/base",
            "_view_module_version": "1.2.0",
            "_view_name": "LayoutView",
            "align_content": null,
            "align_items": null,
            "align_self": null,
            "border": null,
            "bottom": null,
            "display": null,
            "flex": null,
            "flex_flow": null,
            "grid_area": null,
            "grid_auto_columns": null,
            "grid_auto_flow": null,
            "grid_auto_rows": null,
            "grid_column": null,
            "grid_gap": null,
            "grid_row": null,
            "grid_template_areas": null,
            "grid_template_columns": null,
            "grid_template_rows": null,
            "height": null,
            "justify_content": null,
            "justify_items": null,
            "left": null,
            "margin": null,
            "max_height": null,
            "max_width": null,
            "min_height": null,
            "min_width": null,
            "object_fit": null,
            "object_position": null,
            "order": null,
            "overflow": null,
            "overflow_x": null,
            "overflow_y": null,
            "padding": null,
            "right": null,
            "top": null,
            "visibility": null,
            "width": null
          }
        },
        "08b44418c8504c5fbf86de52b297e7c4": {
          "model_module": "@jupyter-widgets/base",
          "model_name": "LayoutModel",
          "model_module_version": "1.2.0",
          "state": {
            "_model_module": "@jupyter-widgets/base",
            "_model_module_version": "1.2.0",
            "_model_name": "LayoutModel",
            "_view_count": null,
            "_view_module": "@jupyter-widgets/base",
            "_view_module_version": "1.2.0",
            "_view_name": "LayoutView",
            "align_content": null,
            "align_items": null,
            "align_self": null,
            "border": null,
            "bottom": null,
            "display": null,
            "flex": null,
            "flex_flow": null,
            "grid_area": null,
            "grid_auto_columns": null,
            "grid_auto_flow": null,
            "grid_auto_rows": null,
            "grid_column": null,
            "grid_gap": null,
            "grid_row": null,
            "grid_template_areas": null,
            "grid_template_columns": null,
            "grid_template_rows": null,
            "height": null,
            "justify_content": null,
            "justify_items": null,
            "left": null,
            "margin": null,
            "max_height": null,
            "max_width": null,
            "min_height": null,
            "min_width": null,
            "object_fit": null,
            "object_position": null,
            "order": null,
            "overflow": null,
            "overflow_x": null,
            "overflow_y": null,
            "padding": null,
            "right": null,
            "top": null,
            "visibility": null,
            "width": null
          }
        },
        "5f93c17d920a43a3a6082e0e484e10b4": {
          "model_module": "@jupyter-widgets/controls",
          "model_name": "DescriptionStyleModel",
          "model_module_version": "1.5.0",
          "state": {
            "_model_module": "@jupyter-widgets/controls",
            "_model_module_version": "1.5.0",
            "_model_name": "DescriptionStyleModel",
            "_view_count": null,
            "_view_module": "@jupyter-widgets/base",
            "_view_module_version": "1.2.0",
            "_view_name": "StyleView",
            "description_width": ""
          }
        },
        "da5ae8a224774dc78b638c333bb7f12f": {
          "model_module": "@jupyter-widgets/base",
          "model_name": "LayoutModel",
          "model_module_version": "1.2.0",
          "state": {
            "_model_module": "@jupyter-widgets/base",
            "_model_module_version": "1.2.0",
            "_model_name": "LayoutModel",
            "_view_count": null,
            "_view_module": "@jupyter-widgets/base",
            "_view_module_version": "1.2.0",
            "_view_name": "LayoutView",
            "align_content": null,
            "align_items": null,
            "align_self": null,
            "border": null,
            "bottom": null,
            "display": null,
            "flex": null,
            "flex_flow": null,
            "grid_area": null,
            "grid_auto_columns": null,
            "grid_auto_flow": null,
            "grid_auto_rows": null,
            "grid_column": null,
            "grid_gap": null,
            "grid_row": null,
            "grid_template_areas": null,
            "grid_template_columns": null,
            "grid_template_rows": null,
            "height": null,
            "justify_content": null,
            "justify_items": null,
            "left": null,
            "margin": null,
            "max_height": null,
            "max_width": null,
            "min_height": null,
            "min_width": null,
            "object_fit": null,
            "object_position": null,
            "order": null,
            "overflow": null,
            "overflow_x": null,
            "overflow_y": null,
            "padding": null,
            "right": null,
            "top": null,
            "visibility": null,
            "width": null
          }
        },
        "70e5163ddc8643c3925f495fdde9ea46": {
          "model_module": "@jupyter-widgets/controls",
          "model_name": "ProgressStyleModel",
          "model_module_version": "1.5.0",
          "state": {
            "_model_module": "@jupyter-widgets/controls",
            "_model_module_version": "1.5.0",
            "_model_name": "ProgressStyleModel",
            "_view_count": null,
            "_view_module": "@jupyter-widgets/base",
            "_view_module_version": "1.2.0",
            "_view_name": "StyleView",
            "bar_color": null,
            "description_width": ""
          }
        },
        "07f4afd93a2f44749a31aebc5a1cdd36": {
          "model_module": "@jupyter-widgets/base",
          "model_name": "LayoutModel",
          "model_module_version": "1.2.0",
          "state": {
            "_model_module": "@jupyter-widgets/base",
            "_model_module_version": "1.2.0",
            "_model_name": "LayoutModel",
            "_view_count": null,
            "_view_module": "@jupyter-widgets/base",
            "_view_module_version": "1.2.0",
            "_view_name": "LayoutView",
            "align_content": null,
            "align_items": null,
            "align_self": null,
            "border": null,
            "bottom": null,
            "display": null,
            "flex": null,
            "flex_flow": null,
            "grid_area": null,
            "grid_auto_columns": null,
            "grid_auto_flow": null,
            "grid_auto_rows": null,
            "grid_column": null,
            "grid_gap": null,
            "grid_row": null,
            "grid_template_areas": null,
            "grid_template_columns": null,
            "grid_template_rows": null,
            "height": null,
            "justify_content": null,
            "justify_items": null,
            "left": null,
            "margin": null,
            "max_height": null,
            "max_width": null,
            "min_height": null,
            "min_width": null,
            "object_fit": null,
            "object_position": null,
            "order": null,
            "overflow": null,
            "overflow_x": null,
            "overflow_y": null,
            "padding": null,
            "right": null,
            "top": null,
            "visibility": null,
            "width": null
          }
        },
        "cadc4beefdaf48b6b94fc9c7c5f83ab3": {
          "model_module": "@jupyter-widgets/controls",
          "model_name": "DescriptionStyleModel",
          "model_module_version": "1.5.0",
          "state": {
            "_model_module": "@jupyter-widgets/controls",
            "_model_module_version": "1.5.0",
            "_model_name": "DescriptionStyleModel",
            "_view_count": null,
            "_view_module": "@jupyter-widgets/base",
            "_view_module_version": "1.2.0",
            "_view_name": "StyleView",
            "description_width": ""
          }
        },
        "e2ebff2dfde34309ad9c175d6d4a387e": {
          "model_module": "@jupyter-widgets/controls",
          "model_name": "HBoxModel",
          "model_module_version": "1.5.0",
          "state": {
            "_dom_classes": [],
            "_model_module": "@jupyter-widgets/controls",
            "_model_module_version": "1.5.0",
            "_model_name": "HBoxModel",
            "_view_count": null,
            "_view_module": "@jupyter-widgets/controls",
            "_view_module_version": "1.5.0",
            "_view_name": "HBoxView",
            "box_style": "",
            "children": [
              "IPY_MODEL_1aae67f41a38452483e17ee3a06cfdea",
              "IPY_MODEL_33946656443b4d8fb6145fd151bd2fb9",
              "IPY_MODEL_4a8d2f8147264d8799ea7fec98d8fd0d"
            ],
            "layout": "IPY_MODEL_b7c602e9585b4237817890608a1794e2"
          }
        },
        "1aae67f41a38452483e17ee3a06cfdea": {
          "model_module": "@jupyter-widgets/controls",
          "model_name": "HTMLModel",
          "model_module_version": "1.5.0",
          "state": {
            "_dom_classes": [],
            "_model_module": "@jupyter-widgets/controls",
            "_model_module_version": "1.5.0",
            "_model_name": "HTMLModel",
            "_view_count": null,
            "_view_module": "@jupyter-widgets/controls",
            "_view_module_version": "1.5.0",
            "_view_name": "HTMLView",
            "description": "",
            "description_tooltip": null,
            "layout": "IPY_MODEL_89bb2a6072154243975f3030471390e6",
            "placeholder": "​",
            "style": "IPY_MODEL_914e06227c094cabb392ae76782e397e",
            "value": "Downloading metadata: 100%"
          }
        },
        "33946656443b4d8fb6145fd151bd2fb9": {
          "model_module": "@jupyter-widgets/controls",
          "model_name": "FloatProgressModel",
          "model_module_version": "1.5.0",
          "state": {
            "_dom_classes": [],
            "_model_module": "@jupyter-widgets/controls",
            "_model_module_version": "1.5.0",
            "_model_name": "FloatProgressModel",
            "_view_count": null,
            "_view_module": "@jupyter-widgets/controls",
            "_view_module_version": "1.5.0",
            "_view_name": "ProgressView",
            "bar_style": "success",
            "description": "",
            "description_tooltip": null,
            "layout": "IPY_MODEL_c6f1086de334486f8e646e348b535255",
            "max": 1594,
            "min": 0,
            "orientation": "horizontal",
            "style": "IPY_MODEL_7ce8f2ef18d245569f581650e925922d",
            "value": 1594
          }
        },
        "4a8d2f8147264d8799ea7fec98d8fd0d": {
          "model_module": "@jupyter-widgets/controls",
          "model_name": "HTMLModel",
          "model_module_version": "1.5.0",
          "state": {
            "_dom_classes": [],
            "_model_module": "@jupyter-widgets/controls",
            "_model_module_version": "1.5.0",
            "_model_name": "HTMLModel",
            "_view_count": null,
            "_view_module": "@jupyter-widgets/controls",
            "_view_module_version": "1.5.0",
            "_view_name": "HTMLView",
            "description": "",
            "description_tooltip": null,
            "layout": "IPY_MODEL_92c0e0d435be49928c0fb9c1e948a86a",
            "placeholder": "​",
            "style": "IPY_MODEL_52b579331d49488abedc3684ddfd320d",
            "value": " 1.59k/1.59k [00:00&lt;00:00, 98.4kB/s]"
          }
        },
        "b7c602e9585b4237817890608a1794e2": {
          "model_module": "@jupyter-widgets/base",
          "model_name": "LayoutModel",
          "model_module_version": "1.2.0",
          "state": {
            "_model_module": "@jupyter-widgets/base",
            "_model_module_version": "1.2.0",
            "_model_name": "LayoutModel",
            "_view_count": null,
            "_view_module": "@jupyter-widgets/base",
            "_view_module_version": "1.2.0",
            "_view_name": "LayoutView",
            "align_content": null,
            "align_items": null,
            "align_self": null,
            "border": null,
            "bottom": null,
            "display": null,
            "flex": null,
            "flex_flow": null,
            "grid_area": null,
            "grid_auto_columns": null,
            "grid_auto_flow": null,
            "grid_auto_rows": null,
            "grid_column": null,
            "grid_gap": null,
            "grid_row": null,
            "grid_template_areas": null,
            "grid_template_columns": null,
            "grid_template_rows": null,
            "height": null,
            "justify_content": null,
            "justify_items": null,
            "left": null,
            "margin": null,
            "max_height": null,
            "max_width": null,
            "min_height": null,
            "min_width": null,
            "object_fit": null,
            "object_position": null,
            "order": null,
            "overflow": null,
            "overflow_x": null,
            "overflow_y": null,
            "padding": null,
            "right": null,
            "top": null,
            "visibility": null,
            "width": null
          }
        },
        "89bb2a6072154243975f3030471390e6": {
          "model_module": "@jupyter-widgets/base",
          "model_name": "LayoutModel",
          "model_module_version": "1.2.0",
          "state": {
            "_model_module": "@jupyter-widgets/base",
            "_model_module_version": "1.2.0",
            "_model_name": "LayoutModel",
            "_view_count": null,
            "_view_module": "@jupyter-widgets/base",
            "_view_module_version": "1.2.0",
            "_view_name": "LayoutView",
            "align_content": null,
            "align_items": null,
            "align_self": null,
            "border": null,
            "bottom": null,
            "display": null,
            "flex": null,
            "flex_flow": null,
            "grid_area": null,
            "grid_auto_columns": null,
            "grid_auto_flow": null,
            "grid_auto_rows": null,
            "grid_column": null,
            "grid_gap": null,
            "grid_row": null,
            "grid_template_areas": null,
            "grid_template_columns": null,
            "grid_template_rows": null,
            "height": null,
            "justify_content": null,
            "justify_items": null,
            "left": null,
            "margin": null,
            "max_height": null,
            "max_width": null,
            "min_height": null,
            "min_width": null,
            "object_fit": null,
            "object_position": null,
            "order": null,
            "overflow": null,
            "overflow_x": null,
            "overflow_y": null,
            "padding": null,
            "right": null,
            "top": null,
            "visibility": null,
            "width": null
          }
        },
        "914e06227c094cabb392ae76782e397e": {
          "model_module": "@jupyter-widgets/controls",
          "model_name": "DescriptionStyleModel",
          "model_module_version": "1.5.0",
          "state": {
            "_model_module": "@jupyter-widgets/controls",
            "_model_module_version": "1.5.0",
            "_model_name": "DescriptionStyleModel",
            "_view_count": null,
            "_view_module": "@jupyter-widgets/base",
            "_view_module_version": "1.2.0",
            "_view_name": "StyleView",
            "description_width": ""
          }
        },
        "c6f1086de334486f8e646e348b535255": {
          "model_module": "@jupyter-widgets/base",
          "model_name": "LayoutModel",
          "model_module_version": "1.2.0",
          "state": {
            "_model_module": "@jupyter-widgets/base",
            "_model_module_version": "1.2.0",
            "_model_name": "LayoutModel",
            "_view_count": null,
            "_view_module": "@jupyter-widgets/base",
            "_view_module_version": "1.2.0",
            "_view_name": "LayoutView",
            "align_content": null,
            "align_items": null,
            "align_self": null,
            "border": null,
            "bottom": null,
            "display": null,
            "flex": null,
            "flex_flow": null,
            "grid_area": null,
            "grid_auto_columns": null,
            "grid_auto_flow": null,
            "grid_auto_rows": null,
            "grid_column": null,
            "grid_gap": null,
            "grid_row": null,
            "grid_template_areas": null,
            "grid_template_columns": null,
            "grid_template_rows": null,
            "height": null,
            "justify_content": null,
            "justify_items": null,
            "left": null,
            "margin": null,
            "max_height": null,
            "max_width": null,
            "min_height": null,
            "min_width": null,
            "object_fit": null,
            "object_position": null,
            "order": null,
            "overflow": null,
            "overflow_x": null,
            "overflow_y": null,
            "padding": null,
            "right": null,
            "top": null,
            "visibility": null,
            "width": null
          }
        },
        "7ce8f2ef18d245569f581650e925922d": {
          "model_module": "@jupyter-widgets/controls",
          "model_name": "ProgressStyleModel",
          "model_module_version": "1.5.0",
          "state": {
            "_model_module": "@jupyter-widgets/controls",
            "_model_module_version": "1.5.0",
            "_model_name": "ProgressStyleModel",
            "_view_count": null,
            "_view_module": "@jupyter-widgets/base",
            "_view_module_version": "1.2.0",
            "_view_name": "StyleView",
            "bar_color": null,
            "description_width": ""
          }
        },
        "92c0e0d435be49928c0fb9c1e948a86a": {
          "model_module": "@jupyter-widgets/base",
          "model_name": "LayoutModel",
          "model_module_version": "1.2.0",
          "state": {
            "_model_module": "@jupyter-widgets/base",
            "_model_module_version": "1.2.0",
            "_model_name": "LayoutModel",
            "_view_count": null,
            "_view_module": "@jupyter-widgets/base",
            "_view_module_version": "1.2.0",
            "_view_name": "LayoutView",
            "align_content": null,
            "align_items": null,
            "align_self": null,
            "border": null,
            "bottom": null,
            "display": null,
            "flex": null,
            "flex_flow": null,
            "grid_area": null,
            "grid_auto_columns": null,
            "grid_auto_flow": null,
            "grid_auto_rows": null,
            "grid_column": null,
            "grid_gap": null,
            "grid_row": null,
            "grid_template_areas": null,
            "grid_template_columns": null,
            "grid_template_rows": null,
            "height": null,
            "justify_content": null,
            "justify_items": null,
            "left": null,
            "margin": null,
            "max_height": null,
            "max_width": null,
            "min_height": null,
            "min_width": null,
            "object_fit": null,
            "object_position": null,
            "order": null,
            "overflow": null,
            "overflow_x": null,
            "overflow_y": null,
            "padding": null,
            "right": null,
            "top": null,
            "visibility": null,
            "width": null
          }
        },
        "52b579331d49488abedc3684ddfd320d": {
          "model_module": "@jupyter-widgets/controls",
          "model_name": "DescriptionStyleModel",
          "model_module_version": "1.5.0",
          "state": {
            "_model_module": "@jupyter-widgets/controls",
            "_model_module_version": "1.5.0",
            "_model_name": "DescriptionStyleModel",
            "_view_count": null,
            "_view_module": "@jupyter-widgets/base",
            "_view_module_version": "1.2.0",
            "_view_name": "StyleView",
            "description_width": ""
          }
        },
        "bb305ad6b18a475f921e63b5461c40e5": {
          "model_module": "@jupyter-widgets/controls",
          "model_name": "HBoxModel",
          "model_module_version": "1.5.0",
          "state": {
            "_dom_classes": [],
            "_model_module": "@jupyter-widgets/controls",
            "_model_module_version": "1.5.0",
            "_model_name": "HBoxModel",
            "_view_count": null,
            "_view_module": "@jupyter-widgets/controls",
            "_view_module_version": "1.5.0",
            "_view_name": "HBoxView",
            "box_style": "",
            "children": [
              "IPY_MODEL_f953db26028e4033899e3edb8dd6a9f6",
              "IPY_MODEL_824ea996c2324469ae8ddb7b1b217de9",
              "IPY_MODEL_ca0bca169c164fa6bcb4cf1535f67f7e"
            ],
            "layout": "IPY_MODEL_b8ca52543f48461a8453b4b68caa6214"
          }
        },
        "f953db26028e4033899e3edb8dd6a9f6": {
          "model_module": "@jupyter-widgets/controls",
          "model_name": "HTMLModel",
          "model_module_version": "1.5.0",
          "state": {
            "_dom_classes": [],
            "_model_module": "@jupyter-widgets/controls",
            "_model_module_version": "1.5.0",
            "_model_name": "HTMLModel",
            "_view_count": null,
            "_view_module": "@jupyter-widgets/controls",
            "_view_module_version": "1.5.0",
            "_view_name": "HTMLView",
            "description": "",
            "description_tooltip": null,
            "layout": "IPY_MODEL_d7917b8a73ad4ce8bfd92de05484bf96",
            "placeholder": "​",
            "style": "IPY_MODEL_79d133bc327a4dce81b4532ed3f9c334",
            "value": "Downloading readme: 100%"
          }
        },
        "824ea996c2324469ae8ddb7b1b217de9": {
          "model_module": "@jupyter-widgets/controls",
          "model_name": "FloatProgressModel",
          "model_module_version": "1.5.0",
          "state": {
            "_dom_classes": [],
            "_model_module": "@jupyter-widgets/controls",
            "_model_module_version": "1.5.0",
            "_model_name": "FloatProgressModel",
            "_view_count": null,
            "_view_module": "@jupyter-widgets/controls",
            "_view_module_version": "1.5.0",
            "_view_name": "ProgressView",
            "bar_style": "success",
            "description": "",
            "description_tooltip": null,
            "layout": "IPY_MODEL_2a3f9537bf2242ba835f71b9c89811d2",
            "max": 3662,
            "min": 0,
            "orientation": "horizontal",
            "style": "IPY_MODEL_977884cd3b4e40cdbb1cb3be4181bf0f",
            "value": 3662
          }
        },
        "ca0bca169c164fa6bcb4cf1535f67f7e": {
          "model_module": "@jupyter-widgets/controls",
          "model_name": "HTMLModel",
          "model_module_version": "1.5.0",
          "state": {
            "_dom_classes": [],
            "_model_module": "@jupyter-widgets/controls",
            "_model_module_version": "1.5.0",
            "_model_name": "HTMLModel",
            "_view_count": null,
            "_view_module": "@jupyter-widgets/controls",
            "_view_module_version": "1.5.0",
            "_view_name": "HTMLView",
            "description": "",
            "description_tooltip": null,
            "layout": "IPY_MODEL_374f5ed8b3344b3bb72c3124d357fe8a",
            "placeholder": "​",
            "style": "IPY_MODEL_f035a299f45e46b8a00ae0f1b1fe7da2",
            "value": " 3.66k/3.66k [00:00&lt;00:00, 193kB/s]"
          }
        },
        "b8ca52543f48461a8453b4b68caa6214": {
          "model_module": "@jupyter-widgets/base",
          "model_name": "LayoutModel",
          "model_module_version": "1.2.0",
          "state": {
            "_model_module": "@jupyter-widgets/base",
            "_model_module_version": "1.2.0",
            "_model_name": "LayoutModel",
            "_view_count": null,
            "_view_module": "@jupyter-widgets/base",
            "_view_module_version": "1.2.0",
            "_view_name": "LayoutView",
            "align_content": null,
            "align_items": null,
            "align_self": null,
            "border": null,
            "bottom": null,
            "display": null,
            "flex": null,
            "flex_flow": null,
            "grid_area": null,
            "grid_auto_columns": null,
            "grid_auto_flow": null,
            "grid_auto_rows": null,
            "grid_column": null,
            "grid_gap": null,
            "grid_row": null,
            "grid_template_areas": null,
            "grid_template_columns": null,
            "grid_template_rows": null,
            "height": null,
            "justify_content": null,
            "justify_items": null,
            "left": null,
            "margin": null,
            "max_height": null,
            "max_width": null,
            "min_height": null,
            "min_width": null,
            "object_fit": null,
            "object_position": null,
            "order": null,
            "overflow": null,
            "overflow_x": null,
            "overflow_y": null,
            "padding": null,
            "right": null,
            "top": null,
            "visibility": null,
            "width": null
          }
        },
        "d7917b8a73ad4ce8bfd92de05484bf96": {
          "model_module": "@jupyter-widgets/base",
          "model_name": "LayoutModel",
          "model_module_version": "1.2.0",
          "state": {
            "_model_module": "@jupyter-widgets/base",
            "_model_module_version": "1.2.0",
            "_model_name": "LayoutModel",
            "_view_count": null,
            "_view_module": "@jupyter-widgets/base",
            "_view_module_version": "1.2.0",
            "_view_name": "LayoutView",
            "align_content": null,
            "align_items": null,
            "align_self": null,
            "border": null,
            "bottom": null,
            "display": null,
            "flex": null,
            "flex_flow": null,
            "grid_area": null,
            "grid_auto_columns": null,
            "grid_auto_flow": null,
            "grid_auto_rows": null,
            "grid_column": null,
            "grid_gap": null,
            "grid_row": null,
            "grid_template_areas": null,
            "grid_template_columns": null,
            "grid_template_rows": null,
            "height": null,
            "justify_content": null,
            "justify_items": null,
            "left": null,
            "margin": null,
            "max_height": null,
            "max_width": null,
            "min_height": null,
            "min_width": null,
            "object_fit": null,
            "object_position": null,
            "order": null,
            "overflow": null,
            "overflow_x": null,
            "overflow_y": null,
            "padding": null,
            "right": null,
            "top": null,
            "visibility": null,
            "width": null
          }
        },
        "79d133bc327a4dce81b4532ed3f9c334": {
          "model_module": "@jupyter-widgets/controls",
          "model_name": "DescriptionStyleModel",
          "model_module_version": "1.5.0",
          "state": {
            "_model_module": "@jupyter-widgets/controls",
            "_model_module_version": "1.5.0",
            "_model_name": "DescriptionStyleModel",
            "_view_count": null,
            "_view_module": "@jupyter-widgets/base",
            "_view_module_version": "1.2.0",
            "_view_name": "StyleView",
            "description_width": ""
          }
        },
        "2a3f9537bf2242ba835f71b9c89811d2": {
          "model_module": "@jupyter-widgets/base",
          "model_name": "LayoutModel",
          "model_module_version": "1.2.0",
          "state": {
            "_model_module": "@jupyter-widgets/base",
            "_model_module_version": "1.2.0",
            "_model_name": "LayoutModel",
            "_view_count": null,
            "_view_module": "@jupyter-widgets/base",
            "_view_module_version": "1.2.0",
            "_view_name": "LayoutView",
            "align_content": null,
            "align_items": null,
            "align_self": null,
            "border": null,
            "bottom": null,
            "display": null,
            "flex": null,
            "flex_flow": null,
            "grid_area": null,
            "grid_auto_columns": null,
            "grid_auto_flow": null,
            "grid_auto_rows": null,
            "grid_column": null,
            "grid_gap": null,
            "grid_row": null,
            "grid_template_areas": null,
            "grid_template_columns": null,
            "grid_template_rows": null,
            "height": null,
            "justify_content": null,
            "justify_items": null,
            "left": null,
            "margin": null,
            "max_height": null,
            "max_width": null,
            "min_height": null,
            "min_width": null,
            "object_fit": null,
            "object_position": null,
            "order": null,
            "overflow": null,
            "overflow_x": null,
            "overflow_y": null,
            "padding": null,
            "right": null,
            "top": null,
            "visibility": null,
            "width": null
          }
        },
        "977884cd3b4e40cdbb1cb3be4181bf0f": {
          "model_module": "@jupyter-widgets/controls",
          "model_name": "ProgressStyleModel",
          "model_module_version": "1.5.0",
          "state": {
            "_model_module": "@jupyter-widgets/controls",
            "_model_module_version": "1.5.0",
            "_model_name": "ProgressStyleModel",
            "_view_count": null,
            "_view_module": "@jupyter-widgets/base",
            "_view_module_version": "1.2.0",
            "_view_name": "StyleView",
            "bar_color": null,
            "description_width": ""
          }
        },
        "374f5ed8b3344b3bb72c3124d357fe8a": {
          "model_module": "@jupyter-widgets/base",
          "model_name": "LayoutModel",
          "model_module_version": "1.2.0",
          "state": {
            "_model_module": "@jupyter-widgets/base",
            "_model_module_version": "1.2.0",
            "_model_name": "LayoutModel",
            "_view_count": null,
            "_view_module": "@jupyter-widgets/base",
            "_view_module_version": "1.2.0",
            "_view_name": "LayoutView",
            "align_content": null,
            "align_items": null,
            "align_self": null,
            "border": null,
            "bottom": null,
            "display": null,
            "flex": null,
            "flex_flow": null,
            "grid_area": null,
            "grid_auto_columns": null,
            "grid_auto_flow": null,
            "grid_auto_rows": null,
            "grid_column": null,
            "grid_gap": null,
            "grid_row": null,
            "grid_template_areas": null,
            "grid_template_columns": null,
            "grid_template_rows": null,
            "height": null,
            "justify_content": null,
            "justify_items": null,
            "left": null,
            "margin": null,
            "max_height": null,
            "max_width": null,
            "min_height": null,
            "min_width": null,
            "object_fit": null,
            "object_position": null,
            "order": null,
            "overflow": null,
            "overflow_x": null,
            "overflow_y": null,
            "padding": null,
            "right": null,
            "top": null,
            "visibility": null,
            "width": null
          }
        },
        "f035a299f45e46b8a00ae0f1b1fe7da2": {
          "model_module": "@jupyter-widgets/controls",
          "model_name": "DescriptionStyleModel",
          "model_module_version": "1.5.0",
          "state": {
            "_model_module": "@jupyter-widgets/controls",
            "_model_module_version": "1.5.0",
            "_model_name": "DescriptionStyleModel",
            "_view_count": null,
            "_view_module": "@jupyter-widgets/base",
            "_view_module_version": "1.2.0",
            "_view_name": "StyleView",
            "description_width": ""
          }
        },
        "045e689bbad64289a6564359938a387c": {
          "model_module": "@jupyter-widgets/controls",
          "model_name": "HBoxModel",
          "model_module_version": "1.5.0",
          "state": {
            "_dom_classes": [],
            "_model_module": "@jupyter-widgets/controls",
            "_model_module_version": "1.5.0",
            "_model_name": "HBoxModel",
            "_view_count": null,
            "_view_module": "@jupyter-widgets/controls",
            "_view_module_version": "1.5.0",
            "_view_name": "HBoxView",
            "box_style": "",
            "children": [
              "IPY_MODEL_a0b6ade3cf5047d492859fadab0bb8ca",
              "IPY_MODEL_4d31a0d10c20432ead10a9e39b49077e",
              "IPY_MODEL_e5d02dfa92e842d3b600c5f5b9a76865"
            ],
            "layout": "IPY_MODEL_ddc5b48f71354f7fa8ded8e0be5a2a2f"
          }
        },
        "a0b6ade3cf5047d492859fadab0bb8ca": {
          "model_module": "@jupyter-widgets/controls",
          "model_name": "HTMLModel",
          "model_module_version": "1.5.0",
          "state": {
            "_dom_classes": [],
            "_model_module": "@jupyter-widgets/controls",
            "_model_module_version": "1.5.0",
            "_model_name": "HTMLModel",
            "_view_count": null,
            "_view_module": "@jupyter-widgets/controls",
            "_view_module_version": "1.5.0",
            "_view_name": "HTMLView",
            "description": "",
            "description_tooltip": null,
            "layout": "IPY_MODEL_a29634a29e5c4488b2a19bc7970b4027",
            "placeholder": "​",
            "style": "IPY_MODEL_755e6f4bf6df4b3ab4853423bff25b8d",
            "value": "Downloading data: 100%"
          }
        },
        "4d31a0d10c20432ead10a9e39b49077e": {
          "model_module": "@jupyter-widgets/controls",
          "model_name": "FloatProgressModel",
          "model_module_version": "1.5.0",
          "state": {
            "_dom_classes": [],
            "_model_module": "@jupyter-widgets/controls",
            "_model_module_version": "1.5.0",
            "_model_name": "FloatProgressModel",
            "_view_count": null,
            "_view_module": "@jupyter-widgets/controls",
            "_view_module_version": "1.5.0",
            "_view_name": "ProgressView",
            "bar_style": "success",
            "description": "",
            "description_tooltip": null,
            "layout": "IPY_MODEL_b00442aef27c4228b77e7310fcbddad2",
            "max": 49411220,
            "min": 0,
            "orientation": "horizontal",
            "style": "IPY_MODEL_d6450a1d49094a3dbc5c45777dd11ff7",
            "value": 49411220
          }
        },
        "e5d02dfa92e842d3b600c5f5b9a76865": {
          "model_module": "@jupyter-widgets/controls",
          "model_name": "HTMLModel",
          "model_module_version": "1.5.0",
          "state": {
            "_dom_classes": [],
            "_model_module": "@jupyter-widgets/controls",
            "_model_module_version": "1.5.0",
            "_model_name": "HTMLModel",
            "_view_count": null,
            "_view_module": "@jupyter-widgets/controls",
            "_view_module_version": "1.5.0",
            "_view_name": "HTMLView",
            "description": "",
            "description_tooltip": null,
            "layout": "IPY_MODEL_948a29ee1bac49de8093dc1d6619536f",
            "placeholder": "​",
            "style": "IPY_MODEL_54461d5c213b4cc389591d39a0c932fd",
            "value": " 49.4M/49.4M [00:02&lt;00:00, 25.9MB/s]"
          }
        },
        "ddc5b48f71354f7fa8ded8e0be5a2a2f": {
          "model_module": "@jupyter-widgets/base",
          "model_name": "LayoutModel",
          "model_module_version": "1.2.0",
          "state": {
            "_model_module": "@jupyter-widgets/base",
            "_model_module_version": "1.2.0",
            "_model_name": "LayoutModel",
            "_view_count": null,
            "_view_module": "@jupyter-widgets/base",
            "_view_module_version": "1.2.0",
            "_view_name": "LayoutView",
            "align_content": null,
            "align_items": null,
            "align_self": null,
            "border": null,
            "bottom": null,
            "display": null,
            "flex": null,
            "flex_flow": null,
            "grid_area": null,
            "grid_auto_columns": null,
            "grid_auto_flow": null,
            "grid_auto_rows": null,
            "grid_column": null,
            "grid_gap": null,
            "grid_row": null,
            "grid_template_areas": null,
            "grid_template_columns": null,
            "grid_template_rows": null,
            "height": null,
            "justify_content": null,
            "justify_items": null,
            "left": null,
            "margin": null,
            "max_height": null,
            "max_width": null,
            "min_height": null,
            "min_width": null,
            "object_fit": null,
            "object_position": null,
            "order": null,
            "overflow": null,
            "overflow_x": null,
            "overflow_y": null,
            "padding": null,
            "right": null,
            "top": null,
            "visibility": null,
            "width": null
          }
        },
        "a29634a29e5c4488b2a19bc7970b4027": {
          "model_module": "@jupyter-widgets/base",
          "model_name": "LayoutModel",
          "model_module_version": "1.2.0",
          "state": {
            "_model_module": "@jupyter-widgets/base",
            "_model_module_version": "1.2.0",
            "_model_name": "LayoutModel",
            "_view_count": null,
            "_view_module": "@jupyter-widgets/base",
            "_view_module_version": "1.2.0",
            "_view_name": "LayoutView",
            "align_content": null,
            "align_items": null,
            "align_self": null,
            "border": null,
            "bottom": null,
            "display": null,
            "flex": null,
            "flex_flow": null,
            "grid_area": null,
            "grid_auto_columns": null,
            "grid_auto_flow": null,
            "grid_auto_rows": null,
            "grid_column": null,
            "grid_gap": null,
            "grid_row": null,
            "grid_template_areas": null,
            "grid_template_columns": null,
            "grid_template_rows": null,
            "height": null,
            "justify_content": null,
            "justify_items": null,
            "left": null,
            "margin": null,
            "max_height": null,
            "max_width": null,
            "min_height": null,
            "min_width": null,
            "object_fit": null,
            "object_position": null,
            "order": null,
            "overflow": null,
            "overflow_x": null,
            "overflow_y": null,
            "padding": null,
            "right": null,
            "top": null,
            "visibility": null,
            "width": null
          }
        },
        "755e6f4bf6df4b3ab4853423bff25b8d": {
          "model_module": "@jupyter-widgets/controls",
          "model_name": "DescriptionStyleModel",
          "model_module_version": "1.5.0",
          "state": {
            "_model_module": "@jupyter-widgets/controls",
            "_model_module_version": "1.5.0",
            "_model_name": "DescriptionStyleModel",
            "_view_count": null,
            "_view_module": "@jupyter-widgets/base",
            "_view_module_version": "1.2.0",
            "_view_name": "StyleView",
            "description_width": ""
          }
        },
        "b00442aef27c4228b77e7310fcbddad2": {
          "model_module": "@jupyter-widgets/base",
          "model_name": "LayoutModel",
          "model_module_version": "1.2.0",
          "state": {
            "_model_module": "@jupyter-widgets/base",
            "_model_module_version": "1.2.0",
            "_model_name": "LayoutModel",
            "_view_count": null,
            "_view_module": "@jupyter-widgets/base",
            "_view_module_version": "1.2.0",
            "_view_name": "LayoutView",
            "align_content": null,
            "align_items": null,
            "align_self": null,
            "border": null,
            "bottom": null,
            "display": null,
            "flex": null,
            "flex_flow": null,
            "grid_area": null,
            "grid_auto_columns": null,
            "grid_auto_flow": null,
            "grid_auto_rows": null,
            "grid_column": null,
            "grid_gap": null,
            "grid_row": null,
            "grid_template_areas": null,
            "grid_template_columns": null,
            "grid_template_rows": null,
            "height": null,
            "justify_content": null,
            "justify_items": null,
            "left": null,
            "margin": null,
            "max_height": null,
            "max_width": null,
            "min_height": null,
            "min_width": null,
            "object_fit": null,
            "object_position": null,
            "order": null,
            "overflow": null,
            "overflow_x": null,
            "overflow_y": null,
            "padding": null,
            "right": null,
            "top": null,
            "visibility": null,
            "width": null
          }
        },
        "d6450a1d49094a3dbc5c45777dd11ff7": {
          "model_module": "@jupyter-widgets/controls",
          "model_name": "ProgressStyleModel",
          "model_module_version": "1.5.0",
          "state": {
            "_model_module": "@jupyter-widgets/controls",
            "_model_module_version": "1.5.0",
            "_model_name": "ProgressStyleModel",
            "_view_count": null,
            "_view_module": "@jupyter-widgets/base",
            "_view_module_version": "1.2.0",
            "_view_name": "StyleView",
            "bar_color": null,
            "description_width": ""
          }
        },
        "948a29ee1bac49de8093dc1d6619536f": {
          "model_module": "@jupyter-widgets/base",
          "model_name": "LayoutModel",
          "model_module_version": "1.2.0",
          "state": {
            "_model_module": "@jupyter-widgets/base",
            "_model_module_version": "1.2.0",
            "_model_name": "LayoutModel",
            "_view_count": null,
            "_view_module": "@jupyter-widgets/base",
            "_view_module_version": "1.2.0",
            "_view_name": "LayoutView",
            "align_content": null,
            "align_items": null,
            "align_self": null,
            "border": null,
            "bottom": null,
            "display": null,
            "flex": null,
            "flex_flow": null,
            "grid_area": null,
            "grid_auto_columns": null,
            "grid_auto_flow": null,
            "grid_auto_rows": null,
            "grid_column": null,
            "grid_gap": null,
            "grid_row": null,
            "grid_template_areas": null,
            "grid_template_columns": null,
            "grid_template_rows": null,
            "height": null,
            "justify_content": null,
            "justify_items": null,
            "left": null,
            "margin": null,
            "max_height": null,
            "max_width": null,
            "min_height": null,
            "min_width": null,
            "object_fit": null,
            "object_position": null,
            "order": null,
            "overflow": null,
            "overflow_x": null,
            "overflow_y": null,
            "padding": null,
            "right": null,
            "top": null,
            "visibility": null,
            "width": null
          }
        },
        "54461d5c213b4cc389591d39a0c932fd": {
          "model_module": "@jupyter-widgets/controls",
          "model_name": "DescriptionStyleModel",
          "model_module_version": "1.5.0",
          "state": {
            "_model_module": "@jupyter-widgets/controls",
            "_model_module_version": "1.5.0",
            "_model_name": "DescriptionStyleModel",
            "_view_count": null,
            "_view_module": "@jupyter-widgets/base",
            "_view_module_version": "1.2.0",
            "_view_name": "StyleView",
            "description_width": ""
          }
        },
        "eb176dc0bad24856a6e4190d75c0e8c0": {
          "model_module": "@jupyter-widgets/controls",
          "model_name": "HBoxModel",
          "model_module_version": "1.5.0",
          "state": {
            "_dom_classes": [],
            "_model_module": "@jupyter-widgets/controls",
            "_model_module_version": "1.5.0",
            "_model_name": "HBoxModel",
            "_view_count": null,
            "_view_module": "@jupyter-widgets/controls",
            "_view_module_version": "1.5.0",
            "_view_name": "HBoxView",
            "box_style": "",
            "children": [
              "IPY_MODEL_b1faab1add18410d937aa4fa0d8b6b9a",
              "IPY_MODEL_646df91feecb4927979607ba24e39862",
              "IPY_MODEL_1ebdfdee9be34f34bd2126ee479949d8"
            ],
            "layout": "IPY_MODEL_c4f096c114e249cdba5ff4af94d29b8a"
          }
        },
        "b1faab1add18410d937aa4fa0d8b6b9a": {
          "model_module": "@jupyter-widgets/controls",
          "model_name": "HTMLModel",
          "model_module_version": "1.5.0",
          "state": {
            "_dom_classes": [],
            "_model_module": "@jupyter-widgets/controls",
            "_model_module_version": "1.5.0",
            "_model_name": "HTMLModel",
            "_view_count": null,
            "_view_module": "@jupyter-widgets/controls",
            "_view_module_version": "1.5.0",
            "_view_name": "HTMLView",
            "description": "",
            "description_tooltip": null,
            "layout": "IPY_MODEL_38d3e4e81ee24febba4eb2564635fcaa",
            "placeholder": "​",
            "style": "IPY_MODEL_e89a47805fcf46d8bbd0fe127140df7d",
            "value": "Generating train split: 100%"
          }
        },
        "646df91feecb4927979607ba24e39862": {
          "model_module": "@jupyter-widgets/controls",
          "model_name": "FloatProgressModel",
          "model_module_version": "1.5.0",
          "state": {
            "_dom_classes": [],
            "_model_module": "@jupyter-widgets/controls",
            "_model_module_version": "1.5.0",
            "_model_name": "FloatProgressModel",
            "_view_count": null,
            "_view_module": "@jupyter-widgets/controls",
            "_view_module_version": "1.5.0",
            "_view_name": "ProgressView",
            "bar_style": "success",
            "description": "",
            "description_tooltip": null,
            "layout": "IPY_MODEL_7c7fb8ea425a48aba20a384268bb77d3",
            "max": 87362,
            "min": 0,
            "orientation": "horizontal",
            "style": "IPY_MODEL_53620e5b174943fa9b18cd957fef2465",
            "value": 87362
          }
        },
        "1ebdfdee9be34f34bd2126ee479949d8": {
          "model_module": "@jupyter-widgets/controls",
          "model_name": "HTMLModel",
          "model_module_version": "1.5.0",
          "state": {
            "_dom_classes": [],
            "_model_module": "@jupyter-widgets/controls",
            "_model_module_version": "1.5.0",
            "_model_name": "HTMLModel",
            "_view_count": null,
            "_view_module": "@jupyter-widgets/controls",
            "_view_module_version": "1.5.0",
            "_view_name": "HTMLView",
            "description": "",
            "description_tooltip": null,
            "layout": "IPY_MODEL_ad4d4ffc9ab54c36a5a302c06f6f0d2e",
            "placeholder": "​",
            "style": "IPY_MODEL_100052964223477eb604cfa743712d0a",
            "value": " 87362/87362 [00:09&lt;00:00, 10683.49 examples/s]"
          }
        },
        "c4f096c114e249cdba5ff4af94d29b8a": {
          "model_module": "@jupyter-widgets/base",
          "model_name": "LayoutModel",
          "model_module_version": "1.2.0",
          "state": {
            "_model_module": "@jupyter-widgets/base",
            "_model_module_version": "1.2.0",
            "_model_name": "LayoutModel",
            "_view_count": null,
            "_view_module": "@jupyter-widgets/base",
            "_view_module_version": "1.2.0",
            "_view_name": "LayoutView",
            "align_content": null,
            "align_items": null,
            "align_self": null,
            "border": null,
            "bottom": null,
            "display": null,
            "flex": null,
            "flex_flow": null,
            "grid_area": null,
            "grid_auto_columns": null,
            "grid_auto_flow": null,
            "grid_auto_rows": null,
            "grid_column": null,
            "grid_gap": null,
            "grid_row": null,
            "grid_template_areas": null,
            "grid_template_columns": null,
            "grid_template_rows": null,
            "height": null,
            "justify_content": null,
            "justify_items": null,
            "left": null,
            "margin": null,
            "max_height": null,
            "max_width": null,
            "min_height": null,
            "min_width": null,
            "object_fit": null,
            "object_position": null,
            "order": null,
            "overflow": null,
            "overflow_x": null,
            "overflow_y": null,
            "padding": null,
            "right": null,
            "top": null,
            "visibility": null,
            "width": null
          }
        },
        "38d3e4e81ee24febba4eb2564635fcaa": {
          "model_module": "@jupyter-widgets/base",
          "model_name": "LayoutModel",
          "model_module_version": "1.2.0",
          "state": {
            "_model_module": "@jupyter-widgets/base",
            "_model_module_version": "1.2.0",
            "_model_name": "LayoutModel",
            "_view_count": null,
            "_view_module": "@jupyter-widgets/base",
            "_view_module_version": "1.2.0",
            "_view_name": "LayoutView",
            "align_content": null,
            "align_items": null,
            "align_self": null,
            "border": null,
            "bottom": null,
            "display": null,
            "flex": null,
            "flex_flow": null,
            "grid_area": null,
            "grid_auto_columns": null,
            "grid_auto_flow": null,
            "grid_auto_rows": null,
            "grid_column": null,
            "grid_gap": null,
            "grid_row": null,
            "grid_template_areas": null,
            "grid_template_columns": null,
            "grid_template_rows": null,
            "height": null,
            "justify_content": null,
            "justify_items": null,
            "left": null,
            "margin": null,
            "max_height": null,
            "max_width": null,
            "min_height": null,
            "min_width": null,
            "object_fit": null,
            "object_position": null,
            "order": null,
            "overflow": null,
            "overflow_x": null,
            "overflow_y": null,
            "padding": null,
            "right": null,
            "top": null,
            "visibility": null,
            "width": null
          }
        },
        "e89a47805fcf46d8bbd0fe127140df7d": {
          "model_module": "@jupyter-widgets/controls",
          "model_name": "DescriptionStyleModel",
          "model_module_version": "1.5.0",
          "state": {
            "_model_module": "@jupyter-widgets/controls",
            "_model_module_version": "1.5.0",
            "_model_name": "DescriptionStyleModel",
            "_view_count": null,
            "_view_module": "@jupyter-widgets/base",
            "_view_module_version": "1.2.0",
            "_view_name": "StyleView",
            "description_width": ""
          }
        },
        "7c7fb8ea425a48aba20a384268bb77d3": {
          "model_module": "@jupyter-widgets/base",
          "model_name": "LayoutModel",
          "model_module_version": "1.2.0",
          "state": {
            "_model_module": "@jupyter-widgets/base",
            "_model_module_version": "1.2.0",
            "_model_name": "LayoutModel",
            "_view_count": null,
            "_view_module": "@jupyter-widgets/base",
            "_view_module_version": "1.2.0",
            "_view_name": "LayoutView",
            "align_content": null,
            "align_items": null,
            "align_self": null,
            "border": null,
            "bottom": null,
            "display": null,
            "flex": null,
            "flex_flow": null,
            "grid_area": null,
            "grid_auto_columns": null,
            "grid_auto_flow": null,
            "grid_auto_rows": null,
            "grid_column": null,
            "grid_gap": null,
            "grid_row": null,
            "grid_template_areas": null,
            "grid_template_columns": null,
            "grid_template_rows": null,
            "height": null,
            "justify_content": null,
            "justify_items": null,
            "left": null,
            "margin": null,
            "max_height": null,
            "max_width": null,
            "min_height": null,
            "min_width": null,
            "object_fit": null,
            "object_position": null,
            "order": null,
            "overflow": null,
            "overflow_x": null,
            "overflow_y": null,
            "padding": null,
            "right": null,
            "top": null,
            "visibility": null,
            "width": null
          }
        },
        "53620e5b174943fa9b18cd957fef2465": {
          "model_module": "@jupyter-widgets/controls",
          "model_name": "ProgressStyleModel",
          "model_module_version": "1.5.0",
          "state": {
            "_model_module": "@jupyter-widgets/controls",
            "_model_module_version": "1.5.0",
            "_model_name": "ProgressStyleModel",
            "_view_count": null,
            "_view_module": "@jupyter-widgets/base",
            "_view_module_version": "1.2.0",
            "_view_name": "StyleView",
            "bar_color": null,
            "description_width": ""
          }
        },
        "ad4d4ffc9ab54c36a5a302c06f6f0d2e": {
          "model_module": "@jupyter-widgets/base",
          "model_name": "LayoutModel",
          "model_module_version": "1.2.0",
          "state": {
            "_model_module": "@jupyter-widgets/base",
            "_model_module_version": "1.2.0",
            "_model_name": "LayoutModel",
            "_view_count": null,
            "_view_module": "@jupyter-widgets/base",
            "_view_module_version": "1.2.0",
            "_view_name": "LayoutView",
            "align_content": null,
            "align_items": null,
            "align_self": null,
            "border": null,
            "bottom": null,
            "display": null,
            "flex": null,
            "flex_flow": null,
            "grid_area": null,
            "grid_auto_columns": null,
            "grid_auto_flow": null,
            "grid_auto_rows": null,
            "grid_column": null,
            "grid_gap": null,
            "grid_row": null,
            "grid_template_areas": null,
            "grid_template_columns": null,
            "grid_template_rows": null,
            "height": null,
            "justify_content": null,
            "justify_items": null,
            "left": null,
            "margin": null,
            "max_height": null,
            "max_width": null,
            "min_height": null,
            "min_width": null,
            "object_fit": null,
            "object_position": null,
            "order": null,
            "overflow": null,
            "overflow_x": null,
            "overflow_y": null,
            "padding": null,
            "right": null,
            "top": null,
            "visibility": null,
            "width": null
          }
        },
        "100052964223477eb604cfa743712d0a": {
          "model_module": "@jupyter-widgets/controls",
          "model_name": "DescriptionStyleModel",
          "model_module_version": "1.5.0",
          "state": {
            "_model_module": "@jupyter-widgets/controls",
            "_model_module_version": "1.5.0",
            "_model_name": "DescriptionStyleModel",
            "_view_count": null,
            "_view_module": "@jupyter-widgets/base",
            "_view_module_version": "1.2.0",
            "_view_name": "StyleView",
            "description_width": ""
          }
        },
        "35b6ecd99e024a1e8a15d9dbb972146a": {
          "model_module": "@jupyter-widgets/controls",
          "model_name": "HBoxModel",
          "model_module_version": "1.5.0",
          "state": {
            "_dom_classes": [],
            "_model_module": "@jupyter-widgets/controls",
            "_model_module_version": "1.5.0",
            "_model_name": "HBoxModel",
            "_view_count": null,
            "_view_module": "@jupyter-widgets/controls",
            "_view_module_version": "1.5.0",
            "_view_name": "HBoxView",
            "box_style": "",
            "children": [
              "IPY_MODEL_7e99cc6f31664ca6b56fc7d57e5c519d",
              "IPY_MODEL_d54e301092cd4e27989303c8d59e8ea0",
              "IPY_MODEL_e68537a6d0094ae2a7d8ae3e6bce91ae"
            ],
            "layout": "IPY_MODEL_82e22070ada8488b8132a7e212d37b4a"
          }
        },
        "7e99cc6f31664ca6b56fc7d57e5c519d": {
          "model_module": "@jupyter-widgets/controls",
          "model_name": "HTMLModel",
          "model_module_version": "1.5.0",
          "state": {
            "_dom_classes": [],
            "_model_module": "@jupyter-widgets/controls",
            "_model_module_version": "1.5.0",
            "_model_name": "HTMLModel",
            "_view_count": null,
            "_view_module": "@jupyter-widgets/controls",
            "_view_module_version": "1.5.0",
            "_view_name": "HTMLView",
            "description": "",
            "description_tooltip": null,
            "layout": "IPY_MODEL_7e95a1ae435242cfa49da3ce59579bc3",
            "placeholder": "​",
            "style": "IPY_MODEL_32dea28844534ae184f61556b2b560ff",
            "value": "Map: 100%"
          }
        },
        "d54e301092cd4e27989303c8d59e8ea0": {
          "model_module": "@jupyter-widgets/controls",
          "model_name": "FloatProgressModel",
          "model_module_version": "1.5.0",
          "state": {
            "_dom_classes": [],
            "_model_module": "@jupyter-widgets/controls",
            "_model_module_version": "1.5.0",
            "_model_name": "FloatProgressModel",
            "_view_count": null,
            "_view_module": "@jupyter-widgets/controls",
            "_view_module_version": "1.5.0",
            "_view_name": "ProgressView",
            "bar_style": "success",
            "description": "",
            "description_tooltip": null,
            "layout": "IPY_MODEL_5e5963a0464d4e599ff3df2a64b99ef3",
            "max": 150,
            "min": 0,
            "orientation": "horizontal",
            "style": "IPY_MODEL_534f9a4590454f88ad3bd008d66d3f4e",
            "value": 150
          }
        },
        "e68537a6d0094ae2a7d8ae3e6bce91ae": {
          "model_module": "@jupyter-widgets/controls",
          "model_name": "HTMLModel",
          "model_module_version": "1.5.0",
          "state": {
            "_dom_classes": [],
            "_model_module": "@jupyter-widgets/controls",
            "_model_module_version": "1.5.0",
            "_model_name": "HTMLModel",
            "_view_count": null,
            "_view_module": "@jupyter-widgets/controls",
            "_view_module_version": "1.5.0",
            "_view_name": "HTMLView",
            "description": "",
            "description_tooltip": null,
            "layout": "IPY_MODEL_898f681afd8748a0a571dfb95c230636",
            "placeholder": "​",
            "style": "IPY_MODEL_b1d40ed5aa8245a488a12e86e850f542",
            "value": " 150/150 [00:00&lt;00:00, 843.06 examples/s]"
          }
        },
        "82e22070ada8488b8132a7e212d37b4a": {
          "model_module": "@jupyter-widgets/base",
          "model_name": "LayoutModel",
          "model_module_version": "1.2.0",
          "state": {
            "_model_module": "@jupyter-widgets/base",
            "_model_module_version": "1.2.0",
            "_model_name": "LayoutModel",
            "_view_count": null,
            "_view_module": "@jupyter-widgets/base",
            "_view_module_version": "1.2.0",
            "_view_name": "LayoutView",
            "align_content": null,
            "align_items": null,
            "align_self": null,
            "border": null,
            "bottom": null,
            "display": null,
            "flex": null,
            "flex_flow": null,
            "grid_area": null,
            "grid_auto_columns": null,
            "grid_auto_flow": null,
            "grid_auto_rows": null,
            "grid_column": null,
            "grid_gap": null,
            "grid_row": null,
            "grid_template_areas": null,
            "grid_template_columns": null,
            "grid_template_rows": null,
            "height": null,
            "justify_content": null,
            "justify_items": null,
            "left": null,
            "margin": null,
            "max_height": null,
            "max_width": null,
            "min_height": null,
            "min_width": null,
            "object_fit": null,
            "object_position": null,
            "order": null,
            "overflow": null,
            "overflow_x": null,
            "overflow_y": null,
            "padding": null,
            "right": null,
            "top": null,
            "visibility": null,
            "width": null
          }
        },
        "7e95a1ae435242cfa49da3ce59579bc3": {
          "model_module": "@jupyter-widgets/base",
          "model_name": "LayoutModel",
          "model_module_version": "1.2.0",
          "state": {
            "_model_module": "@jupyter-widgets/base",
            "_model_module_version": "1.2.0",
            "_model_name": "LayoutModel",
            "_view_count": null,
            "_view_module": "@jupyter-widgets/base",
            "_view_module_version": "1.2.0",
            "_view_name": "LayoutView",
            "align_content": null,
            "align_items": null,
            "align_self": null,
            "border": null,
            "bottom": null,
            "display": null,
            "flex": null,
            "flex_flow": null,
            "grid_area": null,
            "grid_auto_columns": null,
            "grid_auto_flow": null,
            "grid_auto_rows": null,
            "grid_column": null,
            "grid_gap": null,
            "grid_row": null,
            "grid_template_areas": null,
            "grid_template_columns": null,
            "grid_template_rows": null,
            "height": null,
            "justify_content": null,
            "justify_items": null,
            "left": null,
            "margin": null,
            "max_height": null,
            "max_width": null,
            "min_height": null,
            "min_width": null,
            "object_fit": null,
            "object_position": null,
            "order": null,
            "overflow": null,
            "overflow_x": null,
            "overflow_y": null,
            "padding": null,
            "right": null,
            "top": null,
            "visibility": null,
            "width": null
          }
        },
        "32dea28844534ae184f61556b2b560ff": {
          "model_module": "@jupyter-widgets/controls",
          "model_name": "DescriptionStyleModel",
          "model_module_version": "1.5.0",
          "state": {
            "_model_module": "@jupyter-widgets/controls",
            "_model_module_version": "1.5.0",
            "_model_name": "DescriptionStyleModel",
            "_view_count": null,
            "_view_module": "@jupyter-widgets/base",
            "_view_module_version": "1.2.0",
            "_view_name": "StyleView",
            "description_width": ""
          }
        },
        "5e5963a0464d4e599ff3df2a64b99ef3": {
          "model_module": "@jupyter-widgets/base",
          "model_name": "LayoutModel",
          "model_module_version": "1.2.0",
          "state": {
            "_model_module": "@jupyter-widgets/base",
            "_model_module_version": "1.2.0",
            "_model_name": "LayoutModel",
            "_view_count": null,
            "_view_module": "@jupyter-widgets/base",
            "_view_module_version": "1.2.0",
            "_view_name": "LayoutView",
            "align_content": null,
            "align_items": null,
            "align_self": null,
            "border": null,
            "bottom": null,
            "display": null,
            "flex": null,
            "flex_flow": null,
            "grid_area": null,
            "grid_auto_columns": null,
            "grid_auto_flow": null,
            "grid_auto_rows": null,
            "grid_column": null,
            "grid_gap": null,
            "grid_row": null,
            "grid_template_areas": null,
            "grid_template_columns": null,
            "grid_template_rows": null,
            "height": null,
            "justify_content": null,
            "justify_items": null,
            "left": null,
            "margin": null,
            "max_height": null,
            "max_width": null,
            "min_height": null,
            "min_width": null,
            "object_fit": null,
            "object_position": null,
            "order": null,
            "overflow": null,
            "overflow_x": null,
            "overflow_y": null,
            "padding": null,
            "right": null,
            "top": null,
            "visibility": null,
            "width": null
          }
        },
        "534f9a4590454f88ad3bd008d66d3f4e": {
          "model_module": "@jupyter-widgets/controls",
          "model_name": "ProgressStyleModel",
          "model_module_version": "1.5.0",
          "state": {
            "_model_module": "@jupyter-widgets/controls",
            "_model_module_version": "1.5.0",
            "_model_name": "ProgressStyleModel",
            "_view_count": null,
            "_view_module": "@jupyter-widgets/base",
            "_view_module_version": "1.2.0",
            "_view_name": "StyleView",
            "bar_color": null,
            "description_width": ""
          }
        },
        "898f681afd8748a0a571dfb95c230636": {
          "model_module": "@jupyter-widgets/base",
          "model_name": "LayoutModel",
          "model_module_version": "1.2.0",
          "state": {
            "_model_module": "@jupyter-widgets/base",
            "_model_module_version": "1.2.0",
            "_model_name": "LayoutModel",
            "_view_count": null,
            "_view_module": "@jupyter-widgets/base",
            "_view_module_version": "1.2.0",
            "_view_name": "LayoutView",
            "align_content": null,
            "align_items": null,
            "align_self": null,
            "border": null,
            "bottom": null,
            "display": null,
            "flex": null,
            "flex_flow": null,
            "grid_area": null,
            "grid_auto_columns": null,
            "grid_auto_flow": null,
            "grid_auto_rows": null,
            "grid_column": null,
            "grid_gap": null,
            "grid_row": null,
            "grid_template_areas": null,
            "grid_template_columns": null,
            "grid_template_rows": null,
            "height": null,
            "justify_content": null,
            "justify_items": null,
            "left": null,
            "margin": null,
            "max_height": null,
            "max_width": null,
            "min_height": null,
            "min_width": null,
            "object_fit": null,
            "object_position": null,
            "order": null,
            "overflow": null,
            "overflow_x": null,
            "overflow_y": null,
            "padding": null,
            "right": null,
            "top": null,
            "visibility": null,
            "width": null
          }
        },
        "b1d40ed5aa8245a488a12e86e850f542": {
          "model_module": "@jupyter-widgets/controls",
          "model_name": "DescriptionStyleModel",
          "model_module_version": "1.5.0",
          "state": {
            "_model_module": "@jupyter-widgets/controls",
            "_model_module_version": "1.5.0",
            "_model_name": "DescriptionStyleModel",
            "_view_count": null,
            "_view_module": "@jupyter-widgets/base",
            "_view_module_version": "1.2.0",
            "_view_name": "StyleView",
            "description_width": ""
          }
        },
        "dd1adb4e1ad64ee38670dfd940355c2f": {
          "model_module": "@jupyter-widgets/controls",
          "model_name": "HBoxModel",
          "model_module_version": "1.5.0",
          "state": {
            "_dom_classes": [],
            "_model_module": "@jupyter-widgets/controls",
            "_model_module_version": "1.5.0",
            "_model_name": "HBoxModel",
            "_view_count": null,
            "_view_module": "@jupyter-widgets/controls",
            "_view_module_version": "1.5.0",
            "_view_name": "HBoxView",
            "box_style": "",
            "children": [
              "IPY_MODEL_c97364c115244f6493da432ab8e99773",
              "IPY_MODEL_5c28987c854549eb8ce1c83c3cb26c75",
              "IPY_MODEL_c461d623a231441b83af0d48ede731a8"
            ],
            "layout": "IPY_MODEL_dd6307f9332c4fb2b6ca72933c202ffd"
          }
        },
        "c97364c115244f6493da432ab8e99773": {
          "model_module": "@jupyter-widgets/controls",
          "model_name": "HTMLModel",
          "model_module_version": "1.5.0",
          "state": {
            "_dom_classes": [],
            "_model_module": "@jupyter-widgets/controls",
            "_model_module_version": "1.5.0",
            "_model_name": "HTMLModel",
            "_view_count": null,
            "_view_module": "@jupyter-widgets/controls",
            "_view_module_version": "1.5.0",
            "_view_name": "HTMLView",
            "description": "",
            "description_tooltip": null,
            "layout": "IPY_MODEL_013ef0416c1445868ef23ac9da61416d",
            "placeholder": "​",
            "style": "IPY_MODEL_e4d9cedf26fa4206add3fc0f2ae99165",
            "value": "Map: 100%"
          }
        },
        "5c28987c854549eb8ce1c83c3cb26c75": {
          "model_module": "@jupyter-widgets/controls",
          "model_name": "FloatProgressModel",
          "model_module_version": "1.5.0",
          "state": {
            "_dom_classes": [],
            "_model_module": "@jupyter-widgets/controls",
            "_model_module_version": "1.5.0",
            "_model_name": "FloatProgressModel",
            "_view_count": null,
            "_view_module": "@jupyter-widgets/controls",
            "_view_module_version": "1.5.0",
            "_view_name": "ProgressView",
            "bar_style": "success",
            "description": "",
            "description_tooltip": null,
            "layout": "IPY_MODEL_0dbb7dd9cff2453d87e882b9590b45d4",
            "max": 437,
            "min": 0,
            "orientation": "horizontal",
            "style": "IPY_MODEL_08eaf6c0ddee4cc9a14fc9219415b1d5",
            "value": 437
          }
        },
        "c461d623a231441b83af0d48ede731a8": {
          "model_module": "@jupyter-widgets/controls",
          "model_name": "HTMLModel",
          "model_module_version": "1.5.0",
          "state": {
            "_dom_classes": [],
            "_model_module": "@jupyter-widgets/controls",
            "_model_module_version": "1.5.0",
            "_model_name": "HTMLModel",
            "_view_count": null,
            "_view_module": "@jupyter-widgets/controls",
            "_view_module_version": "1.5.0",
            "_view_name": "HTMLView",
            "description": "",
            "description_tooltip": null,
            "layout": "IPY_MODEL_2c9e422296624aadac6bad52a6f49c46",
            "placeholder": "​",
            "style": "IPY_MODEL_7e35b43c587e451ba023c8274bed70f3",
            "value": " 437/437 [00:00&lt;00:00, 1257.67 examples/s]"
          }
        },
        "dd6307f9332c4fb2b6ca72933c202ffd": {
          "model_module": "@jupyter-widgets/base",
          "model_name": "LayoutModel",
          "model_module_version": "1.2.0",
          "state": {
            "_model_module": "@jupyter-widgets/base",
            "_model_module_version": "1.2.0",
            "_model_name": "LayoutModel",
            "_view_count": null,
            "_view_module": "@jupyter-widgets/base",
            "_view_module_version": "1.2.0",
            "_view_name": "LayoutView",
            "align_content": null,
            "align_items": null,
            "align_self": null,
            "border": null,
            "bottom": null,
            "display": null,
            "flex": null,
            "flex_flow": null,
            "grid_area": null,
            "grid_auto_columns": null,
            "grid_auto_flow": null,
            "grid_auto_rows": null,
            "grid_column": null,
            "grid_gap": null,
            "grid_row": null,
            "grid_template_areas": null,
            "grid_template_columns": null,
            "grid_template_rows": null,
            "height": null,
            "justify_content": null,
            "justify_items": null,
            "left": null,
            "margin": null,
            "max_height": null,
            "max_width": null,
            "min_height": null,
            "min_width": null,
            "object_fit": null,
            "object_position": null,
            "order": null,
            "overflow": null,
            "overflow_x": null,
            "overflow_y": null,
            "padding": null,
            "right": null,
            "top": null,
            "visibility": null,
            "width": null
          }
        },
        "013ef0416c1445868ef23ac9da61416d": {
          "model_module": "@jupyter-widgets/base",
          "model_name": "LayoutModel",
          "model_module_version": "1.2.0",
          "state": {
            "_model_module": "@jupyter-widgets/base",
            "_model_module_version": "1.2.0",
            "_model_name": "LayoutModel",
            "_view_count": null,
            "_view_module": "@jupyter-widgets/base",
            "_view_module_version": "1.2.0",
            "_view_name": "LayoutView",
            "align_content": null,
            "align_items": null,
            "align_self": null,
            "border": null,
            "bottom": null,
            "display": null,
            "flex": null,
            "flex_flow": null,
            "grid_area": null,
            "grid_auto_columns": null,
            "grid_auto_flow": null,
            "grid_auto_rows": null,
            "grid_column": null,
            "grid_gap": null,
            "grid_row": null,
            "grid_template_areas": null,
            "grid_template_columns": null,
            "grid_template_rows": null,
            "height": null,
            "justify_content": null,
            "justify_items": null,
            "left": null,
            "margin": null,
            "max_height": null,
            "max_width": null,
            "min_height": null,
            "min_width": null,
            "object_fit": null,
            "object_position": null,
            "order": null,
            "overflow": null,
            "overflow_x": null,
            "overflow_y": null,
            "padding": null,
            "right": null,
            "top": null,
            "visibility": null,
            "width": null
          }
        },
        "e4d9cedf26fa4206add3fc0f2ae99165": {
          "model_module": "@jupyter-widgets/controls",
          "model_name": "DescriptionStyleModel",
          "model_module_version": "1.5.0",
          "state": {
            "_model_module": "@jupyter-widgets/controls",
            "_model_module_version": "1.5.0",
            "_model_name": "DescriptionStyleModel",
            "_view_count": null,
            "_view_module": "@jupyter-widgets/base",
            "_view_module_version": "1.2.0",
            "_view_name": "StyleView",
            "description_width": ""
          }
        },
        "0dbb7dd9cff2453d87e882b9590b45d4": {
          "model_module": "@jupyter-widgets/base",
          "model_name": "LayoutModel",
          "model_module_version": "1.2.0",
          "state": {
            "_model_module": "@jupyter-widgets/base",
            "_model_module_version": "1.2.0",
            "_model_name": "LayoutModel",
            "_view_count": null,
            "_view_module": "@jupyter-widgets/base",
            "_view_module_version": "1.2.0",
            "_view_name": "LayoutView",
            "align_content": null,
            "align_items": null,
            "align_self": null,
            "border": null,
            "bottom": null,
            "display": null,
            "flex": null,
            "flex_flow": null,
            "grid_area": null,
            "grid_auto_columns": null,
            "grid_auto_flow": null,
            "grid_auto_rows": null,
            "grid_column": null,
            "grid_gap": null,
            "grid_row": null,
            "grid_template_areas": null,
            "grid_template_columns": null,
            "grid_template_rows": null,
            "height": null,
            "justify_content": null,
            "justify_items": null,
            "left": null,
            "margin": null,
            "max_height": null,
            "max_width": null,
            "min_height": null,
            "min_width": null,
            "object_fit": null,
            "object_position": null,
            "order": null,
            "overflow": null,
            "overflow_x": null,
            "overflow_y": null,
            "padding": null,
            "right": null,
            "top": null,
            "visibility": null,
            "width": null
          }
        },
        "08eaf6c0ddee4cc9a14fc9219415b1d5": {
          "model_module": "@jupyter-widgets/controls",
          "model_name": "ProgressStyleModel",
          "model_module_version": "1.5.0",
          "state": {
            "_model_module": "@jupyter-widgets/controls",
            "_model_module_version": "1.5.0",
            "_model_name": "ProgressStyleModel",
            "_view_count": null,
            "_view_module": "@jupyter-widgets/base",
            "_view_module_version": "1.2.0",
            "_view_name": "StyleView",
            "bar_color": null,
            "description_width": ""
          }
        },
        "2c9e422296624aadac6bad52a6f49c46": {
          "model_module": "@jupyter-widgets/base",
          "model_name": "LayoutModel",
          "model_module_version": "1.2.0",
          "state": {
            "_model_module": "@jupyter-widgets/base",
            "_model_module_version": "1.2.0",
            "_model_name": "LayoutModel",
            "_view_count": null,
            "_view_module": "@jupyter-widgets/base",
            "_view_module_version": "1.2.0",
            "_view_name": "LayoutView",
            "align_content": null,
            "align_items": null,
            "align_self": null,
            "border": null,
            "bottom": null,
            "display": null,
            "flex": null,
            "flex_flow": null,
            "grid_area": null,
            "grid_auto_columns": null,
            "grid_auto_flow": null,
            "grid_auto_rows": null,
            "grid_column": null,
            "grid_gap": null,
            "grid_row": null,
            "grid_template_areas": null,
            "grid_template_columns": null,
            "grid_template_rows": null,
            "height": null,
            "justify_content": null,
            "justify_items": null,
            "left": null,
            "margin": null,
            "max_height": null,
            "max_width": null,
            "min_height": null,
            "min_width": null,
            "object_fit": null,
            "object_position": null,
            "order": null,
            "overflow": null,
            "overflow_x": null,
            "overflow_y": null,
            "padding": null,
            "right": null,
            "top": null,
            "visibility": null,
            "width": null
          }
        },
        "7e35b43c587e451ba023c8274bed70f3": {
          "model_module": "@jupyter-widgets/controls",
          "model_name": "DescriptionStyleModel",
          "model_module_version": "1.5.0",
          "state": {
            "_model_module": "@jupyter-widgets/controls",
            "_model_module_version": "1.5.0",
            "_model_name": "DescriptionStyleModel",
            "_view_count": null,
            "_view_module": "@jupyter-widgets/base",
            "_view_module_version": "1.2.0",
            "_view_name": "StyleView",
            "description_width": ""
          }
        },
        "cb91c6e6239f46eea55126e0015c5f02": {
          "model_module": "@jupyter-widgets/controls",
          "model_name": "HBoxModel",
          "model_module_version": "1.5.0",
          "state": {
            "_dom_classes": [],
            "_model_module": "@jupyter-widgets/controls",
            "_model_module_version": "1.5.0",
            "_model_name": "HBoxModel",
            "_view_count": null,
            "_view_module": "@jupyter-widgets/controls",
            "_view_module_version": "1.5.0",
            "_view_name": "HBoxView",
            "box_style": "",
            "children": [
              "IPY_MODEL_42af062f86e7462f976c4aed335f2927",
              "IPY_MODEL_b88c4369d7064e3f843b6e4db20a5115",
              "IPY_MODEL_8e5ef5a7374e4a5997d019490358287d"
            ],
            "layout": "IPY_MODEL_2032ec8b96504ab183f28664ee80021c"
          }
        },
        "42af062f86e7462f976c4aed335f2927": {
          "model_module": "@jupyter-widgets/controls",
          "model_name": "HTMLModel",
          "model_module_version": "1.5.0",
          "state": {
            "_dom_classes": [],
            "_model_module": "@jupyter-widgets/controls",
            "_model_module_version": "1.5.0",
            "_model_name": "HTMLModel",
            "_view_count": null,
            "_view_module": "@jupyter-widgets/controls",
            "_view_module_version": "1.5.0",
            "_view_name": "HTMLView",
            "description": "",
            "description_tooltip": null,
            "layout": "IPY_MODEL_2040071f52464e54a877f878a895b157",
            "placeholder": "​",
            "style": "IPY_MODEL_dc1a83609fbe4b15973af34d2d0ea279",
            "value": "Downloading builder script: 100%"
          }
        },
        "b88c4369d7064e3f843b6e4db20a5115": {
          "model_module": "@jupyter-widgets/controls",
          "model_name": "FloatProgressModel",
          "model_module_version": "1.5.0",
          "state": {
            "_dom_classes": [],
            "_model_module": "@jupyter-widgets/controls",
            "_model_module_version": "1.5.0",
            "_model_name": "FloatProgressModel",
            "_view_count": null,
            "_view_module": "@jupyter-widgets/controls",
            "_view_module_version": "1.5.0",
            "_view_name": "ProgressView",
            "bar_style": "success",
            "description": "",
            "description_tooltip": null,
            "layout": "IPY_MODEL_863cbff482284a579cb693d297e0df15",
            "max": 6270,
            "min": 0,
            "orientation": "horizontal",
            "style": "IPY_MODEL_75b15d07adc54966a1259f43a87bc0c8",
            "value": 6270
          }
        },
        "8e5ef5a7374e4a5997d019490358287d": {
          "model_module": "@jupyter-widgets/controls",
          "model_name": "HTMLModel",
          "model_module_version": "1.5.0",
          "state": {
            "_dom_classes": [],
            "_model_module": "@jupyter-widgets/controls",
            "_model_module_version": "1.5.0",
            "_model_name": "HTMLModel",
            "_view_count": null,
            "_view_module": "@jupyter-widgets/controls",
            "_view_module_version": "1.5.0",
            "_view_name": "HTMLView",
            "description": "",
            "description_tooltip": null,
            "layout": "IPY_MODEL_53f57c4533084241b0feab3680e54188",
            "placeholder": "​",
            "style": "IPY_MODEL_b391ac0a279e461ea1fb99c046b4db44",
            "value": " 6.27k/6.27k [00:00&lt;00:00, 127kB/s]"
          }
        },
        "2032ec8b96504ab183f28664ee80021c": {
          "model_module": "@jupyter-widgets/base",
          "model_name": "LayoutModel",
          "model_module_version": "1.2.0",
          "state": {
            "_model_module": "@jupyter-widgets/base",
            "_model_module_version": "1.2.0",
            "_model_name": "LayoutModel",
            "_view_count": null,
            "_view_module": "@jupyter-widgets/base",
            "_view_module_version": "1.2.0",
            "_view_name": "LayoutView",
            "align_content": null,
            "align_items": null,
            "align_self": null,
            "border": null,
            "bottom": null,
            "display": null,
            "flex": null,
            "flex_flow": null,
            "grid_area": null,
            "grid_auto_columns": null,
            "grid_auto_flow": null,
            "grid_auto_rows": null,
            "grid_column": null,
            "grid_gap": null,
            "grid_row": null,
            "grid_template_areas": null,
            "grid_template_columns": null,
            "grid_template_rows": null,
            "height": null,
            "justify_content": null,
            "justify_items": null,
            "left": null,
            "margin": null,
            "max_height": null,
            "max_width": null,
            "min_height": null,
            "min_width": null,
            "object_fit": null,
            "object_position": null,
            "order": null,
            "overflow": null,
            "overflow_x": null,
            "overflow_y": null,
            "padding": null,
            "right": null,
            "top": null,
            "visibility": null,
            "width": null
          }
        },
        "2040071f52464e54a877f878a895b157": {
          "model_module": "@jupyter-widgets/base",
          "model_name": "LayoutModel",
          "model_module_version": "1.2.0",
          "state": {
            "_model_module": "@jupyter-widgets/base",
            "_model_module_version": "1.2.0",
            "_model_name": "LayoutModel",
            "_view_count": null,
            "_view_module": "@jupyter-widgets/base",
            "_view_module_version": "1.2.0",
            "_view_name": "LayoutView",
            "align_content": null,
            "align_items": null,
            "align_self": null,
            "border": null,
            "bottom": null,
            "display": null,
            "flex": null,
            "flex_flow": null,
            "grid_area": null,
            "grid_auto_columns": null,
            "grid_auto_flow": null,
            "grid_auto_rows": null,
            "grid_column": null,
            "grid_gap": null,
            "grid_row": null,
            "grid_template_areas": null,
            "grid_template_columns": null,
            "grid_template_rows": null,
            "height": null,
            "justify_content": null,
            "justify_items": null,
            "left": null,
            "margin": null,
            "max_height": null,
            "max_width": null,
            "min_height": null,
            "min_width": null,
            "object_fit": null,
            "object_position": null,
            "order": null,
            "overflow": null,
            "overflow_x": null,
            "overflow_y": null,
            "padding": null,
            "right": null,
            "top": null,
            "visibility": null,
            "width": null
          }
        },
        "dc1a83609fbe4b15973af34d2d0ea279": {
          "model_module": "@jupyter-widgets/controls",
          "model_name": "DescriptionStyleModel",
          "model_module_version": "1.5.0",
          "state": {
            "_model_module": "@jupyter-widgets/controls",
            "_model_module_version": "1.5.0",
            "_model_name": "DescriptionStyleModel",
            "_view_count": null,
            "_view_module": "@jupyter-widgets/base",
            "_view_module_version": "1.2.0",
            "_view_name": "StyleView",
            "description_width": ""
          }
        },
        "863cbff482284a579cb693d297e0df15": {
          "model_module": "@jupyter-widgets/base",
          "model_name": "LayoutModel",
          "model_module_version": "1.2.0",
          "state": {
            "_model_module": "@jupyter-widgets/base",
            "_model_module_version": "1.2.0",
            "_model_name": "LayoutModel",
            "_view_count": null,
            "_view_module": "@jupyter-widgets/base",
            "_view_module_version": "1.2.0",
            "_view_name": "LayoutView",
            "align_content": null,
            "align_items": null,
            "align_self": null,
            "border": null,
            "bottom": null,
            "display": null,
            "flex": null,
            "flex_flow": null,
            "grid_area": null,
            "grid_auto_columns": null,
            "grid_auto_flow": null,
            "grid_auto_rows": null,
            "grid_column": null,
            "grid_gap": null,
            "grid_row": null,
            "grid_template_areas": null,
            "grid_template_columns": null,
            "grid_template_rows": null,
            "height": null,
            "justify_content": null,
            "justify_items": null,
            "left": null,
            "margin": null,
            "max_height": null,
            "max_width": null,
            "min_height": null,
            "min_width": null,
            "object_fit": null,
            "object_position": null,
            "order": null,
            "overflow": null,
            "overflow_x": null,
            "overflow_y": null,
            "padding": null,
            "right": null,
            "top": null,
            "visibility": null,
            "width": null
          }
        },
        "75b15d07adc54966a1259f43a87bc0c8": {
          "model_module": "@jupyter-widgets/controls",
          "model_name": "ProgressStyleModel",
          "model_module_version": "1.5.0",
          "state": {
            "_model_module": "@jupyter-widgets/controls",
            "_model_module_version": "1.5.0",
            "_model_name": "ProgressStyleModel",
            "_view_count": null,
            "_view_module": "@jupyter-widgets/base",
            "_view_module_version": "1.2.0",
            "_view_name": "StyleView",
            "bar_color": null,
            "description_width": ""
          }
        },
        "53f57c4533084241b0feab3680e54188": {
          "model_module": "@jupyter-widgets/base",
          "model_name": "LayoutModel",
          "model_module_version": "1.2.0",
          "state": {
            "_model_module": "@jupyter-widgets/base",
            "_model_module_version": "1.2.0",
            "_model_name": "LayoutModel",
            "_view_count": null,
            "_view_module": "@jupyter-widgets/base",
            "_view_module_version": "1.2.0",
            "_view_name": "LayoutView",
            "align_content": null,
            "align_items": null,
            "align_self": null,
            "border": null,
            "bottom": null,
            "display": null,
            "flex": null,
            "flex_flow": null,
            "grid_area": null,
            "grid_auto_columns": null,
            "grid_auto_flow": null,
            "grid_auto_rows": null,
            "grid_column": null,
            "grid_gap": null,
            "grid_row": null,
            "grid_template_areas": null,
            "grid_template_columns": null,
            "grid_template_rows": null,
            "height": null,
            "justify_content": null,
            "justify_items": null,
            "left": null,
            "margin": null,
            "max_height": null,
            "max_width": null,
            "min_height": null,
            "min_width": null,
            "object_fit": null,
            "object_position": null,
            "order": null,
            "overflow": null,
            "overflow_x": null,
            "overflow_y": null,
            "padding": null,
            "right": null,
            "top": null,
            "visibility": null,
            "width": null
          }
        },
        "b391ac0a279e461ea1fb99c046b4db44": {
          "model_module": "@jupyter-widgets/controls",
          "model_name": "DescriptionStyleModel",
          "model_module_version": "1.5.0",
          "state": {
            "_model_module": "@jupyter-widgets/controls",
            "_model_module_version": "1.5.0",
            "_model_name": "DescriptionStyleModel",
            "_view_count": null,
            "_view_module": "@jupyter-widgets/base",
            "_view_module_version": "1.2.0",
            "_view_name": "StyleView",
            "description_width": ""
          }
        }
      }
    }
  },
  "cells": [
    {
      "cell_type": "markdown",
      "metadata": {
        "id": "view-in-github",
        "colab_type": "text"
      },
      "source": [
        "<a href=\"https://colab.research.google.com/github/sekarpdkt/Building-a-Conversational-Chatbot-for-Slack-using-Rasa-and-Python/blob/master/Gen_AI_Training.ipynb\" target=\"_parent\"><img src=\"https://colab.research.google.com/assets/colab-badge.svg\" alt=\"Open In Colab\"/></a>"
      ]
    },
    {
      "cell_type": "markdown",
      "source": [
        "# **Any One Can Code: Unleashing the NLP Chef in You** 👩‍🍳"
      ],
      "metadata": {
        "id": "bdIuhOhMQ4_g"
      }
    },
    {
      "cell_type": "markdown",
      "source": [
        "**Using GPU:** Enhancing Your Cooking Power\n",
        "Now, imagine you have the option to cook your NLP masterpiece on a regular stovetop or on a high-performance, state-of-the-art induction cooktop. The regular stovetop is like your CPU (Central Processing Unit), handling the cooking tasks one by one. However, if you switch to the induction cooktop, which is akin to using a GPU (Graphics Processing Unit), you can cook multiple dishes simultaneously, speeding up the entire process.\n",
        "\n",
        "To use GPU , kindly click on `Runtime` , navigate to `change runtime` , chooose `Hardware accelerator` to be `T4 GPU` and save .\n",
        "\n",
        "Click on `Connect/Reconnect` on right hand side!\n"
      ],
      "metadata": {
        "id": "ZKEDZP3yY_5h"
      }
    },
    {
      "cell_type": "markdown",
      "source": [
        "## 🔥 **Introduction: Setting the Kitchen**\n",
        "\n",
        "Step into the bustling kitchen of Natural Language Processing (NLP) with pots simmering, ingredients waiting to be transformed, and the aroma of possibilities lingering in the air. Today, we're not just cooking; we're unleashing the NLP chef within each one of you.\n",
        "\n",
        "Like we set up the kitchen before cooking we need to 'install' necessary python packages before training !"
      ],
      "metadata": {
        "id": "ucg5JCnFAVUT"
      }
    },
    {
      "cell_type": "code",
      "source": [
        "# Run only if you are cooking this recipe (executing this notebook) for the first time\n",
        "\n",
        "!pip install nltk datasets evaluate rouge_score sentencepiece transformers accelerate\n",
        "!pip install datasets\n",
        "!pip install evaluate"
      ],
      "metadata": {
        "colab": {
          "base_uri": "https://localhost:8080/"
        },
        "id": "VYPEFiziMz5r",
        "outputId": "6c913f3d-afef-4639-b26d-ec494217c9cf"
      },
      "execution_count": null,
      "outputs": [
        {
          "output_type": "stream",
          "name": "stdout",
          "text": [
            "Requirement already satisfied: nltk in /usr/local/lib/python3.10/dist-packages (3.8.1)\n",
            "Collecting datasets\n",
            "  Downloading datasets-2.15.0-py3-none-any.whl (521 kB)\n",
            "\u001b[2K     \u001b[90m━━━━━━━━━━━━━━━━━━━━━━━━━━━━━━━━━━━━━━━━\u001b[0m \u001b[32m521.2/521.2 kB\u001b[0m \u001b[31m3.0 MB/s\u001b[0m eta \u001b[36m0:00:00\u001b[0m\n",
            "\u001b[?25hCollecting evaluate\n",
            "  Downloading evaluate-0.4.1-py3-none-any.whl (84 kB)\n",
            "\u001b[2K     \u001b[90m━━━━━━━━━━━━━━━━━━━━━━━━━━━━━━━━━━━━━━━━\u001b[0m \u001b[32m84.1/84.1 kB\u001b[0m \u001b[31m12.2 MB/s\u001b[0m eta \u001b[36m0:00:00\u001b[0m\n",
            "\u001b[?25hCollecting rouge_score\n",
            "  Downloading rouge_score-0.1.2.tar.gz (17 kB)\n",
            "  Preparing metadata (setup.py) ... \u001b[?25l\u001b[?25hdone\n",
            "Collecting sentencepiece\n",
            "  Downloading sentencepiece-0.1.99-cp310-cp310-manylinux_2_17_x86_64.manylinux2014_x86_64.whl (1.3 MB)\n",
            "\u001b[2K     \u001b[90m━━━━━━━━━━━━━━━━━━━━━━━━━━━━━━━━━━━━━━━━\u001b[0m \u001b[32m1.3/1.3 MB\u001b[0m \u001b[31m19.4 MB/s\u001b[0m eta \u001b[36m0:00:00\u001b[0m\n",
            "\u001b[?25hRequirement already satisfied: transformers in /usr/local/lib/python3.10/dist-packages (4.35.2)\n",
            "Collecting accelerate\n",
            "  Downloading accelerate-0.25.0-py3-none-any.whl (265 kB)\n",
            "\u001b[2K     \u001b[90m━━━━━━━━━━━━━━━━━━━━━━━━━━━━━━━━━━━━━━━━\u001b[0m \u001b[32m265.7/265.7 kB\u001b[0m \u001b[31m33.7 MB/s\u001b[0m eta \u001b[36m0:00:00\u001b[0m\n",
            "\u001b[?25hRequirement already satisfied: click in /usr/local/lib/python3.10/dist-packages (from nltk) (8.1.7)\n",
            "Requirement already satisfied: joblib in /usr/local/lib/python3.10/dist-packages (from nltk) (1.3.2)\n",
            "Requirement already satisfied: regex>=2021.8.3 in /usr/local/lib/python3.10/dist-packages (from nltk) (2023.6.3)\n",
            "Requirement already satisfied: tqdm in /usr/local/lib/python3.10/dist-packages (from nltk) (4.66.1)\n",
            "Requirement already satisfied: numpy>=1.17 in /usr/local/lib/python3.10/dist-packages (from datasets) (1.23.5)\n",
            "Requirement already satisfied: pyarrow>=8.0.0 in /usr/local/lib/python3.10/dist-packages (from datasets) (10.0.1)\n",
            "Collecting pyarrow-hotfix (from datasets)\n",
            "  Downloading pyarrow_hotfix-0.6-py3-none-any.whl (7.9 kB)\n",
            "Collecting dill<0.3.8,>=0.3.0 (from datasets)\n",
            "  Downloading dill-0.3.7-py3-none-any.whl (115 kB)\n",
            "\u001b[2K     \u001b[90m━━━━━━━━━━━━━━━━━━━━━━━━━━━━━━━━━━━━━━━━\u001b[0m \u001b[32m115.3/115.3 kB\u001b[0m \u001b[31m12.4 MB/s\u001b[0m eta \u001b[36m0:00:00\u001b[0m\n",
            "\u001b[?25hRequirement already satisfied: pandas in /usr/local/lib/python3.10/dist-packages (from datasets) (1.5.3)\n",
            "Requirement already satisfied: requests>=2.19.0 in /usr/local/lib/python3.10/dist-packages (from datasets) (2.31.0)\n",
            "Requirement already satisfied: xxhash in /usr/local/lib/python3.10/dist-packages (from datasets) (3.4.1)\n",
            "Collecting multiprocess (from datasets)\n",
            "  Downloading multiprocess-0.70.15-py310-none-any.whl (134 kB)\n",
            "\u001b[2K     \u001b[90m━━━━━━━━━━━━━━━━━━━━━━━━━━━━━━━━━━━━━━━━\u001b[0m \u001b[32m134.8/134.8 kB\u001b[0m \u001b[31m17.7 MB/s\u001b[0m eta \u001b[36m0:00:00\u001b[0m\n",
            "\u001b[?25hRequirement already satisfied: fsspec[http]<=2023.10.0,>=2023.1.0 in /usr/local/lib/python3.10/dist-packages (from datasets) (2023.6.0)\n",
            "Requirement already satisfied: aiohttp in /usr/local/lib/python3.10/dist-packages (from datasets) (3.9.1)\n",
            "Requirement already satisfied: huggingface-hub>=0.18.0 in /usr/local/lib/python3.10/dist-packages (from datasets) (0.19.4)\n",
            "Requirement already satisfied: packaging in /usr/local/lib/python3.10/dist-packages (from datasets) (23.2)\n",
            "Requirement already satisfied: pyyaml>=5.1 in /usr/local/lib/python3.10/dist-packages (from datasets) (6.0.1)\n",
            "Collecting responses<0.19 (from evaluate)\n",
            "  Downloading responses-0.18.0-py3-none-any.whl (38 kB)\n",
            "Requirement already satisfied: absl-py in /usr/local/lib/python3.10/dist-packages (from rouge_score) (1.4.0)\n",
            "Requirement already satisfied: six>=1.14.0 in /usr/local/lib/python3.10/dist-packages (from rouge_score) (1.16.0)\n",
            "Requirement already satisfied: filelock in /usr/local/lib/python3.10/dist-packages (from transformers) (3.13.1)\n",
            "Requirement already satisfied: tokenizers<0.19,>=0.14 in /usr/local/lib/python3.10/dist-packages (from transformers) (0.15.0)\n",
            "Requirement already satisfied: safetensors>=0.3.1 in /usr/local/lib/python3.10/dist-packages (from transformers) (0.4.1)\n",
            "Requirement already satisfied: psutil in /usr/local/lib/python3.10/dist-packages (from accelerate) (5.9.5)\n",
            "Requirement already satisfied: torch>=1.10.0 in /usr/local/lib/python3.10/dist-packages (from accelerate) (2.1.0+cu118)\n",
            "Requirement already satisfied: attrs>=17.3.0 in /usr/local/lib/python3.10/dist-packages (from aiohttp->datasets) (23.1.0)\n",
            "Requirement already satisfied: multidict<7.0,>=4.5 in /usr/local/lib/python3.10/dist-packages (from aiohttp->datasets) (6.0.4)\n",
            "Requirement already satisfied: yarl<2.0,>=1.0 in /usr/local/lib/python3.10/dist-packages (from aiohttp->datasets) (1.9.3)\n",
            "Requirement already satisfied: frozenlist>=1.1.1 in /usr/local/lib/python3.10/dist-packages (from aiohttp->datasets) (1.4.0)\n",
            "Requirement already satisfied: aiosignal>=1.1.2 in /usr/local/lib/python3.10/dist-packages (from aiohttp->datasets) (1.3.1)\n",
            "Requirement already satisfied: async-timeout<5.0,>=4.0 in /usr/local/lib/python3.10/dist-packages (from aiohttp->datasets) (4.0.3)\n",
            "Requirement already satisfied: typing-extensions>=3.7.4.3 in /usr/local/lib/python3.10/dist-packages (from huggingface-hub>=0.18.0->datasets) (4.5.0)\n",
            "Requirement already satisfied: charset-normalizer<4,>=2 in /usr/local/lib/python3.10/dist-packages (from requests>=2.19.0->datasets) (3.3.2)\n",
            "Requirement already satisfied: idna<4,>=2.5 in /usr/local/lib/python3.10/dist-packages (from requests>=2.19.0->datasets) (3.6)\n",
            "Requirement already satisfied: urllib3<3,>=1.21.1 in /usr/local/lib/python3.10/dist-packages (from requests>=2.19.0->datasets) (2.0.7)\n",
            "Requirement already satisfied: certifi>=2017.4.17 in /usr/local/lib/python3.10/dist-packages (from requests>=2.19.0->datasets) (2023.11.17)\n",
            "Requirement already satisfied: sympy in /usr/local/lib/python3.10/dist-packages (from torch>=1.10.0->accelerate) (1.12)\n",
            "Requirement already satisfied: networkx in /usr/local/lib/python3.10/dist-packages (from torch>=1.10.0->accelerate) (3.2.1)\n",
            "Requirement already satisfied: jinja2 in /usr/local/lib/python3.10/dist-packages (from torch>=1.10.0->accelerate) (3.1.2)\n",
            "Requirement already satisfied: triton==2.1.0 in /usr/local/lib/python3.10/dist-packages (from torch>=1.10.0->accelerate) (2.1.0)\n",
            "Requirement already satisfied: python-dateutil>=2.8.1 in /usr/local/lib/python3.10/dist-packages (from pandas->datasets) (2.8.2)\n",
            "Requirement already satisfied: pytz>=2020.1 in /usr/local/lib/python3.10/dist-packages (from pandas->datasets) (2023.3.post1)\n",
            "Requirement already satisfied: MarkupSafe>=2.0 in /usr/local/lib/python3.10/dist-packages (from jinja2->torch>=1.10.0->accelerate) (2.1.3)\n",
            "Requirement already satisfied: mpmath>=0.19 in /usr/local/lib/python3.10/dist-packages (from sympy->torch>=1.10.0->accelerate) (1.3.0)\n",
            "Building wheels for collected packages: rouge_score\n",
            "  Building wheel for rouge_score (setup.py) ... \u001b[?25l\u001b[?25hdone\n",
            "  Created wheel for rouge_score: filename=rouge_score-0.1.2-py3-none-any.whl size=24933 sha256=d13fa17a3fcbe6c0ffa133aa1b8cfa7c84838e88235ddcb6c496357c27380241\n",
            "  Stored in directory: /root/.cache/pip/wheels/5f/dd/89/461065a73be61a532ff8599a28e9beef17985c9e9c31e541b4\n",
            "Successfully built rouge_score\n",
            "Installing collected packages: sentencepiece, pyarrow-hotfix, dill, rouge_score, responses, multiprocess, accelerate, datasets, evaluate\n",
            "Successfully installed accelerate-0.25.0 datasets-2.15.0 dill-0.3.7 evaluate-0.4.1 multiprocess-0.70.15 pyarrow-hotfix-0.6 responses-0.18.0 rouge_score-0.1.2 sentencepiece-0.1.99\n",
            "Requirement already satisfied: datasets in /usr/local/lib/python3.10/dist-packages (2.15.0)\n",
            "Requirement already satisfied: numpy>=1.17 in /usr/local/lib/python3.10/dist-packages (from datasets) (1.23.5)\n",
            "Requirement already satisfied: pyarrow>=8.0.0 in /usr/local/lib/python3.10/dist-packages (from datasets) (10.0.1)\n",
            "Requirement already satisfied: pyarrow-hotfix in /usr/local/lib/python3.10/dist-packages (from datasets) (0.6)\n",
            "Requirement already satisfied: dill<0.3.8,>=0.3.0 in /usr/local/lib/python3.10/dist-packages (from datasets) (0.3.7)\n",
            "Requirement already satisfied: pandas in /usr/local/lib/python3.10/dist-packages (from datasets) (1.5.3)\n",
            "Requirement already satisfied: requests>=2.19.0 in /usr/local/lib/python3.10/dist-packages (from datasets) (2.31.0)\n",
            "Requirement already satisfied: tqdm>=4.62.1 in /usr/local/lib/python3.10/dist-packages (from datasets) (4.66.1)\n",
            "Requirement already satisfied: xxhash in /usr/local/lib/python3.10/dist-packages (from datasets) (3.4.1)\n",
            "Requirement already satisfied: multiprocess in /usr/local/lib/python3.10/dist-packages (from datasets) (0.70.15)\n",
            "Requirement already satisfied: fsspec[http]<=2023.10.0,>=2023.1.0 in /usr/local/lib/python3.10/dist-packages (from datasets) (2023.6.0)\n",
            "Requirement already satisfied: aiohttp in /usr/local/lib/python3.10/dist-packages (from datasets) (3.9.1)\n",
            "Requirement already satisfied: huggingface-hub>=0.18.0 in /usr/local/lib/python3.10/dist-packages (from datasets) (0.19.4)\n",
            "Requirement already satisfied: packaging in /usr/local/lib/python3.10/dist-packages (from datasets) (23.2)\n",
            "Requirement already satisfied: pyyaml>=5.1 in /usr/local/lib/python3.10/dist-packages (from datasets) (6.0.1)\n",
            "Requirement already satisfied: attrs>=17.3.0 in /usr/local/lib/python3.10/dist-packages (from aiohttp->datasets) (23.1.0)\n",
            "Requirement already satisfied: multidict<7.0,>=4.5 in /usr/local/lib/python3.10/dist-packages (from aiohttp->datasets) (6.0.4)\n",
            "Requirement already satisfied: yarl<2.0,>=1.0 in /usr/local/lib/python3.10/dist-packages (from aiohttp->datasets) (1.9.3)\n",
            "Requirement already satisfied: frozenlist>=1.1.1 in /usr/local/lib/python3.10/dist-packages (from aiohttp->datasets) (1.4.0)\n",
            "Requirement already satisfied: aiosignal>=1.1.2 in /usr/local/lib/python3.10/dist-packages (from aiohttp->datasets) (1.3.1)\n",
            "Requirement already satisfied: async-timeout<5.0,>=4.0 in /usr/local/lib/python3.10/dist-packages (from aiohttp->datasets) (4.0.3)\n",
            "Requirement already satisfied: filelock in /usr/local/lib/python3.10/dist-packages (from huggingface-hub>=0.18.0->datasets) (3.13.1)\n",
            "Requirement already satisfied: typing-extensions>=3.7.4.3 in /usr/local/lib/python3.10/dist-packages (from huggingface-hub>=0.18.0->datasets) (4.5.0)\n",
            "Requirement already satisfied: charset-normalizer<4,>=2 in /usr/local/lib/python3.10/dist-packages (from requests>=2.19.0->datasets) (3.3.2)\n",
            "Requirement already satisfied: idna<4,>=2.5 in /usr/local/lib/python3.10/dist-packages (from requests>=2.19.0->datasets) (3.6)\n",
            "Requirement already satisfied: urllib3<3,>=1.21.1 in /usr/local/lib/python3.10/dist-packages (from requests>=2.19.0->datasets) (2.0.7)\n",
            "Requirement already satisfied: certifi>=2017.4.17 in /usr/local/lib/python3.10/dist-packages (from requests>=2.19.0->datasets) (2023.11.17)\n",
            "Requirement already satisfied: python-dateutil>=2.8.1 in /usr/local/lib/python3.10/dist-packages (from pandas->datasets) (2.8.2)\n",
            "Requirement already satisfied: pytz>=2020.1 in /usr/local/lib/python3.10/dist-packages (from pandas->datasets) (2023.3.post1)\n",
            "Requirement already satisfied: six>=1.5 in /usr/local/lib/python3.10/dist-packages (from python-dateutil>=2.8.1->pandas->datasets) (1.16.0)\n",
            "Requirement already satisfied: evaluate in /usr/local/lib/python3.10/dist-packages (0.4.1)\n",
            "Requirement already satisfied: datasets>=2.0.0 in /usr/local/lib/python3.10/dist-packages (from evaluate) (2.15.0)\n",
            "Requirement already satisfied: numpy>=1.17 in /usr/local/lib/python3.10/dist-packages (from evaluate) (1.23.5)\n",
            "Requirement already satisfied: dill in /usr/local/lib/python3.10/dist-packages (from evaluate) (0.3.7)\n",
            "Requirement already satisfied: pandas in /usr/local/lib/python3.10/dist-packages (from evaluate) (1.5.3)\n",
            "Requirement already satisfied: requests>=2.19.0 in /usr/local/lib/python3.10/dist-packages (from evaluate) (2.31.0)\n",
            "Requirement already satisfied: tqdm>=4.62.1 in /usr/local/lib/python3.10/dist-packages (from evaluate) (4.66.1)\n",
            "Requirement already satisfied: xxhash in /usr/local/lib/python3.10/dist-packages (from evaluate) (3.4.1)\n",
            "Requirement already satisfied: multiprocess in /usr/local/lib/python3.10/dist-packages (from evaluate) (0.70.15)\n",
            "Requirement already satisfied: fsspec[http]>=2021.05.0 in /usr/local/lib/python3.10/dist-packages (from evaluate) (2023.6.0)\n",
            "Requirement already satisfied: huggingface-hub>=0.7.0 in /usr/local/lib/python3.10/dist-packages (from evaluate) (0.19.4)\n",
            "Requirement already satisfied: packaging in /usr/local/lib/python3.10/dist-packages (from evaluate) (23.2)\n",
            "Requirement already satisfied: responses<0.19 in /usr/local/lib/python3.10/dist-packages (from evaluate) (0.18.0)\n",
            "Requirement already satisfied: pyarrow>=8.0.0 in /usr/local/lib/python3.10/dist-packages (from datasets>=2.0.0->evaluate) (10.0.1)\n",
            "Requirement already satisfied: pyarrow-hotfix in /usr/local/lib/python3.10/dist-packages (from datasets>=2.0.0->evaluate) (0.6)\n",
            "Requirement already satisfied: aiohttp in /usr/local/lib/python3.10/dist-packages (from datasets>=2.0.0->evaluate) (3.9.1)\n",
            "Requirement already satisfied: pyyaml>=5.1 in /usr/local/lib/python3.10/dist-packages (from datasets>=2.0.0->evaluate) (6.0.1)\n",
            "Requirement already satisfied: filelock in /usr/local/lib/python3.10/dist-packages (from huggingface-hub>=0.7.0->evaluate) (3.13.1)\n",
            "Requirement already satisfied: typing-extensions>=3.7.4.3 in /usr/local/lib/python3.10/dist-packages (from huggingface-hub>=0.7.0->evaluate) (4.5.0)\n",
            "Requirement already satisfied: charset-normalizer<4,>=2 in /usr/local/lib/python3.10/dist-packages (from requests>=2.19.0->evaluate) (3.3.2)\n",
            "Requirement already satisfied: idna<4,>=2.5 in /usr/local/lib/python3.10/dist-packages (from requests>=2.19.0->evaluate) (3.6)\n",
            "Requirement already satisfied: urllib3<3,>=1.21.1 in /usr/local/lib/python3.10/dist-packages (from requests>=2.19.0->evaluate) (2.0.7)\n",
            "Requirement already satisfied: certifi>=2017.4.17 in /usr/local/lib/python3.10/dist-packages (from requests>=2.19.0->evaluate) (2023.11.17)\n",
            "Requirement already satisfied: python-dateutil>=2.8.1 in /usr/local/lib/python3.10/dist-packages (from pandas->evaluate) (2.8.2)\n",
            "Requirement already satisfied: pytz>=2020.1 in /usr/local/lib/python3.10/dist-packages (from pandas->evaluate) (2023.3.post1)\n",
            "Requirement already satisfied: attrs>=17.3.0 in /usr/local/lib/python3.10/dist-packages (from aiohttp->datasets>=2.0.0->evaluate) (23.1.0)\n",
            "Requirement already satisfied: multidict<7.0,>=4.5 in /usr/local/lib/python3.10/dist-packages (from aiohttp->datasets>=2.0.0->evaluate) (6.0.4)\n",
            "Requirement already satisfied: yarl<2.0,>=1.0 in /usr/local/lib/python3.10/dist-packages (from aiohttp->datasets>=2.0.0->evaluate) (1.9.3)\n",
            "Requirement already satisfied: frozenlist>=1.1.1 in /usr/local/lib/python3.10/dist-packages (from aiohttp->datasets>=2.0.0->evaluate) (1.4.0)\n",
            "Requirement already satisfied: aiosignal>=1.1.2 in /usr/local/lib/python3.10/dist-packages (from aiohttp->datasets>=2.0.0->evaluate) (1.3.1)\n",
            "Requirement already satisfied: async-timeout<5.0,>=4.0 in /usr/local/lib/python3.10/dist-packages (from aiohttp->datasets>=2.0.0->evaluate) (4.0.3)\n",
            "Requirement already satisfied: six>=1.5 in /usr/local/lib/python3.10/dist-packages (from python-dateutil>=2.8.1->pandas->evaluate) (1.16.0)\n"
          ]
        }
      ]
    },
    {
      "cell_type": "markdown",
      "source": [
        "##🌐 Meet the Star Ingredient: Flan T5 Model"
      ],
      "metadata": {
        "id": "98YxF0-ZQ11p"
      }
    },
    {
      "cell_type": "markdown",
      "source": [
        "Before we dive into the cooking process, let's meet our star ingredient - the Flan T5 model. Flan T5 is like the secret sauce of the NLP world, known for its versatility and power."
      ],
      "metadata": {
        "id": "gzgSa6UzRIfD"
      }
    },
    {
      "cell_type": "markdown",
      "source": [
        "**Understanding the Magic: Prompt-Based Interaction**"
      ],
      "metadata": {
        "id": "NO5Bkk3YRRel"
      }
    },
    {
      "cell_type": "markdown",
      "source": [
        "Just like a chef interprets a recipe, Flan T5 understands and generates text based on prompts. A prompt is a command or query you give to the model to get specific responses. It's the secret language that allows us to communicate with our NLP creation."
      ],
      "metadata": {
        "id": "_iy3_4nkRcQ0"
      }
    },
    {
      "cell_type": "markdown",
      "source": [
        "Just as a chef picks a culinary style, you select the architecture of your NLP model. Today, we're choosing the illustrious `google/flan-t5-base model`. It's like deciding to prepare a signature dish known for its unique blend of flavors."
      ],
      "metadata": {
        "id": "LHtk1FDCKpzq"
      }
    },
    {
      "cell_type": "code",
      "source": [
        "model_id=\"google/flan-t5-base\" # name of the model to be downloaded."
      ],
      "metadata": {
        "id": "bAVXLzqcNw5k"
      },
      "execution_count": null,
      "outputs": []
    },
    {
      "cell_type": "code",
      "source": [
        "# Interacting with the Flan T5 model using a prompt\n",
        "from transformers import T5ForConditionalGeneration, T5Tokenizer\n",
        "\n",
        "\n",
        "flan_t5_model = T5ForConditionalGeneration.from_pretrained(model_id)\n",
        "tokenizer = T5Tokenizer.from_pretrained(model_id)\n",
        "\n",
        "# Example prompt\n",
        "prompt = \"Translate the following English text to French: 'Hello, how are you?'\"\n",
        "\n",
        "# Encoding the prompt\n",
        "input_ids = tokenizer.encode(prompt, return_tensors=\"pt\")\n",
        "\n",
        "# Generating the response\n",
        "output = flan_t5_model.generate(input_ids)\n",
        "\n",
        "# Decoding and printing the response\n",
        "response = tokenizer.decode(output[0], skip_special_tokens=True)\n",
        "print(\"Flan T5 Response:\", response)\n"
      ],
      "metadata": {
        "id": "tU00JgdUTiXi",
        "colab": {
          "base_uri": "https://localhost:8080/",
          "height": 346,
          "referenced_widgets": [
            "b6d2d4e045f847fdb2825742655e3567",
            "73e01c6c2468455d820d31453671ecc6",
            "e1b34c08599a4ab0bd70558903799d2f",
            "6832fcb02a6a42a1adab27cbacd95777",
            "0ae94966a53546cab10c7c5d40194ea4",
            "0b1735029bdb494485fbb1463f8f2f4c",
            "a45509942a574c8294ee615b5cd7e71c",
            "0591897522ab464b9189a4908ccc2826",
            "ac8abca645a34f66bbf44a9a11c89e92",
            "7d410280db9c49babc2c948de7549f2c",
            "b7ceb597620741fba1ac9a8a3e61a509",
            "5b84f497189e42e5bcc7560a2760677f",
            "0cc09fc1972b4b018bfe6b3eb4c8ab7b",
            "99ae3d5c73e44762948d972d2860f819",
            "2f2dde7bf88247d19863936b3bf695a9",
            "b8e65a4e5dd84771b7174637e9052302",
            "d10f7be27df846a8b7d33e8145151c2b",
            "7f3646a120d2472aad42c33215f32872",
            "1ba60732fa8a40c89d6a5c5225faf95a",
            "08b4d36fc015454aa24b935bd2d52aeb",
            "ed7349ebbfd944acb75db557b89d03a2",
            "92364ee9be5b4ff8aa79c28d6cbbc156",
            "061e236fd413435bacabdaa3c2512a2d",
            "64181737994e4199bc31f80d8d860ad0",
            "ed19a160667c44209d872dd45f4f76ce",
            "376cb822c4dd4cf6ad2fdb5cd811fcb7",
            "a1ac7aca120748ca85605efc0c4d98ba",
            "90ac407d8b3e4a52a5cdad6ca052924a",
            "1c50684505f94b79a1616d59e9d60446",
            "e6dd218d31124fd2aed8df1562701094",
            "850c537e21c54dffb8869d4f4d395ce3",
            "973332f889a04c06917a6459bc898447",
            "dc810735c92d4e6193cc27a42c3501b9",
            "a772913da0134e63b7de9157108294d8",
            "4d12c9347e1749269016bfc5f138162c",
            "a26afecbbfb24dba8dbe4368f0a4d368",
            "8728c345620d4160a4a50421484df12d",
            "a5dfbe4138a14128a904d942216b0a9b",
            "00a5c3342be44397813b62cabd4a3ddb",
            "7519741012ac45cdba03fceb2e697aa9",
            "1ef60f99c7b248628003b2faa4b0b06a",
            "bf2e52bbab4a46099eda2bf55c7ac0a9",
            "7f34149196184e36b483b3f37f9c627d",
            "114a6722544b448b9af0955f47400e58",
            "f9c182077e1d43afa051f994f61d542e",
            "fb2f3ff0809d4293ab90cfcf63d88d65",
            "66d892435f364b5a8efc33807e9309a8",
            "217fe1674303432f84705aaccbad6662",
            "4acdd7d2e2624d47bd06d66f552847b2",
            "e755283720cc4417a47d452098b1c8bf",
            "8a1e9fffee9b41a1a25efc84ba958c19",
            "bc306b33054546dbaf63b2453f25e97a",
            "78e5b59ea2aa448eab8c193937e96c05",
            "fc3a1db2fad74e4487e3b6c3072e8b82",
            "683b289e673f4d7b83eb69a7a5b70bad",
            "ab06a41e3f4541e9ace2c3442dab005d",
            "2841d9df4e89428bba496bd624f4e2d9",
            "73415a462c08453ba101610269a4fbeb",
            "d9a4f05675bf4b3dae15520cfb9d9695",
            "57b1ff37b22442f0b89cdb98e1130566",
            "b50910dc4c7744dd980b082039373c1c",
            "498b9016ddb4477db9c9c2a714a7f596",
            "2926531d41684439bd4a0fc4c22087e3",
            "a464256567d346f4be4dcd61180381f3",
            "0b63e98f0bdf4afdb6cff00d19c7ec30",
            "bb2c26c64a944f29a2fe2746d5185d22",
            "5908b85c0a0246169ed0fc36515fc6f5",
            "d1a06719891d4864b31bb92d50fb7573",
            "ee28ccf41dc4401a8b4d51edf6023c31",
            "d12dbee1cf6046ffa3225f9b757172ec",
            "d02d83ffa45c44a9bdedb994d3e791e6",
            "bf693b90a3ef4ba7a62acb5d0f9bcbce",
            "558ddac1df3a4770bd0e0b7052ddffab",
            "a0f7f09dd7214d40aa7deb353855ab0d",
            "cd10c0c8e5644c2aa57a112dd2e31a77",
            "193eba430cd742a599030757ec2cf32f",
            "78b36149f9834d5a9b2a77c6548f8628"
          ]
        },
        "outputId": "ef121c84-4a9b-48a3-be0e-a1edc82619e9"
      },
      "execution_count": null,
      "outputs": [
        {
          "output_type": "display_data",
          "data": {
            "text/plain": [
              "config.json:   0%|          | 0.00/1.40k [00:00<?, ?B/s]"
            ],
            "application/vnd.jupyter.widget-view+json": {
              "version_major": 2,
              "version_minor": 0,
              "model_id": "b6d2d4e045f847fdb2825742655e3567"
            }
          },
          "metadata": {}
        },
        {
          "output_type": "display_data",
          "data": {
            "text/plain": [
              "model.safetensors:   0%|          | 0.00/990M [00:00<?, ?B/s]"
            ],
            "application/vnd.jupyter.widget-view+json": {
              "version_major": 2,
              "version_minor": 0,
              "model_id": "5b84f497189e42e5bcc7560a2760677f"
            }
          },
          "metadata": {}
        },
        {
          "output_type": "display_data",
          "data": {
            "text/plain": [
              "generation_config.json:   0%|          | 0.00/147 [00:00<?, ?B/s]"
            ],
            "application/vnd.jupyter.widget-view+json": {
              "version_major": 2,
              "version_minor": 0,
              "model_id": "061e236fd413435bacabdaa3c2512a2d"
            }
          },
          "metadata": {}
        },
        {
          "output_type": "display_data",
          "data": {
            "text/plain": [
              "tokenizer_config.json:   0%|          | 0.00/2.54k [00:00<?, ?B/s]"
            ],
            "application/vnd.jupyter.widget-view+json": {
              "version_major": 2,
              "version_minor": 0,
              "model_id": "a772913da0134e63b7de9157108294d8"
            }
          },
          "metadata": {}
        },
        {
          "output_type": "display_data",
          "data": {
            "text/plain": [
              "spiece.model:   0%|          | 0.00/792k [00:00<?, ?B/s]"
            ],
            "application/vnd.jupyter.widget-view+json": {
              "version_major": 2,
              "version_minor": 0,
              "model_id": "f9c182077e1d43afa051f994f61d542e"
            }
          },
          "metadata": {}
        },
        {
          "output_type": "display_data",
          "data": {
            "text/plain": [
              "special_tokens_map.json:   0%|          | 0.00/2.20k [00:00<?, ?B/s]"
            ],
            "application/vnd.jupyter.widget-view+json": {
              "version_major": 2,
              "version_minor": 0,
              "model_id": "ab06a41e3f4541e9ace2c3442dab005d"
            }
          },
          "metadata": {}
        },
        {
          "output_type": "display_data",
          "data": {
            "text/plain": [
              "tokenizer.json:   0%|          | 0.00/2.42M [00:00<?, ?B/s]"
            ],
            "application/vnd.jupyter.widget-view+json": {
              "version_major": 2,
              "version_minor": 0,
              "model_id": "5908b85c0a0246169ed0fc36515fc6f5"
            }
          },
          "metadata": {}
        },
        {
          "output_type": "stream",
          "name": "stderr",
          "text": [
            "You are using the default legacy behaviour of the <class 'transformers.models.t5.tokenization_t5.T5Tokenizer'>. This is expected, and simply means that the `legacy` (previous) behavior will be used so nothing changes for you. If you want to use the new behaviour, set `legacy=False`. This should only be set if you understand what it means, and thouroughly read the reason why this was added as explained in https://github.com/huggingface/transformers/pull/24565\n",
            "Special tokens have been added in the vocabulary, make sure the associated word embeddings are fine-tuned or trained.\n",
            "/usr/local/lib/python3.10/dist-packages/transformers/generation/utils.py:1273: UserWarning: Using the model-agnostic default `max_length` (=20) to control the generation length. We recommend setting `max_new_tokens` to control the maximum length of the generation.\n",
            "  warnings.warn(\n"
          ]
        },
        {
          "output_type": "stream",
          "name": "stdout",
          "text": [
            "Flan T5 Response: 'Hello, c'est-à-dire?'\n"
          ]
        }
      ]
    },
    {
      "cell_type": "markdown",
      "source": [
        "**Use Cases: A Swiss Army Knife for NLP**\n"
      ],
      "metadata": {
        "id": "VhXhh2tTVTPv"
      }
    },
    {
      "cell_type": "markdown",
      "source": [
        "Flan T5 is like a Swiss Army knife in the NLP kitchen. It can perform various tasks, from translation to summarization and beyond. Its adaptability makes it a valuable tool for a wide range of applications."
      ],
      "metadata": {
        "id": "JxabPQSZVU4-"
      }
    },
    {
      "cell_type": "markdown",
      "source": [
        "- **Translation:** Turn it into a language maestro, effortlessly translating text from one language to another.\n",
        "- **Summarization:** Transform it into a master storyteller, condensing lengthy texts into concise summaries.\n",
        "- **Question Answering:** Watch it become an expert in answering questions, extracting valuable information from a sea of data.\n"
      ],
      "metadata": {
        "id": "5F27uxQFVghf"
      }
    },
    {
      "cell_type": "markdown",
      "source": [
        "**The Power of Large Language Models: Beyond Imagination**\n"
      ],
      "metadata": {
        "id": "9ZilQa4Ub9wW"
      }
    },
    {
      "cell_type": "markdown",
      "source": [
        "Now, imagine the capabilities of large language models like Flan T5. These models are not just language maestros; they're like wizards that can even generate code. With their extensive training on diverse datasets, they become fluent in the language of programming."
      ],
      "metadata": {
        "id": "sKZMoIoOcC5g"
      }
    },
    {
      "cell_type": "code",
      "source": [],
      "metadata": {
        "id": "OXIeaTGpdPds"
      },
      "execution_count": null,
      "outputs": []
    },
    {
      "cell_type": "markdown",
      "source": [
        "Now that we've had a taste of the Flan T5 model's capabilities, let's roll up our sleeves and dive into the process of training and fine-tuning, just like a chef perfecting a signature dish. We'll use the rich yahoo_answers_qa dataset as our main ingredient and the powerful Hugging Face Transformers library as our culinary tools. Get ready to cook up an NLP masterpiece! 🍽️"
      ],
      "metadata": {
        "id": "1ryk3uoaiQ8Q"
      }
    },
    {
      "cell_type": "markdown",
      "source": [
        "## 📜 **Recipe Book: Understanding the Hugging Face Cookbook**\n",
        "\n",
        "Just like a chef follows a recipe to create a masterpiece, in the NLP kitchen, we have the Hugging Face Cookbook. It's filled with incredible recipes to train NLP models and bring words to life.\n",
        "\n",
        "Lets import them first!"
      ],
      "metadata": {
        "id": "H8KabvtxRSdo"
      }
    },
    {
      "cell_type": "code",
      "source": [
        "import nltk\n",
        "import evaluate\n",
        "import numpy as np\n",
        "from datasets import load_dataset\n",
        "from transformers import T5Tokenizer, DataCollatorForSeq2Seq\n",
        "from transformers import T5ForConditionalGeneration, Seq2SeqTrainingArguments, Seq2SeqTrainer\n",
        "import datasets"
      ],
      "metadata": {
        "id": "5cDUyfVTLVXH"
      },
      "execution_count": null,
      "outputs": []
    },
    {
      "cell_type": "markdown",
      "source": [
        "### **Ingredients (Data):**\n",
        "\n",
        "Your dataset is the foundation, much like quality ingredients in a dish. Today our dataset/ingredient is `yahoo_answer_qa`\n"
      ],
      "metadata": {
        "id": "Drg1ZnvkZ32P"
      }
    },
    {
      "cell_type": "code",
      "source": [
        "# Importing necessary libraries\n",
        "from datasets import load_dataset\n",
        "import datasets\n",
        "\n",
        "data_set_name = \"yahoo_answers_qa\"\n",
        "# Loading a small sample from the Yahoo Answers QA dataset\n",
        "yahoo_answers_qa = load_dataset( data_set_name,split=\"train[:150]\")  # Taking a small sample 150 examples for demonstration\n",
        "# loading\n",
        "yahoo_answers_qa_eval = load_dataset(data_set_name,split=datasets.ReadInstruction(\n",
        "    'train', from_=2, to=2.5, unit='%'))"
      ],
      "metadata": {
        "id": "6WQ82w7oZ3MW",
        "colab": {
          "base_uri": "https://localhost:8080/",
          "height": 177,
          "referenced_widgets": [
            "27fdb064f2a84d8185ff6b5d6159d93f",
            "442e15a331364022ac0450929e5f4563",
            "944e0220c8194e618855fc4b2ea91f71",
            "91bc3aa95b8d467abbf3e90245ca4b78",
            "d03d719b9e7a4670a0c202c2f8a725ec",
            "08b44418c8504c5fbf86de52b297e7c4",
            "5f93c17d920a43a3a6082e0e484e10b4",
            "da5ae8a224774dc78b638c333bb7f12f",
            "70e5163ddc8643c3925f495fdde9ea46",
            "07f4afd93a2f44749a31aebc5a1cdd36",
            "cadc4beefdaf48b6b94fc9c7c5f83ab3",
            "e2ebff2dfde34309ad9c175d6d4a387e",
            "1aae67f41a38452483e17ee3a06cfdea",
            "33946656443b4d8fb6145fd151bd2fb9",
            "4a8d2f8147264d8799ea7fec98d8fd0d",
            "b7c602e9585b4237817890608a1794e2",
            "89bb2a6072154243975f3030471390e6",
            "914e06227c094cabb392ae76782e397e",
            "c6f1086de334486f8e646e348b535255",
            "7ce8f2ef18d245569f581650e925922d",
            "92c0e0d435be49928c0fb9c1e948a86a",
            "52b579331d49488abedc3684ddfd320d",
            "bb305ad6b18a475f921e63b5461c40e5",
            "f953db26028e4033899e3edb8dd6a9f6",
            "824ea996c2324469ae8ddb7b1b217de9",
            "ca0bca169c164fa6bcb4cf1535f67f7e",
            "b8ca52543f48461a8453b4b68caa6214",
            "d7917b8a73ad4ce8bfd92de05484bf96",
            "79d133bc327a4dce81b4532ed3f9c334",
            "2a3f9537bf2242ba835f71b9c89811d2",
            "977884cd3b4e40cdbb1cb3be4181bf0f",
            "374f5ed8b3344b3bb72c3124d357fe8a",
            "f035a299f45e46b8a00ae0f1b1fe7da2",
            "045e689bbad64289a6564359938a387c",
            "a0b6ade3cf5047d492859fadab0bb8ca",
            "4d31a0d10c20432ead10a9e39b49077e",
            "e5d02dfa92e842d3b600c5f5b9a76865",
            "ddc5b48f71354f7fa8ded8e0be5a2a2f",
            "a29634a29e5c4488b2a19bc7970b4027",
            "755e6f4bf6df4b3ab4853423bff25b8d",
            "b00442aef27c4228b77e7310fcbddad2",
            "d6450a1d49094a3dbc5c45777dd11ff7",
            "948a29ee1bac49de8093dc1d6619536f",
            "54461d5c213b4cc389591d39a0c932fd",
            "eb176dc0bad24856a6e4190d75c0e8c0",
            "b1faab1add18410d937aa4fa0d8b6b9a",
            "646df91feecb4927979607ba24e39862",
            "1ebdfdee9be34f34bd2126ee479949d8",
            "c4f096c114e249cdba5ff4af94d29b8a",
            "38d3e4e81ee24febba4eb2564635fcaa",
            "e89a47805fcf46d8bbd0fe127140df7d",
            "7c7fb8ea425a48aba20a384268bb77d3",
            "53620e5b174943fa9b18cd957fef2465",
            "ad4d4ffc9ab54c36a5a302c06f6f0d2e",
            "100052964223477eb604cfa743712d0a"
          ]
        },
        "outputId": "833cfa90-74cd-419a-d1a4-4b98ae80c53a"
      },
      "execution_count": null,
      "outputs": [
        {
          "output_type": "display_data",
          "data": {
            "text/plain": [
              "Downloading builder script:   0%|          | 0.00/2.76k [00:00<?, ?B/s]"
            ],
            "application/vnd.jupyter.widget-view+json": {
              "version_major": 2,
              "version_minor": 0,
              "model_id": "27fdb064f2a84d8185ff6b5d6159d93f"
            }
          },
          "metadata": {}
        },
        {
          "output_type": "display_data",
          "data": {
            "text/plain": [
              "Downloading metadata:   0%|          | 0.00/1.59k [00:00<?, ?B/s]"
            ],
            "application/vnd.jupyter.widget-view+json": {
              "version_major": 2,
              "version_minor": 0,
              "model_id": "e2ebff2dfde34309ad9c175d6d4a387e"
            }
          },
          "metadata": {}
        },
        {
          "output_type": "display_data",
          "data": {
            "text/plain": [
              "Downloading readme:   0%|          | 0.00/3.66k [00:00<?, ?B/s]"
            ],
            "application/vnd.jupyter.widget-view+json": {
              "version_major": 2,
              "version_minor": 0,
              "model_id": "bb305ad6b18a475f921e63b5461c40e5"
            }
          },
          "metadata": {}
        },
        {
          "output_type": "display_data",
          "data": {
            "text/plain": [
              "Downloading data:   0%|          | 0.00/49.4M [00:00<?, ?B/s]"
            ],
            "application/vnd.jupyter.widget-view+json": {
              "version_major": 2,
              "version_minor": 0,
              "model_id": "045e689bbad64289a6564359938a387c"
            }
          },
          "metadata": {}
        },
        {
          "output_type": "display_data",
          "data": {
            "text/plain": [
              "Generating train split:   0%|          | 0/87362 [00:00<?, ? examples/s]"
            ],
            "application/vnd.jupyter.widget-view+json": {
              "version_major": 2,
              "version_minor": 0,
              "model_id": "eb176dc0bad24856a6e4190d75c0e8c0"
            }
          },
          "metadata": {}
        }
      ]
    },
    {
      "cell_type": "code",
      "source": [
        "yahoo_answers_qa"
      ],
      "metadata": {
        "colab": {
          "base_uri": "https://localhost:8080/"
        },
        "id": "d8kuZuniaEBO",
        "outputId": "012b01f7-6b4d-4fe1-bda7-2424cc8d4071"
      },
      "execution_count": null,
      "outputs": [
        {
          "output_type": "execute_result",
          "data": {
            "text/plain": [
              "Dataset({\n",
              "    features: ['id', 'question', 'answer', 'nbestanswers', 'main_category'],\n",
              "    num_rows: 150\n",
              "})"
            ]
          },
          "metadata": {},
          "execution_count": 7
        }
      ]
    },
    {
      "cell_type": "code",
      "source": [
        "yahoo_answers_qa[9]"
      ],
      "metadata": {
        "colab": {
          "base_uri": "https://localhost:8080/"
        },
        "id": "RI5pMgFjaGO0",
        "outputId": "2afa36ad-6217-4e55-a3ef-09a0651764d9"
      },
      "execution_count": null,
      "outputs": [
        {
          "output_type": "execute_result",
          "data": {
            "text/plain": [
              "{'id': '1274254',\n",
              " 'question': 'How to boil lobster?',\n",
              " 'answer': 'Fill a large pot with 1/4 full of water or just enough to cover your lobster and add a generous handful of salt. When it comes to a boil, put the lobster in the pot head first. Then boil for 18 for the first pound and 10 minutes more for each additional pound.  For lobsters over 7 pounds, 8 minutes per additional pound is enough.',\n",
              " 'nbestanswers': ['Fill a large pot with 1/4 full of water or just enough to cover your lobster and add a generous handful of salt. When it comes to a boil, put the lobster in the pot head first. Then boil for 18 for the first pound and 10 minutes more for each additional pound.  For lobsters over 7 pounds, 8 minutes per additional pound is enough.',\n",
              "  \"Here's how:. . You'll need the following:. . large deep pot. long tongs. live lobsters. boiling salted water. melted butter. . Bring salted water to a rolling boil. Using long tongs, quickly but carefully lower live lobsters into the boiling water. Simmer for about 10 minutes, or until lobsters are bright red.  Serve with melted butter for dipping.\"],\n",
              " 'main_category': 'Food & Drink'}"
            ]
          },
          "metadata": {},
          "execution_count": 8
        }
      ]
    },
    {
      "cell_type": "code",
      "source": [
        "questions = [\"What happened to the missing 18.5 minutes on the Watergate tapes?\",\"Why hybrid cars gas mileage is better in city ?\",\"What is the meaning of life?\",\"How to boil lobster?\"] # remember this question"
      ],
      "metadata": {
        "id": "VX3BeDBpaJSZ"
      },
      "execution_count": null,
      "outputs": []
    },
    {
      "cell_type": "markdown",
      "source": [
        "### 🤖 **The Hugging Face Pan** : Transformers as Cooking Tools"
      ],
      "metadata": {
        "id": "bA65W_lKaguX"
      }
    },
    {
      "cell_type": "markdown",
      "source": [
        "Our special pan in the NLP kitchen is the Hugging Face Transformers library. It's like having a magic wand that speaks the language of models. Think of it as selecting the perfect pan for your culinary creation, but in the digital realm.\n",
        "\n",
        "#### **Cooking Techniques (Training Steps):** Every step in the recipe is a technique. From tokenization to fine-tuning, each contributes to the richness of your NLP model."
      ],
      "metadata": {
        "id": "CYvDhEqtacDz"
      }
    },
    {
      "cell_type": "code",
      "source": [
        "# Importing necessary libraries\n",
        "from transformers import T5Tokenizer, DataCollatorForSeq2Seq\n",
        "from transformers import T5ForConditionalGeneration, Seq2SeqTrainingArguments, Seq2SeqTrainer\n",
        "# Tokenizing and preparing the dataset\n",
        "tokenizer = T5Tokenizer.from_pretrained(model_id)\n",
        "model = T5ForConditionalGeneration.from_pretrained(model_id)\n",
        "data_collator = DataCollatorForSeq2Seq(tokenizer=tokenizer, model=model)"
      ],
      "metadata": {
        "colab": {
          "base_uri": "https://localhost:8080/"
        },
        "id": "fplMhDybKFv9",
        "outputId": "07cbc654-af8c-4a76-af32-1a8b5e93e75f"
      },
      "execution_count": null,
      "outputs": [
        {
          "output_type": "stream",
          "name": "stderr",
          "text": [
            "Special tokens have been added in the vocabulary, make sure the associated word embeddings are fine-tuned or trained.\n"
          ]
        }
      ]
    },
    {
      "cell_type": "markdown",
      "source": [
        "### **STEP 1: Connecting the Ingredients: Data Preprocessing**\n",
        "\n",
        "Before the grand cooking begins, a chef preps the ingredients. In NLP, we preprocess the data, akin to chopping, slicing, and dicing for perfect integration. For this special recipe, we've chosen the rich and diverse yahoo_answers_qa dataset as our main ingredient."
      ],
      "metadata": {
        "id": "gFJNAr6ba9kT"
      }
    },
    {
      "cell_type": "code",
      "source": [
        "# We prefix our tasks with \"answer the question\"\n",
        "prefix = \"Please answer this question: \"\n",
        "\n",
        "# Define the preprocessing function\n",
        "\n",
        "def preprocess_function(examples):\n",
        "   \"\"\"Add prefix to the sentences, tokenize the text, and set the labels\"\"\"\n",
        "   # The \"inputs\" are the tokenized answer:\n",
        "   inputs = [prefix + doc for doc in examples[\"question\"]]\n",
        "   model_inputs = tokenizer(inputs, max_length=128, truncation=True)\n",
        "\n",
        "   # The \"labels\" are the tokenized outputs:\n",
        "   labels = tokenizer(text_target=examples[\"answer\"],\n",
        "                      max_length=512,\n",
        "                      truncation=True)\n",
        "\n",
        "   model_inputs[\"labels\"] = labels[\"input_ids\"]\n",
        "   return model_inputs"
      ],
      "metadata": {
        "id": "QgsaEFs5Oq08"
      },
      "execution_count": null,
      "outputs": []
    },
    {
      "cell_type": "code",
      "source": [
        "# Map the preprocessing function across our dataset\n",
        "train_tokenized_dataset = yahoo_answers_qa.map(preprocess_function, batched=True)"
      ],
      "metadata": {
        "id": "DgOFL89tZb3I",
        "colab": {
          "base_uri": "https://localhost:8080/",
          "height": 49,
          "referenced_widgets": [
            "35b6ecd99e024a1e8a15d9dbb972146a",
            "7e99cc6f31664ca6b56fc7d57e5c519d",
            "d54e301092cd4e27989303c8d59e8ea0",
            "e68537a6d0094ae2a7d8ae3e6bce91ae",
            "82e22070ada8488b8132a7e212d37b4a",
            "7e95a1ae435242cfa49da3ce59579bc3",
            "32dea28844534ae184f61556b2b560ff",
            "5e5963a0464d4e599ff3df2a64b99ef3",
            "534f9a4590454f88ad3bd008d66d3f4e",
            "898f681afd8748a0a571dfb95c230636",
            "b1d40ed5aa8245a488a12e86e850f542"
          ]
        },
        "outputId": "c6a4d929-deea-4591-8060-8442a2458d97"
      },
      "execution_count": null,
      "outputs": [
        {
          "output_type": "display_data",
          "data": {
            "text/plain": [
              "Map:   0%|          | 0/150 [00:00<?, ? examples/s]"
            ],
            "application/vnd.jupyter.widget-view+json": {
              "version_major": 2,
              "version_minor": 0,
              "model_id": "35b6ecd99e024a1e8a15d9dbb972146a"
            }
          },
          "metadata": {}
        }
      ]
    },
    {
      "cell_type": "code",
      "source": [
        "eval_tokenized_dataset = yahoo_answers_qa_eval.map(preprocess_function, batched=True)"
      ],
      "metadata": {
        "id": "QMC3K3CG6HSO",
        "colab": {
          "base_uri": "https://localhost:8080/",
          "height": 49,
          "referenced_widgets": [
            "dd1adb4e1ad64ee38670dfd940355c2f",
            "c97364c115244f6493da432ab8e99773",
            "5c28987c854549eb8ce1c83c3cb26c75",
            "c461d623a231441b83af0d48ede731a8",
            "dd6307f9332c4fb2b6ca72933c202ffd",
            "013ef0416c1445868ef23ac9da61416d",
            "e4d9cedf26fa4206add3fc0f2ae99165",
            "0dbb7dd9cff2453d87e882b9590b45d4",
            "08eaf6c0ddee4cc9a14fc9219415b1d5",
            "2c9e422296624aadac6bad52a6f49c46",
            "7e35b43c587e451ba023c8274bed70f3"
          ]
        },
        "outputId": "25fafe7d-119a-4a51-8902-c6e42a8f9178"
      },
      "execution_count": null,
      "outputs": [
        {
          "output_type": "display_data",
          "data": {
            "text/plain": [
              "Map:   0%|          | 0/437 [00:00<?, ? examples/s]"
            ],
            "application/vnd.jupyter.widget-view+json": {
              "version_major": 2,
              "version_minor": 0,
              "model_id": "dd1adb4e1ad64ee38670dfd940355c2f"
            }
          },
          "metadata": {}
        }
      ]
    },
    {
      "cell_type": "markdown",
      "source": [
        "#### **STEP 1.1: Tokenization**\n",
        "\n",
        "The Art of Ingredient Preparation Tokenization is like preparing your ingredients before cooking. In NLP, it involves breaking down text into smaller units called tokens. This step is crucial because it helps the model understand only numbers and process language more effectively."
      ],
      "metadata": {
        "id": "wUDdmWYEbe7X"
      }
    },
    {
      "cell_type": "code",
      "source": [
        "# Tokenizing a text example\n",
        "print(questions[0])\n",
        "encoded = tokenizer.encode(questions[0])\n",
        "print(encoded)\n"
      ],
      "metadata": {
        "colab": {
          "base_uri": "https://localhost:8080/"
        },
        "id": "kUgyucFKbi-S",
        "outputId": "f9a90bca-7005-413a-a133-333c90a37209"
      },
      "execution_count": null,
      "outputs": [
        {
          "output_type": "stream",
          "name": "stdout",
          "text": [
            "What happened to the missing 18.5 minutes on the Watergate tapes?\n",
            "[363, 2817, 12, 8, 3586, 209, 19253, 676, 30, 8, 2336, 5339, 4874, 7, 58, 1]\n"
          ]
        }
      ]
    },
    {
      "cell_type": "code",
      "source": [
        "tokenizer.decode(encoded,skip_special_tokens=True)"
      ],
      "metadata": {
        "colab": {
          "base_uri": "https://localhost:8080/",
          "height": 35
        },
        "id": "5C7bLNUpbloT",
        "outputId": "4b6286a5-60dd-4573-a091-30f9edb867d7"
      },
      "execution_count": null,
      "outputs": [
        {
          "output_type": "execute_result",
          "data": {
            "text/plain": [
              "'What happened to the missing 18.5 minutes on the Watergate tapes?'"
            ],
            "application/vnd.google.colaboratory.intrinsic+json": {
              "type": "string"
            }
          },
          "metadata": {},
          "execution_count": 17
        }
      ]
    },
    {
      "cell_type": "markdown",
      "source": [
        "### **STEP 2: 🔍 Understanding the Recipe: Evaluation Metrics**\n",
        "\n",
        "In the culinary world, just as we taste and evaluate our dish, in NLP, we use metrics to assess the performance of our models. One such metric is the Rouge metric which we normally use for Question and Answering Tasks"
      ],
      "metadata": {
        "id": "TXh_-HFmbZul"
      }
    },
    {
      "cell_type": "code",
      "source": [
        "nltk.download(\"punkt\", quiet=True)\n",
        "metric = evaluate.load(\"rouge\")"
      ],
      "metadata": {
        "id": "mCy6LKGBZfas",
        "colab": {
          "base_uri": "https://localhost:8080/",
          "height": 49,
          "referenced_widgets": [
            "cb91c6e6239f46eea55126e0015c5f02",
            "42af062f86e7462f976c4aed335f2927",
            "b88c4369d7064e3f843b6e4db20a5115",
            "8e5ef5a7374e4a5997d019490358287d",
            "2032ec8b96504ab183f28664ee80021c",
            "2040071f52464e54a877f878a895b157",
            "dc1a83609fbe4b15973af34d2d0ea279",
            "863cbff482284a579cb693d297e0df15",
            "75b15d07adc54966a1259f43a87bc0c8",
            "53f57c4533084241b0feab3680e54188",
            "b391ac0a279e461ea1fb99c046b4db44"
          ]
        },
        "outputId": "87d21cb0-b5e5-4301-dc70-3ca26d972ae9"
      },
      "execution_count": null,
      "outputs": [
        {
          "output_type": "display_data",
          "data": {
            "text/plain": [
              "Downloading builder script:   0%|          | 0.00/6.27k [00:00<?, ?B/s]"
            ],
            "application/vnd.jupyter.widget-view+json": {
              "version_major": 2,
              "version_minor": 0,
              "model_id": "cb91c6e6239f46eea55126e0015c5f02"
            }
          },
          "metadata": {}
        }
      ]
    },
    {
      "cell_type": "code",
      "source": [
        "def compute_metrics(eval_preds):\n",
        "   preds, labels = eval_preds\n",
        "\n",
        "   # decode preds and labels\n",
        "   labels = np.where(labels != -100, labels, tokenizer.pad_token_id)\n",
        "   decoded_preds = tokenizer.batch_decode(preds, skip_special_tokens=True)\n",
        "   decoded_labels = tokenizer.batch_decode(labels, skip_special_tokens=True)\n",
        "\n",
        "   # rougeLSum expects newline after each sentence\n",
        "   decoded_preds = [\"\\n\".join(nltk.sent_tokenize(pred.strip())) for pred in decoded_preds]\n",
        "   decoded_labels = [\"\\n\".join(nltk.sent_tokenize(label.strip())) for label in decoded_labels]\n",
        "\n",
        "   result = metric.compute(predictions=decoded_preds, references=decoded_labels, use_stemmer=True)\n",
        "\n",
        "   return result"
      ],
      "metadata": {
        "id": "4cQhAiOpZhs1"
      },
      "execution_count": null,
      "outputs": []
    },
    {
      "cell_type": "markdown",
      "source": [
        "### **STEP 3: Initial Tasting: Inference Without Training**"
      ],
      "metadata": {
        "id": "JayBE513bwCP"
      }
    },
    {
      "cell_type": "markdown",
      "source": [
        "Inference Without Training\n",
        "Before we delve into the cooking process, let's take a sneak peek. We'll perform an initial inference on a small sample from the dataset to showcase the need for training."
      ],
      "metadata": {
        "id": "uUwj6d8TbhjU"
      }
    },
    {
      "cell_type": "code",
      "source": [
        "# Initial inference example\n",
        "for question in questions:\n",
        "  inputs = tokenizer(question, return_tensors=\"pt\")\n",
        "  outputs = model.generate(**inputs,max_new_tokens=512)\n",
        "  answer = tokenizer.decode(outputs[0], skip_special_tokens=True)\n",
        "  print(f\"Answer for question \\\" {question} \\\" without Training the model is :\", answer)"
      ],
      "metadata": {
        "colab": {
          "base_uri": "https://localhost:8080/"
        },
        "id": "Hr6Hsh6mbpc_",
        "outputId": "8d54fea3-bb79-45ba-bb7e-50a8cf529aa5"
      },
      "execution_count": null,
      "outputs": [
        {
          "output_type": "stream",
          "name": "stdout",
          "text": [
            "Answer for question \" What happened to the missing 18.5 minutes on the Watergate tapes? \" without Training the model is : re-aired\n",
            "Answer for question \" Why hybrid cars gas mileage is better in city ? \" without Training the model is : hybrid cars have a higher mileage\n",
            "Answer for question \" What is the meaning of life? \" without Training the model is : life is a cycle of life\n",
            "Answer for question \" How to boil lobster? \" without Training the model is : Place lobster in a large pot and bring to a boil. Add the water and bring to a simmer. Reduce the heat to low and simmer for 10 minutes.\n"
          ]
        }
      ]
    },
    {
      "cell_type": "markdown",
      "source": [
        "### **STEP 4: The Need for Training : Unleashing the Full Flavor**"
      ],
      "metadata": {
        "id": "aiO39nWMcGTd"
      }
    },
    {
      "cell_type": "markdown",
      "source": [
        "\n",
        "Our initial inference was a taste of what the untrained model can offer. However, to unlock the full flavor and potential of our NLP creation, we need to go through the training process."
      ],
      "metadata": {
        "id": "ja_fZFQzcCIQ"
      }
    },
    {
      "cell_type": "code",
      "source": [
        "# Global Parameters\n",
        "L_RATE = 3e-4\n",
        "BATCH_SIZE = 16\n",
        "PER_DEVICE_EVAL_BATCH = 16\n",
        "WEIGHT_DECAY = 0.01\n",
        "SAVE_TOTAL_LIM = 3\n",
        "NUM_EPOCHS = 3"
      ],
      "metadata": {
        "id": "kOyWJlkucKB_"
      },
      "execution_count": null,
      "outputs": []
    },
    {
      "cell_type": "markdown",
      "source": [
        "#### **1. L_RATE (Learning Rate):**\n",
        "It determines the size of steps the optimizer takes during training to find the optimal model parameters. Too high a learning rate might cause the model to overshoot the optimal values, and too low might make the training slow or get stuck in local minima.\n",
        "##### **Analogy:**\n",
        "Think of it as the intensity of the flame under your cooking pot. Too high, and your dish might burn; too low, and it may not cook properly.\n",
        "\n",
        "#### **2. BATCH_SIZE:**\n",
        "It is the number of data samples used in one iteration of training. It affects the efficiency of the training process and memory usage.\n",
        "##### **Analogy:**\n",
        "Picture it as the number of servings in each cooking round. A larger batch means cooking for more people in one go, but it might require a larger pot.\n",
        "\n",
        "#### **3. PER_DEVICE_EVAL_BATCH:**\n",
        "This parameter specifies the batch size used during evaluation on each device. It helps balance memory usage during model evaluation.\n",
        "##### **Analogy:**\n",
        "When tasting a dish, you might want to evaluate a small portion rather than the entire serving. This parameter controls the size of each \"tasting portion.\"\n",
        "\n",
        "#### **4. WEIGHT_DECAY:**\n",
        "It is a regularization technique that prevents the model from becoming too complex and overfitting the training data.\n",
        "##### **Analogy:**\n",
        "It's like adding a pinch of salt to your dish – just enough to enhance the flavor without making it too salty.\n",
        "\n",
        "#### **5. SAVE_TOTAL_LIM (Save Total Limit):**\n",
        "This parameter sets a limit on the total number of checkpoints saved during training. It helps manage storage space.\n",
        "##### **Analogy:**\n",
        "Imagine you're taking snapshots of your dish at different stages of cooking. This parameter decides how many pictures you keep to avoid filling up your photo album.\n",
        "\n",
        "#### **6. NUM_EPOCHS (Number of Epochs):**\n",
        "It is one complete pass through the entire training dataset. The number of epochs determines how many times the model sees the entire dataset during training.\n",
        "##### **Analogy:**\n",
        "It's akin to repeating a recipe multiple times to perfect your culinary skills. More epochs allow the model to learn and refine its understanding.\n",
        "\n"
      ],
      "metadata": {
        "id": "DYsUvOCDcLrK"
      }
    },
    {
      "cell_type": "markdown",
      "source": [
        "### **STEP 5: Building the Recipe: Configuring the Model**"
      ],
      "metadata": {
        "id": "2dvs8Vb9cdMg"
      }
    },
    {
      "cell_type": "code",
      "source": [
        "# Set up training arguments\n",
        "training_args = Seq2SeqTrainingArguments(\n",
        "   output_dir=\"./results\",\n",
        "   evaluation_strategy=\"epoch\",\n",
        "   save_strategy=\"epoch\",\n",
        "   learning_rate=L_RATE,\n",
        "   per_device_train_batch_size=BATCH_SIZE,\n",
        "   per_device_eval_batch_size=PER_DEVICE_EVAL_BATCH,\n",
        "   weight_decay=WEIGHT_DECAY,\n",
        "   save_total_limit=SAVE_TOTAL_LIM,\n",
        "   logging_steps= 1,\n",
        "   num_train_epochs=NUM_EPOCHS,\n",
        "   predict_with_generate=True,\n",
        "   push_to_hub=False,\n",
        "   load_best_model_at_end=True,\n",
        "   report_to=\"tensorboard\",\n",
        ")"
      ],
      "metadata": {
        "id": "Lh4z7658Z5t5"
      },
      "execution_count": null,
      "outputs": []
    },
    {
      "cell_type": "code",
      "source": [
        "trainer = Seq2SeqTrainer(\n",
        "   model=model,\n",
        "   args=training_args,\n",
        "   train_dataset=train_tokenized_dataset,\n",
        "   eval_dataset=eval_tokenized_dataset,\n",
        "   tokenizer=tokenizer,\n",
        "   data_collator=data_collator,\n",
        "   compute_metrics=compute_metrics\n",
        ")"
      ],
      "metadata": {
        "id": "X0ig0WoYaEvi"
      },
      "execution_count": null,
      "outputs": []
    },
    {
      "cell_type": "markdown",
      "source": [
        "### **STEP 6: Into the Oven: Model Training**"
      ],
      "metadata": {
        "id": "kB3aahxmcyxi"
      }
    },
    {
      "cell_type": "markdown",
      "source": [
        "With the unique combination of our selected model, dataset, and advanced tools, it's time to put our creation into the digital oven.\n"
      ],
      "metadata": {
        "id": "AJSLedhWczU_"
      }
    },
    {
      "cell_type": "code",
      "source": [
        "trainer.train()"
      ],
      "metadata": {
        "colab": {
          "base_uri": "https://localhost:8080/",
          "height": 307
        },
        "id": "7DMg9e7tbf3Z",
        "outputId": "7aeb613c-12cd-433a-af21-9aec786d2aca"
      },
      "execution_count": null,
      "outputs": [
        {
          "output_type": "display_data",
          "data": {
            "text/plain": [
              "<IPython.core.display.HTML object>"
            ],
            "text/html": [
              "\n",
              "    <div>\n",
              "      \n",
              "      <progress value='30' max='30' style='width:300px; height:20px; vertical-align: middle;'></progress>\n",
              "      [30/30 02:58, Epoch 3/3]\n",
              "    </div>\n",
              "    <table border=\"1\" class=\"dataframe\">\n",
              "  <thead>\n",
              " <tr style=\"text-align: left;\">\n",
              "      <th>Epoch</th>\n",
              "      <th>Training Loss</th>\n",
              "      <th>Validation Loss</th>\n",
              "      <th>Rouge1</th>\n",
              "      <th>Rouge2</th>\n",
              "      <th>Rougel</th>\n",
              "      <th>Rougelsum</th>\n",
              "    </tr>\n",
              "  </thead>\n",
              "  <tbody>\n",
              "    <tr>\n",
              "      <td>1</td>\n",
              "      <td>3.194000</td>\n",
              "      <td>3.227328</td>\n",
              "      <td>0.171157</td>\n",
              "      <td>0.030902</td>\n",
              "      <td>0.133508</td>\n",
              "      <td>0.150573</td>\n",
              "    </tr>\n",
              "    <tr>\n",
              "      <td>2</td>\n",
              "      <td>2.961400</td>\n",
              "      <td>3.224342</td>\n",
              "      <td>0.170758</td>\n",
              "      <td>0.030287</td>\n",
              "      <td>0.131732</td>\n",
              "      <td>0.150539</td>\n",
              "    </tr>\n",
              "    <tr>\n",
              "      <td>3</td>\n",
              "      <td>2.543600</td>\n",
              "      <td>3.226711</td>\n",
              "      <td>0.173906</td>\n",
              "      <td>0.032957</td>\n",
              "      <td>0.134402</td>\n",
              "      <td>0.153490</td>\n",
              "    </tr>\n",
              "  </tbody>\n",
              "</table><p>"
            ]
          },
          "metadata": {}
        },
        {
          "output_type": "stream",
          "name": "stderr",
          "text": [
            "/usr/local/lib/python3.10/dist-packages/transformers/generation/utils.py:1273: UserWarning: Using the model-agnostic default `max_length` (=20) to control the generation length. We recommend setting `max_new_tokens` to control the maximum length of the generation.\n",
            "  warnings.warn(\n",
            "/usr/local/lib/python3.10/dist-packages/transformers/generation/utils.py:1273: UserWarning: Using the model-agnostic default `max_length` (=20) to control the generation length. We recommend setting `max_new_tokens` to control the maximum length of the generation.\n",
            "  warnings.warn(\n",
            "There were missing keys in the checkpoint model loaded: ['encoder.embed_tokens.weight', 'decoder.embed_tokens.weight'].\n"
          ]
        },
        {
          "output_type": "execute_result",
          "data": {
            "text/plain": [
              "TrainOutput(global_step=30, training_loss=3.1642261266708376, metrics={'train_runtime': 181.7724, 'train_samples_per_second': 2.476, 'train_steps_per_second': 0.165, 'total_flos': 18718484189184.0, 'train_loss': 3.1642261266708376, 'epoch': 3.0})"
            ]
          },
          "metadata": {},
          "execution_count": 25
        }
      ]
    },
    {
      "cell_type": "markdown",
      "source": [
        "### **STEP 7: 🌈 Knowing When to Stop: The Art of Culinary Timing**"
      ],
      "metadata": {
        "id": "5Zho6MkVgxQW"
      }
    },
    {
      "cell_type": "markdown",
      "source": [
        "As we venture further into the NLP kitchen, it's crucial to know when our creation is perfectly cooked. Training an NLP model is akin to crafting a culinary masterpiece; timing is everything. But how do you know when to stop?"
      ],
      "metadata": {
        "id": "U-zGw5z-g4Z_"
      }
    },
    {
      "cell_type": "markdown",
      "source": [
        "**Monitoring Loss Function: A Kitchen Thermometer**\n"
      ],
      "metadata": {
        "id": "l21hFVgMg73O"
      }
    },
    {
      "cell_type": "markdown",
      "source": [
        "Think of the loss function as a thermometer in your culinary journey. It measures how far off your model's predictions are from the actual values. During training, we aim to minimize this loss, ensuring our model captures the essence of the language.\n"
      ],
      "metadata": {
        "id": "04uh3DyPhFka"
      }
    },
    {
      "cell_type": "markdown",
      "source": [
        "![shows-the-convergence-of-loss-function-over-training-and-validation-data.png](data:image/png;base64,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)"
      ],
      "metadata": {
        "id": "5Q6_sARZWtv8"
      }
    },
    {
      "cell_type": "markdown",
      "source": [
        "**Convergence: When the Flavors Harmonize**\n"
      ],
      "metadata": {
        "id": "7fJ18F10hNZ4"
      }
    },
    {
      "cell_type": "markdown",
      "source": [
        "Loss function convergence is like achieving the perfect blend of flavors in your dish. It indicates that your model has learned as much as it can from the data. Monitoring loss over epochs helps you identify when your model has reached its peak performance."
      ],
      "metadata": {
        "id": "qpFIbuTWhQcs"
      }
    },
    {
      "cell_type": "markdown",
      "source": [
        "## **🎉 Bon Appétit: Deploying Your Model**\n",
        "\n",
        "Congratulations! You've successfully cooked up an exquisite NLP model. Now, it's time to share your creation with the world."
      ],
      "metadata": {
        "id": "lddEZQKZdZ2g"
      }
    },
    {
      "cell_type": "code",
      "source": [
        "# Saving the model for deployment\n",
        "model_path = \"./flan_t5_deployable_model\"\n",
        "model.save_pretrained(model_path)\n",
        "tokenizer.save_pretrained(model_path)"
      ],
      "metadata": {
        "colab": {
          "base_uri": "https://localhost:8080/"
        },
        "id": "wYeUIZJ9dcNy",
        "outputId": "c9166140-8ba0-40de-a7e2-005b16eb72db"
      },
      "execution_count": null,
      "outputs": [
        {
          "output_type": "execute_result",
          "data": {
            "text/plain": [
              "('./flan_t5_deployable_model/tokenizer_config.json',\n",
              " './flan_t5_deployable_model/special_tokens_map.json',\n",
              " './flan_t5_deployable_model/spiece.model',\n",
              " './flan_t5_deployable_model/added_tokens.json')"
            ]
          },
          "metadata": {},
          "execution_count": 26
        }
      ]
    },
    {
      "cell_type": "markdown",
      "source": [
        "## **🌟The Finished Dish: Model Evaluation**\n",
        "\n",
        "Just like a chef tastes the dish before serving, we evaluate our NLP model. Does it capture the essence of the language? Is it flavorful and precise?"
      ],
      "metadata": {
        "id": "IPcqbsmZc7TN"
      }
    },
    {
      "cell_type": "code",
      "source": [
        "finetuned_model = T5ForConditionalGeneration.from_pretrained(model_path)\n",
        "tokenizer = T5Tokenizer.from_pretrained(model_path)"
      ],
      "metadata": {
        "colab": {
          "base_uri": "https://localhost:8080/"
        },
        "id": "F8m2JxSEbnPu",
        "outputId": "245337d1-a7f9-4307-9f40-6d19cacc64f8"
      },
      "execution_count": null,
      "outputs": [
        {
          "output_type": "stream",
          "name": "stderr",
          "text": [
            "Special tokens have been added in the vocabulary, make sure the associated word embeddings are fine-tuned or trained.\n"
          ]
        }
      ]
    },
    {
      "cell_type": "code",
      "source": [
        "for question in questions:\n",
        "  prompt = \"Please answer to this question: \" + question\n",
        "  print(f\"question : \"  + question)\n",
        "  inputs = tokenizer(prompt, return_tensors=\"pt\")\n",
        "  outputs = finetuned_model.generate(**inputs,max_new_tokens=512)\n",
        "  answer = tokenizer.decode(outputs[0],skip_special_tokens=True)\n",
        "  print(f\"answer: \"  +answer)"
      ],
      "metadata": {
        "colab": {
          "base_uri": "https://localhost:8080/"
        },
        "id": "zBXFNdjpf_Fg",
        "outputId": "d494d034-bd2d-41d6-d319-8552724bafe3"
      },
      "execution_count": null,
      "outputs": [
        {
          "output_type": "stream",
          "name": "stdout",
          "text": [
            "question : What happened to the missing 18.5 minutes on the Watergate tapes?\n",
            "answer: The tapes were re-issued in the United States and the tapes were recovered.\n",
            "question : Why hybrid cars gas mileage is better in city ?\n",
            "answer: Hybrid cars are more efficient than conventional cars. They are more fuel efficient and have a lower noise level.\n",
            "question : What is the meaning of life?\n",
            "answer: Life is a symbiotic relationship between the body and the soul. It is a universal bond between the body and the soul.\n",
            "question : How to boil lobster?\n",
            "answer: You can boil lobster in a pot of water, but you can also use a pot of water.\n"
          ]
        }
      ]
    },
    {
      "cell_type": "markdown",
      "source": [
        "### **Appendix**\n",
        "\n",
        "1. what is Flan T5 model ?  -->  https://blog.research.google/2021/10/introducing-flan-more-generalizable.html\n",
        "2. How to download the model ? --> from  https://huggingface.co/google/flan-t5-base using transfomers library\n",
        "3. How to train the model ? --> using transformers library\n"
      ],
      "metadata": {
        "id": "Isv9uFRuA8fT"
      }
    }
  ]
}